{
 "cells": [
  {
   "cell_type": "markdown",
   "id": "37185a31",
   "metadata": {},
   "source": [
    " # String Based Assignment Problem"
   ]
  },
  {
   "cell_type": "markdown",
   "id": "1b7ed0d5",
   "metadata": {},
   "source": [
    "## 1.Write a program to reverse a string."
   ]
  },
  {
   "cell_type": "code",
   "execution_count": 1,
   "id": "4f67d542",
   "metadata": {},
   "outputs": [
    {
     "name": "stdout",
     "output_type": "stream",
     "text": [
      "enter a string:hello\n",
      "reversed string: olleh\n"
     ]
    }
   ],
   "source": [
    "# Function to reverse a string\n",
    "def reverse_string(input_string):\n",
    "# USing slicing with a step of -1 to reverse the string\n",
    "    reversed_string = input_string[::-1]\n",
    "    return reversed_string\n",
    "\n",
    "#Input string\n",
    "input_str = input(\"enter a string:\")\n",
    "\n",
    "# call the function to reverse the string\n",
    "result = reverse_string(input_str)\n",
    "\n",
    "# Display the reversed string\n",
    "print(\"reversed string:\",result)"
   ]
  },
  {
   "cell_type": "markdown",
   "id": "d482ed9c",
   "metadata": {},
   "source": [
    "## 2.Check if a string is a palindrome."
   ]
  },
  {
   "cell_type": "code",
   "execution_count": 2,
   "id": "6f2a8f22",
   "metadata": {},
   "outputs": [
    {
     "name": "stdout",
     "output_type": "stream",
     "text": [
      "enter a string:222\n",
      "The string is a palindrome.\n"
     ]
    }
   ],
   "source": [
    "# Function to check if a string is a palindrome\n",
    "def is_palindrome(input_string):\n",
    "    # Remove spaces and convert to lowercase for case-insensitive comparison\n",
    "    clean_string = input_string.replace(\" \",\" \").lower()\n",
    "    \n",
    "    # Compare the original string with its reverse\n",
    "    return clean_string == clean_string[::-1]\n",
    "\n",
    "# Input string\n",
    "input_str = input(\"enter a string:\")\n",
    "\n",
    "# Call the function to check if it's a palindrome\n",
    "if is_palindrome(input_str):\n",
    "    print(\"The string is a palindrome.\")\n",
    "else:\n",
    "    print(\"The string is not a palindrome\")\n",
    "    "
   ]
  },
  {
   "cell_type": "markdown",
   "id": "7926bddc",
   "metadata": {},
   "source": [
    "## 3.Convert a string to uppercase."
   ]
  },
  {
   "cell_type": "code",
   "execution_count": 3,
   "id": "8147ac74",
   "metadata": {},
   "outputs": [
    {
     "name": "stdout",
     "output_type": "stream",
     "text": [
      "Enter a string: pw skills\n",
      "Uppercase string: PW SKILLS\n"
     ]
    }
   ],
   "source": [
    "# Input string\n",
    "input_str = input(\"Enter a string: \")\n",
    "\n",
    "# Convert the string to uppercase using str.upper() function\n",
    "uppercase_str = str.upper(input_str)\n",
    "\n",
    "# Display the uppercase string\n",
    "print(\"Uppercase string:\", uppercase_str)"
   ]
  },
  {
   "cell_type": "markdown",
   "id": "06183044",
   "metadata": {},
   "source": [
    "## 4.Convert a string to lowercase."
   ]
  },
  {
   "cell_type": "code",
   "execution_count": 4,
   "id": "0810c9da",
   "metadata": {},
   "outputs": [
    {
     "name": "stdout",
     "output_type": "stream",
     "text": [
      "Enter a string: SKILLS\n",
      "Lowercase string: skills\n"
     ]
    }
   ],
   "source": [
    "# Input string\n",
    "input_str = input(\"Enter a string: \")\n",
    "\n",
    "# Convert the string to lowercase using str.lower() function\n",
    "lowercase_str = str.lower(input_str)\n",
    "\n",
    "# Display the lowercase string\n",
    "print(\"Lowercase string:\", lowercase_str)"
   ]
  },
  {
   "cell_type": "markdown",
   "id": "cca3aea7",
   "metadata": {},
   "source": [
    "## 5.Count the number of vowels in a string."
   ]
  },
  {
   "cell_type": "code",
   "execution_count": 5,
   "id": "73564d55",
   "metadata": {},
   "outputs": [
    {
     "name": "stdout",
     "output_type": "stream",
     "text": [
      "Number of vowels: 5\n"
     ]
    }
   ],
   "source": [
    "def count_vowels(string):\n",
    "    # Initialize a variable to keep track of the vowel count\n",
    "    vowel_count = 0\n",
    "\n",
    "    # Convert the input string to lowercase to handle both upper and lowercase vowels\n",
    "    string = string.lower()\n",
    "\n",
    "    # Define a set of vowels\n",
    "    vowels = set(\"aeiou\")\n",
    "\n",
    "    # Iterate through each character in the string\n",
    "    for char in string:\n",
    "        # Check if the character is a vowel\n",
    "        if char in vowels:\n",
    "            # Increment the vowel count if the character is a vowel\n",
    "            vowel_count += 1\n",
    "\n",
    "    # Return the final vowel count\n",
    "    return vowel_count\n",
    "\n",
    "# Test the function\n",
    "input_string = \"Hey!!!, I am here\"\n",
    "result = count_vowels(input_string)\n",
    "print(\"Number of vowels:\", result)"
   ]
  },
  {
   "cell_type": "markdown",
   "id": "6546b1af",
   "metadata": {},
   "source": [
    "## 6.Count the number of consonants in a string."
   ]
  },
  {
   "cell_type": "code",
   "execution_count": 6,
   "id": "4a397e7e",
   "metadata": {},
   "outputs": [
    {
     "name": "stdout",
     "output_type": "stream",
     "text": [
      "Enter a string: hello World\n",
      "Number of consonants: 7\n"
     ]
    }
   ],
   "source": [
    "# Function to count the number of consonants in a string\n",
    "def count_consonants(input_string):\n",
    "    # Define a set of vowels (both uppercase and lowercase)\n",
    "    vowels = \"aeiouAEIOU\"\n",
    "    \n",
    "    # Initialize a counter to keep track of the number of consonants\n",
    "    consonant_count = 0\n",
    "    \n",
    "    # Iterate through the characters in the input string\n",
    "    for char in input_string:\n",
    "        if char.isalpha() and char not in vowels:\n",
    "            consonant_count += 1\n",
    "    \n",
    "    return consonant_count\n",
    "\n",
    "# Input string\n",
    "input_str = input(\"Enter a string: \")\n",
    "\n",
    "# Call the function to count consonants\n",
    "consonant_count = count_consonants(input_str)\n",
    "\n",
    "# Display the number of consonants in the string\n",
    "print(\"Number of consonants:\", consonant_count)\n"
   ]
  },
  {
   "cell_type": "markdown",
   "id": "5d529186",
   "metadata": {},
   "source": [
    "## 7.Remove all whitespaces from a string."
   ]
  },
  {
   "cell_type": "code",
   "execution_count": 7,
   "id": "98f079e7",
   "metadata": {},
   "outputs": [
    {
     "name": "stdout",
     "output_type": "stream",
     "text": [
      "Enter a string: HELLO HELLO\n",
      "String with whitespaces removed: HELLOHELLO\n"
     ]
    }
   ],
   "source": [
    "# Input string\n",
    "input_str = input(\"Enter a string: \")\n",
    "\n",
    "# Remove whitespaces using str.replace()\n",
    "no_whitespace_str = input_str.replace(\" \", \"\")\n",
    "\n",
    "# Display the string with whitespaces removed\n",
    "print(\"String with whitespaces removed:\", no_whitespace_str)\n"
   ]
  },
  {
   "cell_type": "markdown",
   "id": "97c6d68e",
   "metadata": {},
   "source": [
    "## 8.Find the length of a string without using the `len()` function."
   ]
  },
  {
   "cell_type": "code",
   "execution_count": 8,
   "id": "4d2758bb",
   "metadata": {},
   "outputs": [
    {
     "name": "stdout",
     "output_type": "stream",
     "text": [
      "Enter a string: pwskills\n",
      "Length of the string: 8\n"
     ]
    }
   ],
   "source": [
    "# Input string\n",
    "input_str = input(\"Enter a string: \")\n",
    "\n",
    "# Initialize a counter for the length\n",
    "length = 0\n",
    "\n",
    "# Iterate through the characters in the string\n",
    "for char in input_str:\n",
    "    length += 1\n",
    "\n",
    "# Display the length of the string\n",
    "print(\"Length of the string:\", length)\n"
   ]
  },
  {
   "cell_type": "markdown",
   "id": "6c312be3",
   "metadata": {},
   "source": [
    "## 9.Check if a string contains a specific word."
   ]
  },
  {
   "cell_type": "code",
   "execution_count": 9,
   "id": "87c59f3f",
   "metadata": {},
   "outputs": [
    {
     "name": "stdout",
     "output_type": "stream",
     "text": [
      "Enter a string: pw\n",
      "Enter the word to search for: p\n",
      "The string contains the word 'p'.\n"
     ]
    }
   ],
   "source": [
    "# Input string\n",
    "input_str = input(\"Enter a string: \")\n",
    "\n",
    "# Word to search for\n",
    "search_word = input(\"Enter the word to search for: \")\n",
    "\n",
    "# Check if the word is in the string\n",
    "if search_word in input_str:\n",
    "    print(f\"The string contains the word '{search_word}'.\")\n",
    "else:\n",
    "    print(f\"The string does not contain the word '{search_word}'.\")\n"
   ]
  },
  {
   "cell_type": "markdown",
   "id": "b33e7cca",
   "metadata": {},
   "source": [
    "## 10.Replace a word in a string with another word."
   ]
  },
  {
   "cell_type": "code",
   "execution_count": 12,
   "id": "cc5f80bf",
   "metadata": {},
   "outputs": [
    {
     "name": "stdout",
     "output_type": "stream",
     "text": [
      "Enter a string: World\n",
      "Enter the word to replace: l\n",
      "Enter the replacement word: l\n",
      "Modified string: World\n"
     ]
    }
   ],
   "source": [
    "# Input string\n",
    "input_str = input(\"Enter a string: \")\n",
    "\n",
    "# Word to find and replace\n",
    "word_to_replace = input(\"Enter the word to replace: \")\n",
    "replacement_word = input(\"Enter the replacement word: \")\n",
    "\n",
    "# Perform the replacement\n",
    "new_str = input_str.replace(word_to_replace, replacement_word)\n",
    "\n",
    "# Display the modified string\n",
    "print(\"Modified string:\", new_str)\n"
   ]
  },
  {
   "cell_type": "markdown",
   "id": "8fe36996",
   "metadata": {},
   "source": [
    "## 11.Count the occurrences of a word in a string."
   ]
  },
  {
   "cell_type": "code",
   "execution_count": 13,
   "id": "58334c3d",
   "metadata": {},
   "outputs": [
    {
     "name": "stdout",
     "output_type": "stream",
     "text": [
      "Enter a string: skills\n",
      "Enter the word to count: l\n",
      "The word 'l' appears 0 times in the string.\n"
     ]
    }
   ],
   "source": [
    "# Input string\n",
    "input_str = input(\"Enter a string: \")\n",
    "\n",
    "# Word to count\n",
    "word_to_count = input(\"Enter the word to count: \")\n",
    "\n",
    "# Split the input string into words\n",
    "words = input_str.split()\n",
    "\n",
    "# Initialize a counter for word occurrences\n",
    "word_count = 0\n",
    "\n",
    "# Iterate through the words and count occurrences\n",
    "for word in words:\n",
    "    if word == word_to_count:\n",
    "        word_count += 1\n",
    "\n",
    "# Display the count of word occurrences\n",
    "print(f\"The word '{word_to_count}' appears {word_count} times in the string.\")\n"
   ]
  },
  {
   "cell_type": "markdown",
   "id": "061df7f5",
   "metadata": {},
   "source": [
    "## 12.Find the first occurrence of a word in a string."
   ]
  },
  {
   "cell_type": "code",
   "execution_count": 14,
   "id": "ea450694",
   "metadata": {},
   "outputs": [
    {
     "name": "stdout",
     "output_type": "stream",
     "text": [
      "Enter a string: string intger\n",
      "Enter the word to find: e\n",
      "The first occurrence of 'e' starts at position 11.\n"
     ]
    }
   ],
   "source": [
    "# Input string\n",
    "input_str = input(\"Enter a string: \")\n",
    "\n",
    "# Word to find\n",
    "word_to_find = input(\"Enter the word to find: \")\n",
    "\n",
    "# Find the first occurrence of the word in the string\n",
    "position = input_str.find(word_to_find)\n",
    "\n",
    "# Check if the word was found\n",
    "if position != -1:\n",
    "    print(f\"The first occurrence of '{word_to_find}' starts at position {position}.\")\n",
    "else:\n",
    "    print(f\"'{word_to_find}' was not found in the string.\")\n"
   ]
  },
  {
   "cell_type": "markdown",
   "id": "988c51c9",
   "metadata": {},
   "source": [
    "## 13.Find the last occurrence of a word in a string."
   ]
  },
  {
   "cell_type": "code",
   "execution_count": 15,
   "id": "da5f09bc",
   "metadata": {},
   "outputs": [
    {
     "name": "stdout",
     "output_type": "stream",
     "text": [
      "Enter a string: pwskills\n",
      "Enter the word to find: ll\n",
      "The last occurrence of 'll' starts at position 5.\n"
     ]
    }
   ],
   "source": [
    "# Input string\n",
    "input_str = input(\"Enter a string: \")\n",
    "\n",
    "# Word to find\n",
    "word_to_find = input(\"Enter the word to find: \")\n",
    "\n",
    "# Find the last occurrence of the word in the string\n",
    "position = input_str.rfind(word_to_find)\n",
    "\n",
    "# Check if the word was found\n",
    "if position != -1:\n",
    "    print(f\"The last occurrence of '{word_to_find}' starts at position {position}.\")\n",
    "else:\n",
    "    print(f\"'{word_to_find}' was not found in the string.\")\n"
   ]
  },
  {
   "cell_type": "markdown",
   "id": "6d6542a0",
   "metadata": {},
   "source": [
    "## 14.Split a string into a list of words."
   ]
  },
  {
   "cell_type": "code",
   "execution_count": 16,
   "id": "68b2d07a",
   "metadata": {},
   "outputs": [
    {
     "name": "stdout",
     "output_type": "stream",
     "text": [
      "Enter a string: pw skills\n",
      "List of words: ['pw', 'skills']\n"
     ]
    }
   ],
   "source": [
    "# Input string\n",
    "input_str = input(\"Enter a string: \")\n",
    "\n",
    "# Split the input string into a list of words\n",
    "words = input_str.split()\n",
    "\n",
    "# Display the list of words\n",
    "print(\"List of words:\", words)\n"
   ]
  },
  {
   "cell_type": "markdown",
   "id": "5f30cf48",
   "metadata": {},
   "source": [
    "## 15.Join a list of words into a string."
   ]
  },
  {
   "cell_type": "code",
   "execution_count": 17,
   "id": "673f8fe6",
   "metadata": {},
   "outputs": [
    {
     "name": "stdout",
     "output_type": "stream",
     "text": [
      "Joined string: Hello world this is a sample string\n"
     ]
    }
   ],
   "source": [
    "# List of words\n",
    "words = ['Hello', 'world', 'this', 'is', 'a', 'sample', 'string']\n",
    "\n",
    "# Join the list of words into a string with spaces as the separator\n",
    "joined_string = ' '.join(words)\n",
    "\n",
    "# Display the joined string\n",
    "print(\"Joined string:\", joined_string)\n"
   ]
  },
  {
   "cell_type": "markdown",
   "id": "91cce296",
   "metadata": {},
   "source": [
    "## 16.Convert a string where words are separated by spaces to one where words are separated by underscores."
   ]
  },
  {
   "cell_type": "code",
   "execution_count": 18,
   "id": "d20bd8ab",
   "metadata": {},
   "outputs": [
    {
     "name": "stdout",
     "output_type": "stream",
     "text": [
      "Enter a string with spaces: hello heloo\n",
      "String with underscores: hello_heloo\n"
     ]
    }
   ],
   "source": [
    "# Input string with spaces\n",
    "input_str = input(\"Enter a string with spaces: \")\n",
    "\n",
    "# Replace spaces with underscores\n",
    "underscored_str = input_str.replace(\" \", \"_\")\n",
    "\n",
    "# Display the string with underscores\n",
    "print(\"String with underscores:\", underscored_str)"
   ]
  },
  {
   "cell_type": "markdown",
   "id": "b0b320b6",
   "metadata": {},
   "source": [
    "## 17.Check if a string starts with a specific word or phrase."
   ]
  },
  {
   "cell_type": "code",
   "execution_count": 19,
   "id": "3577e391",
   "metadata": {},
   "outputs": [
    {
     "name": "stdout",
     "output_type": "stream",
     "text": [
      "Enter a string: worldworld\n",
      "Enter the word or phrase to check for: o\n",
      "The string does not start with 'o'.\n"
     ]
    }
   ],
   "source": [
    "# Input string\n",
    "input_str = input(\"Enter a string: \")\n",
    "\n",
    "# Word or phrase to check for\n",
    "word_to_check = input(\"Enter the word or phrase to check for: \")\n",
    "\n",
    "# Check if the string starts with the specified word or phrase\n",
    "if input_str.startswith(word_to_check):\n",
    "    print(f\"The string starts with '{word_to_check}'.\")\n",
    "else:\n",
    "    print(f\"The string does not start with '{word_to_check}'.\")\n"
   ]
  },
  {
   "cell_type": "markdown",
   "id": "f9d1396b",
   "metadata": {},
   "source": [
    "## 18.Check if a string ends with a specific word or phrase."
   ]
  },
  {
   "cell_type": "code",
   "execution_count": 20,
   "id": "24ffdb92",
   "metadata": {},
   "outputs": [
    {
     "name": "stdout",
     "output_type": "stream",
     "text": [
      "Enter a string: pw skills\n",
      "Enter the word or phrase to check for: i\n",
      "The string does not end with 'i'.\n"
     ]
    }
   ],
   "source": [
    "# Input string\n",
    "input_str = input(\"Enter a string: \")\n",
    "\n",
    "# Word or phrase to check for\n",
    "word_to_check = input(\"Enter the word or phrase to check for: \")\n",
    "\n",
    "# Check if the string ends with the specified word or phrase\n",
    "if input_str.endswith(word_to_check):\n",
    "    print(f\"The string ends with '{word_to_check}'.\")\n",
    "else:\n",
    "    print(f\"The string does not end with '{word_to_check}'.\")\n"
   ]
  },
  {
   "cell_type": "markdown",
   "id": "8f8537d6",
   "metadata": {},
   "source": [
    "## 19.Convert a string to title case (e.g., \"hello world\" to \"Hello World\")."
   ]
  },
  {
   "cell_type": "code",
   "execution_count": 21,
   "id": "6c81fc7f",
   "metadata": {},
   "outputs": [
    {
     "name": "stdout",
     "output_type": "stream",
     "text": [
      "Hello World\n"
     ]
    }
   ],
   "source": [
    "input_string = \"hello world\"\n",
    "title_case_string = input_string.title()\n",
    "print(title_case_string)\n"
   ]
  },
  {
   "cell_type": "markdown",
   "id": "815e06a5",
   "metadata": {},
   "source": [
    "## 20.Find the longest word in a string."
   ]
  },
  {
   "cell_type": "code",
   "execution_count": 22,
   "id": "f7f5f0e8",
   "metadata": {},
   "outputs": [
    {
     "name": "stdout",
     "output_type": "stream",
     "text": [
      "Longest word: sentence\n"
     ]
    }
   ],
   "source": [
    "def find_longest_word(input_string):\n",
    "    # Split the input string into words\n",
    "    words = input_string.split()\n",
    "\n",
    "    # Initialize variables to keep track of the longest word and its length\n",
    "    longest_word = \"\"\n",
    "    max_length = 0\n",
    "\n",
    "    # Iterate through the words\n",
    "    for word in words:\n",
    "        # Check if the current word is longer than the previous longest word\n",
    "        if len(word) > max_length:\n",
    "            max_length = len(word)\n",
    "            longest_word = word\n",
    "\n",
    "    return longest_word\n",
    "\n",
    "# Example usage:\n",
    "input_string = \"This is a sample sentence to find the longest word\"\n",
    "longest_word = find_longest_word(input_string)\n",
    "print(\"Longest word:\", longest_word)\n"
   ]
  },
  {
   "cell_type": "markdown",
   "id": "810ce545",
   "metadata": {},
   "source": [
    "## 21.Find the shortest word in a string."
   ]
  },
  {
   "cell_type": "code",
   "execution_count": 23,
   "id": "6e4383f5",
   "metadata": {},
   "outputs": [
    {
     "name": "stdout",
     "output_type": "stream",
     "text": [
      "Shortest word: is\n"
     ]
    }
   ],
   "source": [
    "def find_shortest_word(text):\n",
    "    # Step 1: Use the split() method to split the text into a list of words.\n",
    "    words = text.split()\n",
    "\n",
    "    # Step 2: Initialize variables to keep track of the shortest word and its length.\n",
    "    shortest_word = None\n",
    "    min_length = float('inf')  # Initialize to a large value\n",
    "\n",
    "    # Step 3: Iterate through the list of words.\n",
    "    for word in words:\n",
    "        # Check if the length of the current word is smaller than the current min_length.\n",
    "        if len(word) < min_length:\n",
    "            min_length = len(word)\n",
    "            shortest_word = word\n",
    "\n",
    "    # Step 4: Return the shortest word.\n",
    "    return shortest_word\n",
    "\n",
    "# Example usage\n",
    "text = \"This is an example sentence with some short words.\"\n",
    "shortest_word = find_shortest_word(text)\n",
    "print(\"Shortest word:\", shortest_word)"
   ]
  },
  {
   "cell_type": "markdown",
   "id": "bb210565",
   "metadata": {},
   "source": [
    "## 22.Reverse the order of words in a string."
   ]
  },
  {
   "cell_type": "code",
   "execution_count": 24,
   "id": "be2b631c",
   "metadata": {},
   "outputs": [
    {
     "name": "stdout",
     "output_type": "stream",
     "text": [
      "Shortest word: is\n"
     ]
    }
   ],
   "source": [
    "def find_shortest_word(text):\n",
    "    # Step 1: Use the split() method to split the text into a list of words.\n",
    "    words = text.split()\n",
    "\n",
    "    # Step 2: Initialize variables to keep track of the shortest word and its length.\n",
    "    shortest_word = None\n",
    "    min_length = float('inf')  # Initialize to a large value\n",
    "\n",
    "    # Step 3: Iterate through the list of words.\n",
    "    for word in words:\n",
    "        # Check if the length of the current word is smaller than the current min_length.\n",
    "        if len(word) < min_length:\n",
    "            min_length = len(word)\n",
    "            shortest_word = word\n",
    "\n",
    "    # Step 4: Return the shortest word.\n",
    "    return shortest_word\n",
    "\n",
    "# Example usage\n",
    "text = \"This is an example sentence with some short words.\"\n",
    "shortest_word = find_shortest_word(text)\n",
    "print(\"Shortest word:\", shortest_word)"
   ]
  },
  {
   "cell_type": "markdown",
   "id": "16400e8f",
   "metadata": {},
   "source": [
    "## 23.Check if a string is alphanumeric."
   ]
  },
  {
   "cell_type": "code",
   "execution_count": 25,
   "id": "58bf6352",
   "metadata": {},
   "outputs": [
    {
     "name": "stdout",
     "output_type": "stream",
     "text": [
      "The string is alphanumeric.\n"
     ]
    }
   ],
   "source": [
    "def is_alphanumeric(text):\n",
    "    # Step 1: Use the isalnum() method to check if the string is alphanumeric.\n",
    "    return text.isalnum()\n",
    "\n",
    "# Example usage\n",
    "text = \"Hello123\"\n",
    "result = is_alphanumeric(text)\n",
    "if result:\n",
    "    print(\"The string is alphanumeric.\")\n",
    "else:\n",
    "    print(\"The string is not alphanumeric.\")"
   ]
  },
  {
   "cell_type": "markdown",
   "id": "a4f281ec",
   "metadata": {},
   "source": [
    "## 24.Extract all digits from a string."
   ]
  },
  {
   "cell_type": "code",
   "execution_count": 26,
   "id": "7ea59db2",
   "metadata": {},
   "outputs": [
    {
     "name": "stdout",
     "output_type": "stream",
     "text": [
      "Extracted digits: 123456\n"
     ]
    }
   ],
   "source": [
    "def extract_digits(text):\n",
    "    # Step 1: Initialize an empty string to store the extracted digits.\n",
    "    digits = \"\"\n",
    "\n",
    "    # Step 2: Iterate through each character in the text.\n",
    "    for char in text:\n",
    "        # Check if the character is a digit using the isdigit() method.\n",
    "        if char.isdigit():\n",
    "            # Append the digit to the digits string.\n",
    "            digits += char\n",
    "\n",
    "    # Step 3: Return the extracted digits.\n",
    "    return digits\n",
    "\n",
    "# Example usage\n",
    "text = \"Hello123World456\"\n",
    "extracted_digits = extract_digits(text)\n",
    "print(\"Extracted digits:\", extracted_digits)"
   ]
  },
  {
   "cell_type": "markdown",
   "id": "7bfdcfbd",
   "metadata": {},
   "source": [
    "## 25.Extract all alphabets from a string."
   ]
  },
  {
   "cell_type": "code",
   "execution_count": 27,
   "id": "1f463198",
   "metadata": {},
   "outputs": [
    {
     "name": "stdout",
     "output_type": "stream",
     "text": [
      "H e l l o W o r l d\n"
     ]
    }
   ],
   "source": [
    "def extract_alphabets(input_string):\n",
    "    alphabets = ' '.join([char for char in input_string if char.isalpha()])\n",
    "    return alphabets\n",
    "\n",
    "# Example input string\n",
    "input_string = \"Hello123World456\"\n",
    "result = extract_alphabets(input_string)\n",
    "print(result)"
   ]
  },
  {
   "cell_type": "markdown",
   "id": "401c4f5f",
   "metadata": {},
   "source": [
    "## 26.Count the number of uppercase letters in a string."
   ]
  },
  {
   "cell_type": "code",
   "execution_count": 28,
   "id": "59c299bb",
   "metadata": {},
   "outputs": [
    {
     "name": "stdout",
     "output_type": "stream",
     "text": [
      "6\n"
     ]
    }
   ],
   "source": [
    "def count_uppercase(input_string):\n",
    "    uppercase_count = sum(1 for char in input_string if char.isupper())\n",
    "    return uppercase_count\n",
    "\n",
    "# Example input string\n",
    "input_string = \"HelloWORLD\"\n",
    "result = count_uppercase(input_string)\n",
    "print(result)"
   ]
  },
  {
   "cell_type": "markdown",
   "id": "d2a2127c",
   "metadata": {},
   "source": [
    "## 27.Count the number of lowercase letters in a string."
   ]
  },
  {
   "cell_type": "code",
   "execution_count": 29,
   "id": "87ba1754",
   "metadata": {},
   "outputs": [
    {
     "name": "stdout",
     "output_type": "stream",
     "text": [
      "4\n"
     ]
    }
   ],
   "source": [
    "def count_lowercase(input_string):\n",
    "    lowercase_count = sum(1 for char in input_string if char.islower())\n",
    "    return lowercase_count\n",
    "\n",
    "# Example input string\n",
    "input_string = \"HelloWORLD\"\n",
    "result = count_lowercase(input_string)\n",
    "print(result)"
   ]
  },
  {
   "cell_type": "markdown",
   "id": "745ab9f4",
   "metadata": {},
   "source": [
    "## 28.Swap the case of each character in a string."
   ]
  },
  {
   "cell_type": "code",
   "execution_count": 30,
   "id": "24eec505",
   "metadata": {},
   "outputs": [
    {
     "name": "stdout",
     "output_type": "stream",
     "text": [
      "hELLOworld\n"
     ]
    }
   ],
   "source": [
    "def swap_case(input_string):\n",
    "    swapped_string = input_string.swapcase()\n",
    "    return swapped_string\n",
    "\n",
    "# Example input string\n",
    "input_string = \"HelloWORLD\"\n",
    "result = swap_case(input_string)\n",
    "print(result)"
   ]
  },
  {
   "cell_type": "markdown",
   "id": "56f3af31",
   "metadata": {},
   "source": [
    "## 29.Remove a specific word from a string."
   ]
  },
  {
   "cell_type": "code",
   "execution_count": 31,
   "id": "93a210ed",
   "metadata": {},
   "outputs": [
    {
     "name": "stdout",
     "output_type": "stream",
     "text": [
      "Hello world, welcome to the of programming.\n"
     ]
    }
   ],
   "source": [
    "def remove_word(input_string, word_to_remove):\n",
    "    words = input_string.split()  # Split the input string into a list of words\n",
    "    filtered_words = [word for word in words if word != word_to_remove]  # Create a new list excluding the word to remove\n",
    "    modified_string = ' '.join(filtered_words)  # Join the filtered words back into a string\n",
    "    return modified_string\n",
    "\n",
    "# Example input string and word to remove\n",
    "input_string = \"Hello world, welcome to the world of programming.\"\n",
    "word_to_remove = \"world\"\n",
    "result = remove_word(input_string, word_to_remove)\n",
    "print(result)"
   ]
  },
  {
   "cell_type": "markdown",
   "id": "e9a0a357",
   "metadata": {},
   "source": [
    "## 30.Check if a string is a valid email address."
   ]
  },
  {
   "cell_type": "code",
   "execution_count": 32,
   "id": "f9420e33",
   "metadata": {},
   "outputs": [
    {
     "name": "stdout",
     "output_type": "stream",
     "text": [
      "True\n",
      "False\n"
     ]
    }
   ],
   "source": [
    "import re  # Import the regular expression module\n",
    "\n",
    "def is_valid_email(email):\n",
    "    pattern = r'^[\\w\\.-]+@[\\w\\.-]+\\.\\w+$'  # Regular expression pattern for a basic email validation\n",
    "    if re.match(pattern, email):\n",
    "        return True\n",
    "    else:\n",
    "        return False\n",
    "\n",
    "# Example email addresses\n",
    "email1 = \"example@email.com\"\n",
    "email2 = \"invalid-email\"\n",
    "result1 = is_valid_email(email1)\n",
    "result2 = is_valid_email(email2)\n",
    "print(result1)\n",
    "print(result2)"
   ]
  },
  {
   "cell_type": "markdown",
   "id": "29f4fc97",
   "metadata": {},
   "source": [
    "## 31.Extract the username from an email address string."
   ]
  },
  {
   "cell_type": "code",
   "execution_count": 33,
   "id": "b1699f2b",
   "metadata": {},
   "outputs": [
    {
     "name": "stdout",
     "output_type": "stream",
     "text": [
      "example\n"
     ]
    }
   ],
   "source": [
    "def extract_username(email):\n",
    "    username = email.split('@')[0]  # Split the email address at \"@\" and take the first part\n",
    "    return username\n",
    "\n",
    "# Example email address\n",
    "email = \"example@email.com\"\n",
    "result = extract_username(email)\n",
    "print(result)"
   ]
  },
  {
   "cell_type": "markdown",
   "id": "a0315794",
   "metadata": {},
   "source": [
    "## 32.Extract the domain name from an email address string."
   ]
  },
  {
   "cell_type": "code",
   "execution_count": 34,
   "id": "7d6232c2",
   "metadata": {},
   "outputs": [
    {
     "name": "stdout",
     "output_type": "stream",
     "text": [
      "email.com\n"
     ]
    }
   ],
   "source": [
    "def extract_domain(email):\n",
    "    domain = email.split('@')[1]  # Split the email address at \"@\" and take the second part\n",
    "    return domain\n",
    "\n",
    "# Example email address\n",
    "email = \"example@email.com\"\n",
    "result = extract_domain(email)\n",
    "print(result)"
   ]
  },
  {
   "cell_type": "markdown",
   "id": "2f2f8470",
   "metadata": {},
   "source": [
    "## 33.Replace multiple spaces in a string with a single space."
   ]
  },
  {
   "cell_type": "code",
   "execution_count": 35,
   "id": "0bd7ea0c",
   "metadata": {},
   "outputs": [
    {
     "name": "stdout",
     "output_type": "stream",
     "text": [
      "Hello world! How are you?\n"
     ]
    }
   ],
   "source": [
    "def replace_multiple_spaces(input_string):\n",
    "    cleaned_string = ' '.join(input_string.split())  # Split the string at spaces and then join using a single space\n",
    "    return cleaned_string\n",
    "\n",
    "# Example input string with multiple spaces\n",
    "input_string = \"Hello     world!   How   are   you?\"\n",
    "result = replace_multiple_spaces(input_string)\n",
    "print(result)"
   ]
  },
  {
   "cell_type": "markdown",
   "id": "6e6d6d18",
   "metadata": {},
   "source": [
    "## 34.Check if a string is a valid URL."
   ]
  },
  {
   "cell_type": "code",
   "execution_count": 36,
   "id": "3009ebc5",
   "metadata": {},
   "outputs": [
    {
     "name": "stdout",
     "output_type": "stream",
     "text": [
      "True\n",
      "False\n"
     ]
    }
   ],
   "source": [
    "from urllib.parse import urlparse\n",
    "\n",
    "def is_valid_url(url):\n",
    "    try:\n",
    "        result = urlparse(url)\n",
    "        return all([result.scheme, result.netloc])  # Check if both scheme and netloc are present\n",
    "    except ValueError:\n",
    "        return False\n",
    "\n",
    "# Example URLs\n",
    "url1 = \"https://www.example.com\"\n",
    "url2 = \"invalid-url\"\n",
    "result1 = is_valid_url(url1)\n",
    "result2 = is_valid_url(url2)\n",
    "print(result1)  # Should print True\n",
    "print(result2)  # Should print False"
   ]
  },
  {
   "cell_type": "markdown",
   "id": "e9587920",
   "metadata": {},
   "source": [
    "## 35.Extract the protocol (http or https) from a URL string."
   ]
  },
  {
   "cell_type": "code",
   "execution_count": 37,
   "id": "58e21d71",
   "metadata": {},
   "outputs": [
    {
     "name": "stdout",
     "output_type": "stream",
     "text": [
      "Protocol 1: https\n",
      "Protocol 2: http\n",
      "Protocol 3: ftp\n"
     ]
    }
   ],
   "source": [
    "def extract_protocol(url):\n",
    "    # Find the index of the first occurrence of \"://\"\n",
    "    protocol_end = url.find(\"://\")\n",
    "\n",
    "    if protocol_end != -1:\n",
    "        # Extract the protocol from the URL\n",
    "        protocol = url[:protocol_end]\n",
    "        return protocol\n",
    "    else:\n",
    "        return None\n",
    "\n",
    "# Example URL strings\n",
    "url1 = \"https://www.example.com\"\n",
    "url2 = \"http://google.com\"\n",
    "url3 = \"ftp://ftp.example.com\"\n",
    "\n",
    "# Extract protocols\n",
    "protocol1 = extract_protocol(url1)\n",
    "protocol2 = extract_protocol(url2)\n",
    "protocol3 = extract_protocol(url3)\n",
    "\n",
    "# Print extracted protocols\n",
    "print(\"Protocol 1:\", protocol1)\n",
    "print(\"Protocol 2:\", protocol2)\n",
    "print(\"Protocol 3:\", protocol3)"
   ]
  },
  {
   "cell_type": "markdown",
   "id": "16c4b212",
   "metadata": {},
   "source": [
    "## 36.Find the frequency of each character in a string."
   ]
  },
  {
   "cell_type": "code",
   "execution_count": 38,
   "id": "5944ce23",
   "metadata": {},
   "outputs": [
    {
     "name": "stdout",
     "output_type": "stream",
     "text": [
      "Character: 'h', Frequency: 1\n",
      "Character: 'e', Frequency: 1\n",
      "Character: 'l', Frequency: 3\n",
      "Character: 'o', Frequency: 2\n",
      "Character: ' ', Frequency: 1\n",
      "Character: 'w', Frequency: 1\n",
      "Character: 'r', Frequency: 1\n",
      "Character: 'd', Frequency: 1\n"
     ]
    }
   ],
   "source": [
    "def character_frequency(input_string):\n",
    "    frequency = {}  # Create an empty dictionary to store character frequencies\n",
    "\n",
    "    for char in input_string:\n",
    "        if char in frequency:\n",
    "            frequency[char] += 1  # Increment the frequency count if the character is already in the dictionary\n",
    "        else:\n",
    "            frequency[char] = 1   # Initialize the frequency count to 1 if the character is not in the dictionary\n",
    "\n",
    "    return frequency\n",
    "\n",
    "# Example string\n",
    "input_str = \"hello world\"\n",
    "\n",
    "# Calculate character frequencies\n",
    "char_freq = character_frequency(input_str)\n",
    "\n",
    "# Print character frequencies\n",
    "for char, freq in char_freq.items():\n",
    "    print(f\"Character: '{char}', Frequency: {freq}\")"
   ]
  },
  {
   "cell_type": "markdown",
   "id": "1db6c313",
   "metadata": {},
   "source": [
    "## 37.Remove all punctuation from a string.\n"
   ]
  },
  {
   "cell_type": "code",
   "execution_count": 39,
   "id": "06c09651",
   "metadata": {},
   "outputs": [
    {
     "name": "stdout",
     "output_type": "stream",
     "text": [
      "Original string: Hello, world! How's it going?\n",
      "Cleaned string: Hello world Hows it going\n"
     ]
    }
   ],
   "source": [
    "import string\n",
    "\n",
    "def remove_punctuation(input_string):\n",
    "    # Create a translation table to remove punctuation\n",
    "    translator = str.maketrans(\"\", \"\", string.punctuation)\n",
    "\n",
    "    # Use the translation table to remove punctuation from the input string\n",
    "    clean_string = input_string.translate(translator)\n",
    "\n",
    "    return clean_string\n",
    "\n",
    "# Example string with punctuation\n",
    "input_str = \"Hello, world! How's it going?\"\n",
    "\n",
    "# Remove punctuation\n",
    "cleaned_str = remove_punctuation(input_str)\n",
    "\n",
    "# Print the cleaned string\n",
    "print(\"Original string:\", input_str)\n",
    "print(\"Cleaned string:\", cleaned_str)"
   ]
  },
  {
   "cell_type": "markdown",
   "id": "9fbdd5f3",
   "metadata": {},
   "source": [
    "## 38.Check if a string contains only digits."
   ]
  },
  {
   "cell_type": "code",
   "execution_count": 40,
   "id": "166592d0",
   "metadata": {},
   "outputs": [
    {
     "name": "stdout",
     "output_type": "stream",
     "text": [
      "'12345' contains only digits: True\n",
      "'Hello123' contains only digits: False\n",
      "'456.789' contains only digits: False\n"
     ]
    }
   ],
   "source": [
    "def contains_only_digits(input_string):\n",
    "    # Check if all characters in the string are digits\n",
    "    return input_string.isdigit()\n",
    "\n",
    "# Example strings\n",
    "string1 = \"12345\"\n",
    "string2 = \"Hello123\"\n",
    "string3 = \"456.789\"\n",
    "\n",
    "# Check if strings contain only digits\n",
    "result1 = contains_only_digits(string1)\n",
    "result2 = contains_only_digits(string2)\n",
    "result3 = contains_only_digits(string3)\n",
    "\n",
    "# Print the results\n",
    "print(f\"'{string1}' contains only digits:\", result1)\n",
    "print(f\"'{string2}' contains only digits:\", result2)\n",
    "print(f\"'{string3}' contains only digits:\", result3)"
   ]
  },
  {
   "cell_type": "markdown",
   "id": "0380421d",
   "metadata": {},
   "source": [
    "## 39.Check if a string contains only alphabets."
   ]
  },
  {
   "cell_type": "code",
   "execution_count": 41,
   "id": "0727327c",
   "metadata": {},
   "outputs": [
    {
     "name": "stdout",
     "output_type": "stream",
     "text": [
      "'Hello' contains only alphabets: True\n",
      "'Hello123' contains only alphabets: False\n",
      "'12345' contains only alphabets: False\n"
     ]
    }
   ],
   "source": [
    "def contains_only_alphabets(input_string):\n",
    "    # Check if all characters in the string are alphabetic\n",
    "    return input_string.isalpha()\n",
    "\n",
    "# Example strings\n",
    "string1 = \"Hello\"\n",
    "string2 = \"Hello123\"\n",
    "string3 = \"12345\"\n",
    "\n",
    "# Check if strings contain only alphabets\n",
    "result1 = contains_only_alphabets(string1)\n",
    "result2 = contains_only_alphabets(string2)\n",
    "result3 = contains_only_alphabets(string3)\n",
    "\n",
    "# Print the results\n",
    "print(f\"'{string1}' contains only alphabets:\", result1)\n",
    "print(f\"'{string2}' contains only alphabets:\", result2)\n",
    "print(f\"'{string3}' contains only alphabets:\", result3)"
   ]
  },
  {
   "cell_type": "markdown",
   "id": "cf7e4352",
   "metadata": {},
   "source": [
    "## 40.Convert a string to a list of characters."
   ]
  },
  {
   "cell_type": "code",
   "execution_count": 42,
   "id": "1ff16ee7",
   "metadata": {},
   "outputs": [
    {
     "name": "stdout",
     "output_type": "stream",
     "text": [
      "Original string: Hello, world!\n",
      "List of characters: ['H', 'e', 'l', 'l', 'o', ',', ' ', 'w', 'o', 'r', 'l', 'd', '!']\n"
     ]
    }
   ],
   "source": [
    "def string_to_list(input_string):\n",
    "    # Use list() constructor to convert the string to a list of characters\n",
    "    char_list = list(input_string)\n",
    "    return char_list\n",
    "\n",
    "# Example string\n",
    "input_str = \"Hello, world!\"\n",
    "\n",
    "# Convert the string to a list of characters\n",
    "char_list = string_to_list(input_str)\n",
    "\n",
    "# Print the list of characters\n",
    "print(\"Original string:\", input_str)\n",
    "print(\"List of characters:\", char_list)"
   ]
  },
  {
   "cell_type": "markdown",
   "id": "091916d0",
   "metadata": {},
   "source": [
    "# 41.Check if two strings are anagrams."
   ]
  },
  {
   "cell_type": "code",
   "execution_count": 43,
   "id": "b44bedc3",
   "metadata": {},
   "outputs": [
    {
     "name": "stdout",
     "output_type": "stream",
     "text": [
      "' listen ' and ' silent ' are anagrams: True\n",
      "' hello ' and ' world ' are anagrams: False\n"
     ]
    }
   ],
   "source": [
    "def are_anagrams(str1,str2):\n",
    "    # Remove spaces and convert strings to lowercase for accurate comparison\n",
    "    str1 = str1.replace(\" \",\"\").lower()\n",
    "    str2 = str2.replace(\" \",\"\").lower()\n",
    "    \n",
    "    # Sort the characters in both string and compare\n",
    "    return sorted(str1) == sorted(str2)\n",
    "\n",
    "# Example strings\n",
    "string1 = \" listen \"\n",
    "string2 = \" silent \"\n",
    "string3 = \" hello \"\n",
    "string4 = \" world \"\n",
    "\n",
    "# Check if strings are anagrams\n",
    "result1 = are_anagrams(string1,string2)\n",
    "result2 = are_anagrams(string3,string4)\n",
    "\n",
    "#print the results\n",
    "print(f\"'{string1}' and '{string2}' are anagrams:\", result1)\n",
    "print(f\"'{string3}' and '{string4}' are anagrams:\", result2)"
   ]
  },
  {
   "cell_type": "markdown",
   "id": "28103ae7",
   "metadata": {},
   "source": [
    "# 42.Encode a string using a Caesar cipher."
   ]
  },
  {
   "cell_type": "code",
   "execution_count": 44,
   "id": "d2c1a137",
   "metadata": {},
   "outputs": [
    {
     "name": "stdout",
     "output_type": "stream",
     "text": [
      "Encoded text: ehoor, zruog!\n"
     ]
    }
   ],
   "source": [
    "# Define a function named caesar_cipher that encodes a string using a Caesar cipher.\n",
    "def caesar_cipher(text, shift):\n",
    "  \"\"\"\n",
    "  Encodes a string using a Caesar cipher.\n",
    "\n",
    "  Args:\n",
    "    text: The string to encode.\n",
    "    shift: The number of positions to shift each letter.\n",
    "\n",
    "  Returns:\n",
    "    The encoded string.\n",
    "  \"\"\"\n",
    "\n",
    "  # Initialize an empty string to store the encoded text.\n",
    "  encoded_text = \"\"\n",
    "\n",
    "  # Iterate through each character in the input text.\n",
    "  for char in text:\n",
    "    # Check if the character is alphabetic.\n",
    "    if char.isalpha():\n",
    "      # Calculate the encoded character's Unicode code point value by shifting it by the specified amount.\n",
    "      # Ensure the value wraps around within the lowercase alphabet range (a-z).\n",
    "      encoded_char = chr((ord(char) + shift - ord('a')) % 26 + ord('a'))\n",
    "    else:\n",
    "      # Keep non-alphabetic characters unchanged.\n",
    "      encoded_char = char\n",
    "\n",
    "    # Add the encoded character to the encoded text.\n",
    "    encoded_text += encoded_char\n",
    "\n",
    "  # Return the resulting encoded text.\n",
    "  return encoded_text\n",
    "\n",
    "# Define the input text and the shift value for encoding.\n",
    "text = \"Hello, world!\"\n",
    "shift = 3\n",
    "\n",
    "# Call the caesar_cipher function to encode the text using the specified shift.\n",
    "encoded_text = caesar_cipher(text, shift)\n",
    "\n",
    "# Print the encoded text.\n",
    "print(\"Encoded text:\", encoded_text)"
   ]
  },
  {
   "cell_type": "markdown",
   "id": "3f3a869d",
   "metadata": {},
   "source": [
    "# 43.Decode a caesar cipher encoded string."
   ]
  },
  {
   "cell_type": "code",
   "execution_count": 45,
   "id": "0db7f74f",
   "metadata": {},
   "outputs": [
    {
     "name": "stdout",
     "output_type": "stream",
     "text": [
      "Decoded text: ilmm, world!\n"
     ]
    }
   ],
   "source": [
    "# Define a function to decode a string using a Caesar cipher\n",
    "def caesar_cipher_decoder(text, shift):\n",
    "    \"\"\"\n",
    "    Decodes a string using a Caesar cipher.\n",
    "\n",
    "    Args:\n",
    "        text: The string to decode.\n",
    "        shift: The number of positions to shift each letter.\n",
    "\n",
    "    Returns:\n",
    "        The decoded string.\n",
    "    \"\"\"\n",
    "\n",
    "    # Initialize an empty string to store the decoded text\n",
    "    decoded_text = \"\"\n",
    "\n",
    "    # Loop through each character in the input text\n",
    "    for char in text:\n",
    "        # Check if the character is an alphabetic character\n",
    "        if char.isalpha():\n",
    "            # Calculate the decoded character using the shift value\n",
    "            decoded_char = chr((ord(char) - shift - ord('a')) % 26 + ord('a'))\n",
    "        else:\n",
    "            # If the character is not alphabetic, keep it unchanged\n",
    "            decoded_char = char\n",
    "\n",
    "        # Add the decoded character to the decoded text\n",
    "        decoded_text += decoded_char\n",
    "\n",
    "    # Return the fully decoded text\n",
    "    return decoded_text\n",
    "\n",
    "# Example input\n",
    "text = \"lopp, zruog!\"\n",
    "shift = 3\n",
    "\n",
    "# Call the caesar_cipher_decoder function to decode the input text\n",
    "decoded_text = caesar_cipher_decoder(text, shift)\n",
    "\n",
    "# Print the decoded text\n",
    "print(\"Decoded text:\", decoded_text)"
   ]
  },
  {
   "cell_type": "markdown",
   "id": "d16d146e",
   "metadata": {},
   "source": [
    "# 44.Find the most frequent word in a string."
   ]
  },
  {
   "cell_type": "code",
   "execution_count": 46,
   "id": "fb6ed01c",
   "metadata": {},
   "outputs": [
    {
     "name": "stdout",
     "output_type": "stream",
     "text": [
      "Most frequent word: hello\n"
     ]
    }
   ],
   "source": [
    "import re\n",
    "from collections import Counter\n",
    "\n",
    "def most_frequent_word(input_string):\n",
    "    # Remove punctuation and convert to lowercase\n",
    "    clean_string = re.sub(r'[^\\w\\s]', '', input_string).lower()\n",
    "\n",
    "    # Split the string into words\n",
    "    words = clean_string.split()\n",
    "\n",
    "    # Use Counter to count word frequencies\n",
    "    word_counter = Counter(words)\n",
    "\n",
    "    # Find the most common word\n",
    "    most_common_word = word_counter.most_common(1)[0][0]\n",
    "    return most_common_word\n",
    "\n",
    "# Example string\n",
    "input_str = \"Hello world, hello there! How's the world?\"\n",
    "\n",
    "# Find the most frequent word\n",
    "most_common = most_frequent_word(input_str)\n",
    "\n",
    "# Print the result\n",
    "print(\"Most frequent word:\", most_common)"
   ]
  },
  {
   "cell_type": "markdown",
   "id": "71af442b",
   "metadata": {},
   "source": [
    "# 45.Find all unique words in a string."
   ]
  },
  {
   "cell_type": "code",
   "execution_count": 47,
   "id": "beefc366",
   "metadata": {},
   "outputs": [
    {
     "name": "stdout",
     "output_type": "stream",
     "text": [
      "Unique words: {'the', 'hows', 'hello', 'there', 'world'}\n"
     ]
    }
   ],
   "source": [
    "import re\n",
    "\n",
    "def unique_words(input_string):\n",
    "    # Remove punctuation and convert to lowercase\n",
    "    clean_string = re.sub(r'[^\\w\\s]', '', input_string).lower()\n",
    "\n",
    "    # Split the string into words and convert to a set for uniqueness\n",
    "    words = set(clean_string.split())\n",
    "\n",
    "    return words\n",
    "\n",
    "# Example string\n",
    "input_str = \"Hello world, hello there! How's the world?\"\n",
    "\n",
    "# Find unique words\n",
    "unique_word_set = unique_words(input_str)\n",
    "\n",
    "# Print the result\n",
    "print(\"Unique words:\", unique_word_set)"
   ]
  },
  {
   "cell_type": "markdown",
   "id": "756d3bdb",
   "metadata": {},
   "source": [
    "# 46.Count the number of syllables in a string."
   ]
  },
  {
   "cell_type": "code",
   "execution_count": 48,
   "id": "abc0041d",
   "metadata": {},
   "outputs": [
    {
     "name": "stdout",
     "output_type": "stream",
     "text": [
      "'hello' has 2 syllables.\n",
      "'banana' has 3 syllables.\n",
      "'syllable' has 3 syllables.\n"
     ]
    }
   ],
   "source": [
    "import re\n",
    "\n",
    "def count_syllables(word):\n",
    "    # Count vowel groups using regular expression\n",
    "    vowel_groups = re.findall(r'[aeiouy]+', word, re.IGNORECASE)\n",
    "\n",
    "    return len(vowel_groups)\n",
    "\n",
    "# Example words\n",
    "word1 = \"hello\"\n",
    "word2 = \"banana\"\n",
    "word3 = \"syllable\"\n",
    "\n",
    "# Count syllables\n",
    "syllables1 = count_syllables(word1)\n",
    "syllables2 = count_syllables(word2)\n",
    "syllables3 = count_syllables(word3)\n",
    "\n",
    "# Print the results\n",
    "print(f\"'{word1}' has {syllables1} syllables.\")\n",
    "print(f\"'{word2}' has {syllables2} syllables.\")\n",
    "print(f\"'{word3}' has {syllables3} syllables.\")"
   ]
  },
  {
   "cell_type": "markdown",
   "id": "d6e0450a",
   "metadata": {},
   "source": [
    "# 47.Check if a string contains any special characters."
   ]
  },
  {
   "cell_type": "code",
   "execution_count": 49,
   "id": "6e2ef874",
   "metadata": {},
   "outputs": [
    {
     "name": "stdout",
     "output_type": "stream",
     "text": [
      "'Hello, world!' contains special characters: True\n",
      "'This is a test.' contains special characters: True\n",
      "'Special@Characters' contains special characters: True\n"
     ]
    }
   ],
   "source": [
    "import re\n",
    "\n",
    "def contains_special_characters(input_string):\n",
    "    # Define a regular expression pattern to match special characters\n",
    "    pattern = re.compile(r'[!@#$%^&*()_+{}\\[\\]:;<>,.?~\\\\/]')\n",
    "\n",
    "    # Use the search() method to find a match\n",
    "    match = pattern.search(input_string)\n",
    "\n",
    "    # Return True if a match is found, False otherwise\n",
    "    return bool(match)\n",
    "\n",
    "# Example strings\n",
    "string1 = \"Hello, world!\"\n",
    "string2 = \"This is a test.\"\n",
    "string3 = \"Special@Characters\"\n",
    "\n",
    "# Check if strings contain special characters\n",
    "result1 = contains_special_characters(string1)\n",
    "result2 = contains_special_characters(string2)\n",
    "result3 = contains_special_characters(string3)\n",
    "\n",
    "# Print the results\n",
    "print(f\"'{string1}' contains special characters:\", result1)\n",
    "print(f\"'{string2}' contains special characters:\", result2)\n",
    "print(f\"'{string3}' contains special characters:\", result3)"
   ]
  },
  {
   "cell_type": "markdown",
   "id": "64583909",
   "metadata": {},
   "source": [
    "# 48.Remove the nth word from a string."
   ]
  },
  {
   "cell_type": "code",
   "execution_count": 50,
   "id": "8943aa25",
   "metadata": {},
   "outputs": [
    {
     "name": "stdout",
     "output_type": "stream",
     "text": [
      "Original string: This is an example sentence to test the function.\n",
      "Modified string: This is an sentence to test the function.\n",
      "Removed word: example\n"
     ]
    }
   ],
   "source": [
    "def remove_nth_word(input_string,n):\n",
    "     # Split the input string into words\n",
    "    words = input_string.split()\n",
    "\n",
    "    # Check if n is within a valid range\n",
    "    if n >= 1 and n <= len(words):\n",
    "        # Remove the nth word by excluding it from the words list\n",
    "        removed_word = words.pop(n - 1)\n",
    "\n",
    "        # Join the remaining words to form the modified string\n",
    "        modified_string = ' '.join(words)\n",
    "\n",
    "        return modified_string, removed_word\n",
    "    else:\n",
    "        return None, None\n",
    "\n",
    "# Example string and n value\n",
    "input_str = \"This is an example sentence to test the function.\"\n",
    "n_value = 4\n",
    "\n",
    "# Remove the nth word\n",
    "modified_str, removed_word = remove_nth_word(input_str, n_value)\n",
    "\n",
    "# Print the results\n",
    "print(\"Original string:\", input_str)\n",
    "if modified_str is not None:\n",
    "    print(\"Modified string:\", modified_str)\n",
    "    print(\"Removed word:\", removed_word)\n",
    "else:\n",
    "    print(\"Invalid n value.\")\n",
    "    "
   ]
  },
  {
   "cell_type": "markdown",
   "id": "3a8e68f3",
   "metadata": {},
   "source": [
    "# 49.Insert a word at the nth position in a string."
   ]
  },
  {
   "cell_type": "code",
   "execution_count": 51,
   "id": "9ada974b",
   "metadata": {},
   "outputs": [
    {
     "name": "stdout",
     "output_type": "stream",
     "text": [
      "Thinews is a sample string.\n"
     ]
    }
   ],
   "source": [
    "def insert_word_at_nth_position(original_string, word_to_insert, n):\n",
    "    if n < 0:\n",
    "        n = 0\n",
    "    elif n > len(original_string):\n",
    "        n = len(original_string)\n",
    "    \n",
    "    return original_string[:n] + word_to_insert + original_string[n:]\n",
    "\n",
    "# Example usage:\n",
    "original_string = \"This is a sample string.\"\n",
    "word_to_insert = \"new\"\n",
    "n = 3\n",
    "\n",
    "new_string = insert_word_at_nth_position(original_string, word_to_insert, n)\n",
    "print(new_string)\n"
   ]
  },
  {
   "cell_type": "markdown",
   "id": "a4216514",
   "metadata": {},
   "source": [
    "# List based practice problem :"
   ]
  },
  {
   "cell_type": "markdown",
   "id": "e8f41542",
   "metadata": {},
   "source": [
    "# 1. Create a list with integers from 1 to 10."
   ]
  },
  {
   "cell_type": "code",
   "execution_count": 52,
   "id": "10d52aa7",
   "metadata": {},
   "outputs": [
    {
     "name": "stdout",
     "output_type": "stream",
     "text": [
      "[1, 2, 3, 4, 5, 6, 7, 8, 9, 10]\n"
     ]
    }
   ],
   "source": [
    "list=[1,2,3,4,5,6,7,8,9,10]\n",
    "print(list)"
   ]
  },
  {
   "cell_type": "code",
   "execution_count": 53,
   "id": "f7c742bb",
   "metadata": {},
   "outputs": [
    {
     "name": "stdout",
     "output_type": "stream",
     "text": [
      "[1, 2, 3, 4, 5, 6, 7, 8, 9, 10]\n"
     ]
    }
   ],
   "source": [
    "# Use a list comprehension to create a list of integers from 1 to 10\n",
    "integer_list = [i for i in range(1, 11)]\n",
    "\n",
    "# Print the list\n",
    "print(integer_list)"
   ]
  },
  {
   "cell_type": "markdown",
   "id": "f16986c7",
   "metadata": {},
   "source": [
    "# 2. Find the length of a list without using the len() function."
   ]
  },
  {
   "cell_type": "code",
   "execution_count": 54,
   "id": "08c65343",
   "metadata": {},
   "outputs": [
    {
     "name": "stdout",
     "output_type": "stream",
     "text": [
      "Length of the list: 5\n"
     ]
    }
   ],
   "source": [
    "def custom_len(input_list):\n",
    "    count = 0\n",
    "    for _ in input_list:\n",
    "        count += 1\n",
    "    return count\n",
    "\n",
    "# Example list\n",
    "my_list = [10, 20, 30, 40, 50]\n",
    "\n",
    "# Find the length of the list using the custom_len function\n",
    "length = custom_len(my_list)\n",
    "\n",
    "# Print the length of the list\n",
    "print(\"Length of the list:\", length)"
   ]
  },
  {
   "cell_type": "markdown",
   "id": "48e7f561",
   "metadata": {},
   "source": [
    "# 3. Append an element to the end of a list."
   ]
  },
  {
   "cell_type": "code",
   "execution_count": 55,
   "id": "a79b1757",
   "metadata": {},
   "outputs": [
    {
     "name": "stdout",
     "output_type": "stream",
     "text": [
      "['Name', ' Age', ' Country']\n",
      "['John', ' 25', ' USA']\n",
      "['Alice', ' 30', ' Canada']\n",
      "['Bob', ' 22', ' UK']\n"
     ]
    }
   ],
   "source": [
    "s = \"Name, Age, Country\\nJohn, 25, USA\\nAlice, 30, Canada\\nBob, 22, UK\"\n",
    "lines = s.split(\"\\n\")\n",
    "\n",
    "lst = []\n",
    "for line in lines:\n",
    "  field = line.split(\",\")\n",
    "  lst.append(field)\n",
    "\n",
    "for row in lst:\n",
    "  print(row)"
   ]
  },
  {
   "cell_type": "markdown",
   "id": "333af9af",
   "metadata": {},
   "source": [
    "# 3. Append an element to the end of a list."
   ]
  },
  {
   "cell_type": "code",
   "execution_count": 56,
   "id": "34fcc391",
   "metadata": {},
   "outputs": [
    {
     "name": "stdout",
     "output_type": "stream",
     "text": [
      "Updated list: [10, 20, 30, 40]\n"
     ]
    }
   ],
   "source": [
    "# Example list\n",
    "my_list = [10, 20, 30]\n",
    "\n",
    "# Element to append\n",
    "new_element = 40\n",
    "\n",
    "# Append the new element to the end of the list\n",
    "my_list.append(new_element)\n",
    "\n",
    "# Print the updated list\n",
    "print(\"Updated list:\", my_list)"
   ]
  },
  {
   "cell_type": "markdown",
   "id": "f7fab741",
   "metadata": {},
   "source": [
    "# 4. Insert an element at a specific index in a list."
   ]
  },
  {
   "cell_type": "code",
   "execution_count": 57,
   "id": "a46f262d",
   "metadata": {},
   "outputs": [
    {
     "name": "stdout",
     "output_type": "stream",
     "text": [
      "Updated list: [10, 20, 25, 30, 40, 50]\n"
     ]
    }
   ],
   "source": [
    "# Example list\n",
    "my_list = [10, 20, 30, 40, 50]\n",
    "\n",
    "# Element to insert\n",
    "new_element = 25\n",
    "\n",
    "# Index at which to insert the element\n",
    "index_to_insert = 2\n",
    "\n",
    "# Insert the new element at the specified index\n",
    "my_list.insert(index_to_insert, new_element)\n",
    "\n",
    "# Print the updated list\n",
    "print(\"Updated list:\", my_list)"
   ]
  },
  {
   "cell_type": "markdown",
   "id": "b6e3e2db",
   "metadata": {},
   "source": [
    "# 5. Remove an element from a list by its value."
   ]
  },
  {
   "cell_type": "code",
   "execution_count": 58,
   "id": "0f585760",
   "metadata": {},
   "outputs": [
    {
     "name": "stdout",
     "output_type": "stream",
     "text": [
      "Updated list: [10, 20, 40, 50]\n"
     ]
    }
   ],
   "source": [
    "# Example list\n",
    "my_list = [10, 20, 30, 40, 50]\n",
    "\n",
    "# Element to remove\n",
    "element_to_remove = 30\n",
    "\n",
    "# Remove the element by its value\n",
    "my_list.remove(element_to_remove)\n",
    "\n",
    "# Print the updated list\n",
    "print(\"Updated list:\", my_list)"
   ]
  },
  {
   "cell_type": "markdown",
   "id": "c86d6435",
   "metadata": {},
   "source": [
    "# 6. Remove an element from a list by its index."
   ]
  },
  {
   "cell_type": "code",
   "execution_count": 59,
   "id": "85b48789",
   "metadata": {},
   "outputs": [
    {
     "name": "stdout",
     "output_type": "stream",
     "text": [
      "Updated list: [10, 20, 40, 50]\n",
      "Removed element: 30\n"
     ]
    }
   ],
   "source": [
    "# Example list\n",
    "my_list = [10, 20, 30, 40, 50]\n",
    "\n",
    "# Index of the element to remove\n",
    "index_to_remove = 2\n",
    "\n",
    "# Remove the element at the specified index\n",
    "removed_element = my_list.pop(index_to_remove)\n",
    "\n",
    "# Print the updated list and the removed element\n",
    "print(\"Updated list:\", my_list)\n",
    "print(\"Removed element:\", removed_element)"
   ]
  },
  {
   "cell_type": "markdown",
   "id": "7dbf56be",
   "metadata": {},
   "source": [
    "# 7. Check if an element exists in a list."
   ]
  },
  {
   "cell_type": "code",
   "execution_count": 60,
   "id": "fdaae543",
   "metadata": {},
   "outputs": [
    {
     "name": "stdout",
     "output_type": "stream",
     "text": [
      "30 exists in the list.\n"
     ]
    }
   ],
   "source": [
    "# Example list\n",
    "my_list = [10, 20, 30, 40, 50]\n",
    "\n",
    "# Element to check\n",
    "element_to_check = 30\n",
    "\n",
    "# Check if the element exists in the list\n",
    "if element_to_check in my_list:\n",
    "    print(f\"{element_to_check} exists in the list.\")\n",
    "else:\n",
    "    print(f\"{element_to_check} does not exist in the list.\")"
   ]
  },
  {
   "cell_type": "markdown",
   "id": "a87b90fa",
   "metadata": {},
   "source": [
    "# 8. Find the index of the first occurrence of an element in a list."
   ]
  },
  {
   "cell_type": "code",
   "execution_count": 61,
   "id": "40559455",
   "metadata": {},
   "outputs": [
    {
     "name": "stdout",
     "output_type": "stream",
     "text": [
      "The index of 30 is 2\n"
     ]
    }
   ],
   "source": [
    "# Example list\n",
    "my_list = [10, 20, 30, 40, 50, 30]\n",
    "\n",
    "# Element to find the index of\n",
    "element_to_find = 30\n",
    "\n",
    "# Find the index of the first occurrence of the element\n",
    "index = my_list.index(element_to_find)\n",
    "\n",
    "# Print the index\n",
    "print(f\"The index of {element_to_find} is {index}\")"
   ]
  },
  {
   "cell_type": "markdown",
   "id": "704cb0f1",
   "metadata": {},
   "source": [
    "# 9. Count the occurrences of an element in a list."
   ]
  },
  {
   "cell_type": "code",
   "execution_count": 62,
   "id": "c625f742",
   "metadata": {},
   "outputs": [
    {
     "name": "stdout",
     "output_type": "stream",
     "text": [
      "The element 30 occurs 3 times in the list.\n"
     ]
    }
   ],
   "source": [
    "# Example list\n",
    "my_list = [10, 20, 30, 40, 50, 30, 30]\n",
    "\n",
    "# Element to count occurrences of\n",
    "element_to_count = 30\n",
    "\n",
    "# Count the occurrences of the element\n",
    "count = my_list.count(element_to_count)\n",
    "\n",
    "# Print the count\n",
    "print(f\"The element {element_to_count} occurs {count} times in the list.\")"
   ]
  },
  {
   "cell_type": "markdown",
   "id": "3a9b6266",
   "metadata": {},
   "source": [
    "# 10. Reverse the order of elements in a list."
   ]
  },
  {
   "cell_type": "code",
   "execution_count": 63,
   "id": "983a087f",
   "metadata": {},
   "outputs": [
    {
     "name": "stdout",
     "output_type": "stream",
     "text": [
      "Reversed list: [50, 40, 30, 20, 10]\n"
     ]
    }
   ],
   "source": [
    "# Example list\n",
    "my_list = [10, 20, 30, 40, 50]\n",
    "\n",
    "# Reverse the order of elements in the list\n",
    "my_list.reverse()\n",
    "\n",
    "# Print the reversed list\n",
    "print(\"Reversed list:\", my_list)"
   ]
  },
  {
   "cell_type": "markdown",
   "id": "af7e422c",
   "metadata": {},
   "source": [
    "# 11. Sort a list in ascending order."
   ]
  },
  {
   "cell_type": "code",
   "execution_count": 64,
   "id": "cb0ed0d8",
   "metadata": {},
   "outputs": [
    {
     "name": "stdout",
     "output_type": "stream",
     "text": [
      "Sorted list in ascending order: [10, 20, 30, 40, 50]\n"
     ]
    }
   ],
   "source": [
    "# Example list\n",
    "my_list = [50, 10, 30, 40, 20]\n",
    "\n",
    "# Sort the list in ascending order\n",
    "my_list.sort()\n",
    "\n",
    "# Print the sorted list\n",
    "print(\"Sorted list in ascending order:\", my_list)"
   ]
  },
  {
   "cell_type": "markdown",
   "id": "f27830a7",
   "metadata": {},
   "source": [
    "# 12. Sort a list in descending order."
   ]
  },
  {
   "cell_type": "code",
   "execution_count": 65,
   "id": "d9a0fafb",
   "metadata": {},
   "outputs": [
    {
     "name": "stdout",
     "output_type": "stream",
     "text": [
      "Sorted list in descending order: [50, 40, 30, 20, 10]\n"
     ]
    }
   ],
   "source": [
    "# Example list\n",
    "my_list = [50, 10, 30, 40, 20]\n",
    "\n",
    "# Sort the list in descending order\n",
    "my_list.sort(reverse=True)\n",
    "\n",
    "# Print the sorted list\n",
    "print(\"Sorted list in descending order:\", my_list)"
   ]
  },
  {
   "cell_type": "markdown",
   "id": "a1a28af1",
   "metadata": {},
   "source": [
    "# 13. Create a list of even numbers from 1 to 20."
   ]
  },
  {
   "cell_type": "code",
   "execution_count": 66,
   "id": "d68a1924",
   "metadata": {},
   "outputs": [
    {
     "name": "stdout",
     "output_type": "stream",
     "text": [
      "List of even numbers: [2, 4, 6, 8, 10, 12, 14, 16, 18, 20]\n"
     ]
    }
   ],
   "source": [
    "# Use a list comprehension to create a list of even numbers from 1 to 20\n",
    "even_numbers = [x for x in range(2, 21, 2)]\n",
    "\n",
    "# Print the list of even numbers\n",
    "print(\"List of even numbers:\", even_numbers)"
   ]
  },
  {
   "cell_type": "markdown",
   "id": "a6649fcd",
   "metadata": {},
   "source": [
    "# 14. Create a list of odd numbers from 1 to 20."
   ]
  },
  {
   "cell_type": "code",
   "execution_count": 67,
   "id": "41d62c39",
   "metadata": {},
   "outputs": [
    {
     "name": "stdout",
     "output_type": "stream",
     "text": [
      "list of add numbers: [1, 3, 5, 7, 9, 11, 13, 15, 17, 19]\n"
     ]
    }
   ],
   "source": [
    "# Use a list comprehension to create a list of add numbers form 1 to 20\n",
    "odd_numbers = [x for x in range(1,21,2)]\n",
    "\n",
    "#print the list of add numbers\n",
    "print(\"list of add numbers:\",odd_numbers)"
   ]
  },
  {
   "cell_type": "markdown",
   "id": "11607a55",
   "metadata": {},
   "source": [
    "# 15. Find the sum of all elements in a list."
   ]
  },
  {
   "cell_type": "code",
   "execution_count": 68,
   "id": "0f75d04c",
   "metadata": {},
   "outputs": [
    {
     "name": "stdout",
     "output_type": "stream",
     "text": [
      "Sum of elements: 150\n"
     ]
    }
   ],
   "source": [
    "# Example list \n",
    "my_list =[10,20,30,40,50]\n",
    "\n",
    "#calculate the sum of all elements in the list\n",
    "total_sum = sum(my_list)\n",
    "\n",
    "# print the sum\n",
    "print(\"Sum of elements:\",total_sum)"
   ]
  },
  {
   "cell_type": "markdown",
   "id": "98f491ac",
   "metadata": {},
   "source": [
    "# 16. Find the maximum value in a list."
   ]
  },
  {
   "cell_type": "code",
   "execution_count": 69,
   "id": "d9eb586a",
   "metadata": {},
   "outputs": [
    {
     "name": "stdout",
     "output_type": "stream",
     "text": [
      "maximum value: 50\n"
     ]
    }
   ],
   "source": [
    "my_list = [10,20,30,40,50]\n",
    "\n",
    "# find the maximum value in the list\n",
    "max_value= max(my_list)\n",
    "\n",
    "# print the maximum value\n",
    "print(\"maximum value:\",max_value)"
   ]
  },
  {
   "cell_type": "markdown",
   "id": "6570e650",
   "metadata": {},
   "source": [
    "# 17. Find the minimum value in a list."
   ]
  },
  {
   "cell_type": "code",
   "execution_count": 70,
   "id": "f618a55d",
   "metadata": {},
   "outputs": [
    {
     "name": "stdout",
     "output_type": "stream",
     "text": [
      "minimum value: 10\n"
     ]
    }
   ],
   "source": [
    "my_list =[10,20,30,40,50]\n",
    "\n",
    "# find the minimum value in a list\n",
    "min_value = min(my_list)\n",
    "\n",
    "# print the minimum value\n",
    "print(\"minimum value:\",min_value)"
   ]
  },
  {
   "cell_type": "markdown",
   "id": "2ace779c",
   "metadata": {},
   "source": [
    "# 18. Create a list of squares of numbers from 1 to 10.\n"
   ]
  },
  {
   "cell_type": "code",
   "execution_count": 71,
   "id": "4ca57d6e",
   "metadata": {},
   "outputs": [
    {
     "name": "stdout",
     "output_type": "stream",
     "text": [
      "list of squares: [1, 4, 9, 16, 25, 36, 49, 64, 81, 100]\n"
     ]
    }
   ],
   "source": [
    "# Use a list comprehension to create a list of squares of numbers from 1 to 10\n",
    "\n",
    "squares = [x** 2 for x in range(1, 11)]\n",
    "\n",
    "# Print the list of squares\n",
    "print(\"list of squares:\",squares)"
   ]
  },
  {
   "cell_type": "markdown",
   "id": "efff79fd",
   "metadata": {},
   "source": [
    "# 19. Create a list of random numbers."
   ]
  },
  {
   "cell_type": "code",
   "execution_count": 72,
   "id": "aacc87c9",
   "metadata": {},
   "outputs": [
    {
     "name": "stdout",
     "output_type": "stream",
     "text": [
      "list of ranom integers: [100, 26, 55, 30, 91, 49, 3, 33, 87, 62]\n"
     ]
    }
   ],
   "source": [
    "import random\n",
    "\n",
    "# Create a list of random integers between 1 and 100\n",
    "random_integers = [random.randint(1, 100) for _ in range(10)]\n",
    "\n",
    "# print the list of random integers\n",
    "print(\"list of ranom integers:\",random_integers)"
   ]
  },
  {
   "cell_type": "markdown",
   "id": "78af4693",
   "metadata": {},
   "source": [
    "# 20. Remove duplicates from a list."
   ]
  },
  {
   "cell_type": "code",
   "execution_count": 1,
   "id": "038038c6",
   "metadata": {},
   "outputs": [
    {
     "name": "stdout",
     "output_type": "stream",
     "text": [
      "List without duplicates: [40, 10, 50, 20, 30]\n"
     ]
    }
   ],
   "source": [
    "\n",
    "my_list = [10, 20, 30, 20, 40, 10, 50, 30]\n",
    "\n",
    "# Remove duplicates by converting to a set and back to a list\n",
    "unique_list = list(set(my_list))\n",
    "\n",
    "# Print the list without duplicates\n",
    "print(\"List without duplicates:\", unique_list)"
   ]
  },
  {
   "cell_type": "markdown",
   "id": "ce16124f",
   "metadata": {},
   "source": [
    "# 21. Find the common elements between two lists."
   ]
  },
  {
   "cell_type": "code",
   "execution_count": 3,
   "id": "15915488",
   "metadata": {},
   "outputs": [
    {
     "name": "stdout",
     "output_type": "stream",
     "text": [
      "[2, 4, 5]\n"
     ]
    }
   ],
   "source": [
    "list1 = [1, 2, 3, 4, 5]\n",
    "list2 = [4, 5, 6, 2, 8]\n",
    "\n",
    "common_elements = [element for element in list1 if element in list2]\n",
    "print(common_elements)\n"
   ]
  },
  {
   "cell_type": "markdown",
   "id": "534f216b",
   "metadata": {},
   "source": [
    "# 22. Find the difference between two lists."
   ]
  },
  {
   "cell_type": "code",
   "execution_count": 5,
   "id": "4f1ce606",
   "metadata": {},
   "outputs": [
    {
     "name": "stdout",
     "output_type": "stream",
     "text": [
      "Difference between lists: [20, 10]\n"
     ]
    }
   ],
   "source": [
    "# Example list\n",
    "list1 = [10, 20, 30, 40, 50]\n",
    "list2 = [30, 40, 50, 60, 70]\n",
    "\n",
    "# find the difference between lists using the difference() method\n",
    "difference = list(set(list1).difference(list2))\n",
    "\n",
    "# print the difference\n",
    "print(\"Difference between lists:\",difference)"
   ]
  },
  {
   "cell_type": "markdown",
   "id": "106156c6",
   "metadata": {},
   "source": [
    "# 23. Merge two lists."
   ]
  },
  {
   "cell_type": "code",
   "execution_count": 6,
   "id": "df5f9931",
   "metadata": {},
   "outputs": [
    {
     "name": "stdout",
     "output_type": "stream",
     "text": [
      "merged list: [10, 20, 30, 40, 50, 60]\n"
     ]
    }
   ],
   "source": [
    "# Example Lists\n",
    "list1 = [10, 20, 30]\n",
    "list2 = [40, 50, 60]\n",
    "\n",
    "# merge lists using the + operator\n",
    "merged_list = list1 + list2\n",
    "\n",
    "#print the merged list\n",
    "print(\"merged list:\",merged_list)"
   ]
  },
  {
   "cell_type": "markdown",
   "id": "c2c1342f",
   "metadata": {},
   "source": [
    "# 24. Multiply all elements in a list by 2.¶"
   ]
  },
  {
   "cell_type": "code",
   "execution_count": 7,
   "id": "d533050d",
   "metadata": {},
   "outputs": [
    {
     "name": "stdout",
     "output_type": "stream",
     "text": [
      "multiplied list: [20, 40, 60, 80, 100]\n"
     ]
    }
   ],
   "source": [
    "# Example list\n",
    "my_list = [10, 20, 30, 40, 50]\n",
    "\n",
    "# multiply all elements by 2 usin a list comprehension\n",
    "multiplied_list = [x * 2 for x in my_list]\n",
    "\n",
    "# prient the multiplied list\n",
    "print(\"multiplied list:\",multiplied_list)"
   ]
  },
  {
   "cell_type": "markdown",
   "id": "91a3a925",
   "metadata": {},
   "source": [
    "# 25. Filter out all even numbers from a list.¶"
   ]
  },
  {
   "cell_type": "code",
   "execution_count": 9,
   "id": "2784bac9",
   "metadata": {},
   "outputs": [
    {
     "name": "stdout",
     "output_type": "stream",
     "text": [
      "[2, 4, 6, 8]\n"
     ]
    }
   ],
   "source": [
    "numbers = [1, 2, 3, 4, 5, 6, 7, 8, 9]\n",
    "even_numbers = [x for x in numbers if x % 2 == 0]\n",
    "print(even_numbers)\n"
   ]
  },
  {
   "cell_type": "markdown",
   "id": "417bb61b",
   "metadata": {},
   "source": [
    "# 26. Convert a list of strings to a list of integers."
   ]
  },
  {
   "cell_type": "code",
   "execution_count": 10,
   "id": "e442b579",
   "metadata": {},
   "outputs": [
    {
     "name": "stdout",
     "output_type": "stream",
     "text": [
      "list of integers: [10, 20, 30, 40, 50]\n"
     ]
    }
   ],
   "source": [
    "# Example list of strings\n",
    "string_list = [\"10\", \"20\", \"30\", \"40\", \"50\"]\n",
    "\n",
    "# convert list of strings to list of integers using a list comprehension\n",
    "integer_list = [int(x) for x in string_list]\n",
    "\n",
    "# print the list of integers\n",
    "print(\"list of integers:\",integer_list)"
   ]
  },
  {
   "cell_type": "markdown",
   "id": "535c3ac2",
   "metadata": {},
   "source": [
    "# 27. Convert a list of integers to a list of strings."
   ]
  },
  {
   "cell_type": "code",
   "execution_count": 11,
   "id": "be8a0e9e",
   "metadata": {},
   "outputs": [
    {
     "name": "stdout",
     "output_type": "stream",
     "text": [
      "list of strings: ['10', '20', '30', '40', '50']\n"
     ]
    }
   ],
   "source": [
    "# Example List of integers\n",
    "integer_list = [10,20,30,40,50]\n",
    "\n",
    "# Convert list of integers to list of strings using a list comprehension\n",
    "string_list = [str(x) for x in integer_list]\n",
    "\n",
    "# print the list of strings\n",
    "print(\"list of strings:\",string_list)"
   ]
  },
  {
   "cell_type": "markdown",
   "id": "6acdc435",
   "metadata": {},
   "source": [
    "# 28. Flatten a nested list."
   ]
  },
  {
   "cell_type": "code",
   "execution_count": 16,
   "id": "9a9344db",
   "metadata": {},
   "outputs": [
    {
     "name": "stdout",
     "output_type": "stream",
     "text": [
      "flattened list: [1, 2, 3, 4, 5, 6, 7, 8, 9]\n"
     ]
    }
   ],
   "source": [
    "# example nested list\n",
    "nested_list = [[1,2,3],[4,5],[6,7,8,9]]\n",
    "\n",
    "# function to flatten a nested list\n",
    "def flatten_list(nested):\n",
    "    flattened = []\n",
    "    for sublist in nested:\n",
    "        if isinstance(sublist, list):\n",
    "            flattened.extend(flatten_list(sublist))\n",
    "        else:\n",
    "            flattened.append(sublist)\n",
    "    return flattened\n",
    "# flatten the nested list\n",
    "flattened_list = flatten_list(nested_list)\n",
    "            \n",
    "# print the flattened list\n",
    "print(\"flattened list:\",flattened_list)"
   ]
  },
  {
   "cell_type": "markdown",
   "id": "e18db4c2",
   "metadata": {},
   "source": [
    "# 29. Create a list of the first 10 Fibonacci numbers."
   ]
  },
  {
   "cell_type": "code",
   "execution_count": 18,
   "id": "c9933278",
   "metadata": {},
   "outputs": [
    {
     "name": "stdout",
     "output_type": "stream",
     "text": [
      "first 10 Fibonacci numbers: [0, 1]\n"
     ]
    }
   ],
   "source": [
    "# function to generate the first \n",
    "def generate_fibonacci(n):\n",
    "    fibonacci_list = [0, 1] # Initialize the list with the first two fibonacci numbers\n",
    "    \n",
    "    \n",
    "    for i in range(2, n):\n",
    "        next_fibonacci = fibonacci_list[i -1] + fibonacci_list[i -2]\n",
    "        fibonacci_list.append(next_fibonacci)\n",
    "        \n",
    "    return fibonacci_list\n",
    "\n",
    "# Generate the first 10 Fibonacci numbers\n",
    "fibonacci_numbers = generate_fibonacci(2)\n",
    "\n",
    "# Print the list of fibonacci numbers\n",
    "print(\"first 10 Fibonacci numbers:\",fibonacci_numbers)"
   ]
  },
  {
   "cell_type": "markdown",
   "id": "18b47f08",
   "metadata": {},
   "source": [
    "# 30. Check if a list is sorted."
   ]
  },
  {
   "cell_type": "code",
   "execution_count": 20,
   "id": "1f827919",
   "metadata": {},
   "outputs": [
    {
     "name": "stdout",
     "output_type": "stream",
     "text": [
      "The list is sorted in ascending order.\n"
     ]
    }
   ],
   "source": [
    "# Function to check if a list is sorted in ascending order \n",
    "def is_sorted_sacending(lst):\n",
    "    for i in range(1, len(lst)):\n",
    "        if lst[i] < lst[i - 1]:\n",
    "            return False\n",
    "    return True\n",
    "    \n",
    "# Example list\n",
    "ascending_list = [10, 20, 30, 40, 50]\n",
    "\n",
    "# Check if the list is sorted in ascending order\n",
    "if is_sorted_sacending(ascending_list):\n",
    "    print(\"The list is sorted in ascending order.\")\n",
    "else:\n",
    "    print(\"The list is not sorted in ascending order.\")"
   ]
  },
  {
   "cell_type": "markdown",
   "id": "2a52debb",
   "metadata": {},
   "source": [
    "# 31. Rotate a list to the left by n positions."
   ]
  },
  {
   "cell_type": "code",
   "execution_count": 22,
   "id": "b55b6195",
   "metadata": {},
   "outputs": [
    {
     "name": "stdout",
     "output_type": "stream",
     "text": [
      "Rotated list: [3, 4, 5, 6, 1, 2]\n"
     ]
    }
   ],
   "source": [
    "# Function to rotate a list to the left by n positions\n",
    "def rotate_left(lst, n):\n",
    "    n = n % len(lst)  # Normalize n to handle cases where n is larger than the list length\n",
    "    # print(n)\n",
    "    rotated = lst[n:] + lst[:n]\n",
    "    return rotated\n",
    "\n",
    "# Example list\n",
    "my_list = [1,2,3,4,5,6]\n",
    "\n",
    "# Number of positions to rotate by\n",
    "n = 2\n",
    "\n",
    "\n",
    "\n",
    "# Rotate the list to the left by n positions\n",
    "rotated_list = rotate_left(my_list, n)\n",
    "\n",
    "# print the rotated list\n",
    "print(\"Rotated list:\",rotated_list)"
   ]
  },
  {
   "cell_type": "markdown",
   "id": "96de59cf",
   "metadata": {},
   "source": [
    "# 32. Rotate a list to the right by n positions."
   ]
  },
  {
   "cell_type": "code",
   "execution_count": 24,
   "id": "f94795aa",
   "metadata": {},
   "outputs": [
    {
     "name": "stdout",
     "output_type": "stream",
     "text": [
      "Rotated list: [3, 4, 5, 6, 1, 2]\n"
     ]
    }
   ],
   "source": [
    "# function to rotate a list to the right by n position\n",
    "def rotate_right(lst, n):\n",
    "    n = n % len(lst) # Normalize n to handele cases where n is larger than the list length\n",
    "    # print(n)\n",
    "    rotated = lst[-n:] + lst[:-n]\n",
    "    return rotated\n",
    "# Example list\n",
    "my_list = [1,2,3,4,5,6]\n",
    "\n",
    "# Number of positions to rotate by\n",
    "n = 2\n",
    "\n",
    "# Rotate the list to the right by n positions\n",
    "rotate_list = rotate_right(my_list,n)\n",
    "\n",
    "# print the rotate list\n",
    "print(\"Rotated list:\", rotated_list)"
   ]
  },
  {
   "cell_type": "markdown",
   "id": "e0484ca2",
   "metadata": {},
   "source": [
    "# 33. Create a list of prime numbers up to 50."
   ]
  },
  {
   "cell_type": "code",
   "execution_count": 26,
   "id": "e6ba9596",
   "metadata": {},
   "outputs": [
    {
     "name": "stdout",
     "output_type": "stream",
     "text": [
      "5 25\n",
      "5 29\n",
      "list of prime numbers up to 50: [2, 3, 29]\n"
     ]
    }
   ],
   "source": [
    "# function to check if a number is prime\n",
    "def is_prime(num):\n",
    "    if num <= 1:\n",
    "        return False\n",
    "    if num <= 3:\n",
    "        return True\n",
    "    if num % 2 == 0 or num % 3 == 0:\n",
    "        return False\n",
    "    i=5\n",
    "    while i * i <= num:\n",
    "        print(i,num)\n",
    "        if num % i == 0 or num % (i + 2) == 0:\n",
    "            return False\n",
    "        i+= 6\n",
    "        return True\n",
    "\n",
    "# Create a list of prime numbers up to 50\n",
    "prime_numbers = [num for num in range(2,30) if is_prime(num)]\n",
    "\n",
    "# print the list of prime numbers\n",
    "print(\"list of prime numbers up to 50:\", prime_numbers)"
   ]
  },
  {
   "cell_type": "markdown",
   "id": "f1d33f85",
   "metadata": {},
   "source": [
    "# 34. Split a list into chunks of size n."
   ]
  },
  {
   "cell_type": "code",
   "execution_count": 32,
   "id": "22dd70d5",
   "metadata": {},
   "outputs": [
    {
     "name": "stdout",
     "output_type": "stream",
     "text": [
      "list of prime numbers up to 50: [2, 3, 5, 7, 11, 13, 17, 19, 23, 29, 31, 37, 41, 43, 47]\n"
     ]
    }
   ],
   "source": [
    "# Create a list of prime number up to 50 using sieve of eratosthenes algorithm\n",
    "def sieve_of_eratosthenes(limit):\n",
    "    primes = []\n",
    "    is_prime = [True] * (limit + 1)\n",
    "    is_prime[0] = is_prime[1] = False\n",
    "    \n",
    "    for num in range(2, int(limit ** 0.5) + 1):\n",
    "        if is_prime[num]:\n",
    "            primes.append(num)\n",
    "            for multiple in range(num * num, limit + 1, num):\n",
    "                is_prime[multiple] = False\n",
    "            \n",
    "    for num in range(int(limit ** 0.5) + 1, limit + 1):\n",
    "        if is_prime[num]:\n",
    "            primes.append(num)\n",
    "    return primes\n",
    "# create a list of prime number up to 50\n",
    "prime_numbers = sieve_of_eratosthenes(50)\n",
    "\n",
    "# print the list of prime numbers\n",
    "print(\"list of prime numbers up to 50:\", prime_numbers)"
   ]
  },
  {
   "cell_type": "code",
   "execution_count": 34,
   "id": "f9a4c3ea",
   "metadata": {},
   "outputs": [
    {
     "name": "stdout",
     "output_type": "stream",
     "text": [
      "second largest number: 25\n"
     ]
    }
   ],
   "source": [
    "# Example list\n",
    "my_list = [10,5,20,15,30,25]\n",
    "\n",
    "# Remove duplicates and sort the list in ascending order\n",
    "sorted_list = sorted(set(my_list))\n",
    "\n",
    "# Find the second largest number\n",
    "if len(sorted_list) >= 2:\n",
    "    second_largest = sorted_list[-2]\n",
    "    print(\"second largest number:\",second_largest)\n",
    "else:\n",
    "    print(\"The list dose not contain enough elements\")"
   ]
  },
  {
   "cell_type": "markdown",
   "id": "82d78672",
   "metadata": {},
   "source": [
    "# 36. Replace every element in a list with its square."
   ]
  },
  {
   "cell_type": "code",
   "execution_count": 36,
   "id": "d2d62127",
   "metadata": {},
   "outputs": [
    {
     "name": "stdout",
     "output_type": "stream",
     "text": [
      "Squared list: [4, 16, 36, 64, 100]\n"
     ]
    }
   ],
   "source": [
    "# Example list \n",
    "my_list = [2,4,6,8,10]\n",
    "# Replace every element wit its square using a list comprehension\n",
    "squared_list = [x ** 2 for x in my_list]\n",
    "\n",
    "# print the squared list\n",
    "print(\"Squared list:\", squared_list)"
   ]
  },
  {
   "cell_type": "markdown",
   "id": "6b87ea5a",
   "metadata": {},
   "source": [
    "# 37. Convert a list to a dictionary where list elements become keys and their indices become values.\n",
    "# Example list"
   ]
  },
  {
   "cell_type": "code",
   "execution_count": 37,
   "id": "2247ec29",
   "metadata": {},
   "outputs": [
    {
     "name": "stdout",
     "output_type": "stream",
     "text": [
      "converted dictionary: {'apple': 0, 'banana': 1, 'cherry': 2, 'date': 3, 'elderberry': 4}\n"
     ]
    }
   ],
   "source": [
    "# Example list\n",
    "my_list = ['apple', 'banana', 'cherry','date','elderberry']\n",
    "\n",
    "#convert list to dictionary using dictionary comprehension\n",
    "my_dict = {element: index for index, element in enumerate(my_list)}\n",
    "\n",
    "# print the resulting dictionary\n",
    "print(\"converted dictionary:\",my_dict)"
   ]
  },
  {
   "cell_type": "markdown",
   "id": "c1f6cffd",
   "metadata": {},
   "source": [
    "# 38. Shuffle the elements of a list randomly."
   ]
  },
  {
   "cell_type": "code",
   "execution_count": 38,
   "id": "1e861c83",
   "metadata": {},
   "outputs": [
    {
     "name": "stdout",
     "output_type": "stream",
     "text": [
      "shuffled list: [7, 3, 6, 4, 2, 10, 1, 5, 9, 8]\n"
     ]
    }
   ],
   "source": [
    "import random\n",
    "\n",
    "# Example list\n",
    "my_list = [1,2,3,4,5,6,7,8,9,10]\n",
    "\n",
    "# Shuffle the list randomly\n",
    "random.shuffle(my_list)\n",
    "\n",
    "# print the shuffled list\n",
    "print(\"shuffled list:\", my_list)"
   ]
  },
  {
   "cell_type": "markdown",
   "id": "e8f979e2",
   "metadata": {},
   "source": [
    "# 39. Create a list of the first 10 factorial numbers."
   ]
  },
  {
   "cell_type": "code",
   "execution_count": 39,
   "id": "c113927b",
   "metadata": {},
   "outputs": [
    {
     "name": "stdout",
     "output_type": "stream",
     "text": [
      "list of the first 10 factorial numbers: [1, 1, 2, 6, 24, 120, 720, 5040, 40320, 362880]\n"
     ]
    }
   ],
   "source": [
    "# Function to calculate factorial\n",
    "def factorial(n):\n",
    "    if n== 0 or n == 1:\n",
    "        return 1\n",
    "    else:\n",
    "        return n* factorial(n - 1)\n",
    "    \n",
    "    \n",
    "# Create a list of the first 10 factorial numbers\n",
    "factorial_numbers = [factorial(i) for i in range(10)]\n",
    "\n",
    "# print the list of factorial numbers\n",
    "print(\"list of the first 10 factorial numbers:\",factorial_numbers)"
   ]
  },
  {
   "cell_type": "markdown",
   "id": "42103374",
   "metadata": {},
   "source": [
    "# 40. Check if two lists have at least one element in common."
   ]
  },
  {
   "cell_type": "code",
   "execution_count": 40,
   "id": "6f443d01",
   "metadata": {},
   "outputs": [
    {
     "name": "stdout",
     "output_type": "stream",
     "text": [
      "The lists do not have any common elements.\n"
     ]
    }
   ],
   "source": [
    "# Function to check if two lists have at least one element in common\n",
    "def has_common_element(list1,list2):\n",
    "    for item in list1:\n",
    "        if item in list2:\n",
    "            return True\n",
    "        return False\n",
    "    \n",
    "# Example lists\n",
    "list1 = [1,2,3,4,5]\n",
    "list2 = [4,5,6,7,8]\n",
    "\n",
    "# Check if the two lists have at least one element in common\n",
    "if has_common_element(list1,list2):\n",
    "    print(\"The lists have at least one common element.\")\n",
    "else:\n",
    "    print(\"The lists do not have any common elements.\")"
   ]
  },
  {
   "cell_type": "markdown",
   "id": "2e2485fd",
   "metadata": {},
   "source": [
    "# 41. Remove all elements from a list."
   ]
  },
  {
   "cell_type": "code",
   "execution_count": 2,
   "id": "c5b72eb9",
   "metadata": {},
   "outputs": [
    {
     "name": "stdout",
     "output_type": "stream",
     "text": [
      "Empty list: []\n"
     ]
    }
   ],
   "source": [
    "# Example List \n",
    "my_list = [1, 2, 3, 4, 5]\n",
    "\n",
    "# Clear all elements from the list\n",
    "my_list.clear()\n",
    "\n",
    "\n",
    "# Print the empty list\n",
    "print(\"Empty list:\", my_list)"
   ]
  },
  {
   "cell_type": "markdown",
   "id": "81a9aac7",
   "metadata": {},
   "source": [
    "# 42.Replace negative numbers in a list with 0."
   ]
  },
  {
   "cell_type": "code",
   "execution_count": 4,
   "id": "d0e68db9",
   "metadata": {},
   "outputs": [
    {
     "name": "stdout",
     "output_type": "stream",
     "text": [
      "list after replacing negative numbers with 0: [10, 0, 20, 0, 30, 0]\n"
     ]
    }
   ],
   "source": [
    "# Example list\n",
    "my_list = [10, -5, 20, -15, 30, -25]\n",
    "\n",
    "# Step 1: Iterate through the list and replace negative numbers with 0\n",
    "for i in range(len(my_list)):\n",
    "    if my_list[i] < 0:\n",
    "        my_list[i] = 0\n",
    "        \n",
    "        \n",
    "        \n",
    "# print the list after replacing negative numbers with 0\n",
    "print(\"list after replacing negative numbers with 0:\", my_list)"
   ]
  },
  {
   "cell_type": "markdown",
   "id": "d9db21cd",
   "metadata": {},
   "source": [
    "# 43. Convert a string into a list of words "
   ]
  },
  {
   "cell_type": "code",
   "execution_count": 5,
   "id": "a6e145e8",
   "metadata": {},
   "outputs": [
    {
     "name": "stdout",
     "output_type": "stream",
     "text": [
      "list of wods: ['Hello,', 'this', 'is', 'a', 'sample', 'sentence.']\n"
     ]
    }
   ],
   "source": [
    "# Example string\n",
    "my_string = \"Hello, this is a sample sentence.\"\n",
    "\n",
    "#Convert the string into a list of words\n",
    "word_list = my_string.split()\n",
    "\n",
    "# Print the list of words\n",
    "print(\"list of wods:\",word_list)"
   ]
  },
  {
   "cell_type": "markdown",
   "id": "7e47a63e",
   "metadata": {},
   "source": [
    "# 44. Convert a list of words into a string. "
   ]
  },
  {
   "cell_type": "code",
   "execution_count": 6,
   "id": "07f9cf13",
   "metadata": {},
   "outputs": [
    {
     "name": "stdout",
     "output_type": "stream",
     "text": [
      "converted string: Hello this is a sample sentence.\n"
     ]
    }
   ],
   "source": [
    "# Example list of words\n",
    "word_list = [\"Hello\",\"this\",\"is\",\"a\",\"sample\",\"sentence.\"]\n",
    "\n",
    "# Convert the list of words into a string\n",
    "my_string = \" \".join(word_list)\n",
    "\n",
    "# print the resulting string\n",
    "print(\"converted string:\", my_string)"
   ]
  },
  {
   "cell_type": "markdown",
   "id": "947251b7",
   "metadata": {},
   "source": [
    "# 45.Create a list of the first n powers of 2."
   ]
  },
  {
   "cell_type": "code",
   "execution_count": 7,
   "id": "14b9f7d6",
   "metadata": {},
   "outputs": [
    {
     "name": "stdout",
     "output_type": "stream",
     "text": [
      "list of the first 5 powers of 2: [1, 2, 4, 8, 16]\n"
     ]
    }
   ],
   "source": [
    "# specify the value of n \n",
    "n=5\n",
    "\n",
    "# create a lis of the first n powers of 2 using a loop\n",
    "power_list = [2 ** i for i in range(n)]\n",
    "\n",
    "# print the list of powers of 2\n",
    "print(\"list of the first\", n, \"powers of 2:\", power_list)"
   ]
  },
  {
   "cell_type": "markdown",
   "id": "42398cd0",
   "metadata": {},
   "source": [
    "# 46.Find the longest string in a list of strings."
   ]
  },
  {
   "cell_type": "code",
   "execution_count": 8,
   "id": "1beec923",
   "metadata": {},
   "outputs": [
    {
     "name": "stdout",
     "output_type": "stream",
     "text": [
      "longest string: elderberry\n"
     ]
    }
   ],
   "source": [
    "# Example list of strings\n",
    "string_list = [\"apple\", \"banana\", \"cherry\", \"date\", \"elderberry\"]\n",
    "\n",
    "# Find the longest string in the list\n",
    "longest_string = \"\"\n",
    "for s in string_list:\n",
    "    if len(s) > len(longest_string):\n",
    "        longest_string = s\n",
    "        \n",
    "        \n",
    "# print the longest string\n",
    "print(\"longest string:\",longest_string)"
   ]
  },
  {
   "cell_type": "markdown",
   "id": "51e8f0cb",
   "metadata": {},
   "source": [
    "# 47.Find the shortest string in a list of strings."
   ]
  },
  {
   "cell_type": "code",
   "execution_count": 9,
   "id": "4d03ce8b",
   "metadata": {},
   "outputs": [
    {
     "name": "stdout",
     "output_type": "stream",
     "text": [
      "shortest string: date\n"
     ]
    }
   ],
   "source": [
    "# Example list of strings\n",
    "string_list = [\"apple\", \"banana\", \"cherry\", \"date\", \"elderberry\"]\n",
    "\n",
    "\n",
    "\n",
    "# Find the shortest string in the list\n",
    "shortest_string = string_list[0] # Initialize with the first string\n",
    "for s in string_list:\n",
    "    if len(s) < len(shortest_string):\n",
    "        shortest_string = s\n",
    "        \n",
    "        \n",
    "        \n",
    "# Print the shortest string\n",
    "print(\"shortest string:\",shortest_string)"
   ]
  },
  {
   "cell_type": "markdown",
   "id": "d5de2d5b",
   "metadata": {},
   "source": [
    "# 48.Create a list of the first n triangular numbers."
   ]
  },
  {
   "cell_type": "code",
   "execution_count": 10,
   "id": "ed331e23",
   "metadata": {},
   "outputs": [
    {
     "name": "stdout",
     "output_type": "stream",
     "text": [
      "list of the first 5 triangular numbers: [1, 3, 6, 10, 15]\n"
     ]
    }
   ],
   "source": [
    "# Function to calculate triangular numbers\n",
    "def triangular_numbers(n):\n",
    "    return [i * (i + 1) // 2 for i in range(1,n + 1)]\n",
    "\n",
    "# Specit the value of n\n",
    "n = 5\n",
    "\n",
    "# Create a list of the first n triangular numbers\n",
    "triangular_list = triangular_numbers(n)\n",
    "\n",
    "# print the list of triangular numbers\n",
    "print(\"list of the first\",n , \"triangular numbers:\", triangular_list)"
   ]
  },
  {
   "cell_type": "markdown",
   "id": "f4b626bc",
   "metadata": {},
   "source": [
    "# 48.Create a list of the first n triangular numbers."
   ]
  },
  {
   "cell_type": "code",
   "execution_count": 11,
   "id": "0673eacc",
   "metadata": {},
   "outputs": [
    {
     "name": "stdout",
     "output_type": "stream",
     "text": [
      "Main List contains the subsequence.\n"
     ]
    }
   ],
   "source": [
    "# Function to cheak if a list contains another list as a subsequence\n",
    "def is_subsequence(subsequence, main_list):\n",
    "    subseq_index = 0 # Index for the subsequence elements\n",
    "    for element in main_list:\n",
    "        if element == subsequence[subseq_index]:\n",
    "            subseq_index += 1\n",
    "            if subseq_index == len(subsequence):\n",
    "                return True\n",
    "    return False\n",
    "# Example main list and subsequence\n",
    "main_list = [1, 2, 3, 4, 5, 6, 7, 8, 9, 10]\n",
    "subsequence = [3, 5, 8]\n",
    "\n",
    "# Check if the main list contains the subsequence\n",
    "if is_subsequence(subsequence, main_list):\n",
    "    print(\"Main List contains the subsequence.\")\n",
    "else:\n",
    "    print(\"main list dose not cantin the subsequence.\")"
   ]
  },
  {
   "cell_type": "markdown",
   "id": "fa20e347",
   "metadata": {},
   "source": [
    "# 50.Swap two elements in a list by their indices."
   ]
  },
  {
   "cell_type": "code",
   "execution_count": 14,
   "id": "5077b04f",
   "metadata": {},
   "outputs": [
    {
     "name": "stdout",
     "output_type": "stream",
     "text": [
      "list after swapping elements: [1, 4, 3, 2, 5]\n"
     ]
    }
   ],
   "source": [
    "# Example list\n",
    "my_list = [1, 2, 3, 4, 5]\n",
    "\n",
    "# Indies of elements to swap\n",
    "index1 = 1\n",
    "index2 = 3\n",
    "\n",
    "# Swap the elements at the specified indices\n",
    "temp = my_list[index1]\n",
    "my_list[index1] = my_list[index2]\n",
    "my_list[index2] = temp      \n",
    "\n",
    "\n",
    "\n",
    "# Print the list after swapping\n",
    "print(\"list after swapping elements:\", my_list)"
   ]
  },
  {
   "cell_type": "markdown",
   "id": "ea10ef83",
   "metadata": {},
   "source": [
    "# Tuple based practice problem :"
   ]
  },
  {
   "cell_type": "markdown",
   "id": "caa59e68",
   "metadata": {},
   "source": [
    "# 50.Swap two elements in a list by their indices."
   ]
  },
  {
   "cell_type": "code",
   "execution_count": 16,
   "id": "61df6a19",
   "metadata": {},
   "outputs": [
    {
     "name": "stdout",
     "output_type": "stream",
     "text": [
      "The third element of the tuple is: 30\n"
     ]
    }
   ],
   "source": [
    "# step 1: Create a tuple\n",
    "my_tuple = (10, 20, 30, 40, 50)\n",
    "\n",
    "# step 2: Access the third element of the tuple\n",
    "third_element = my_tuple[2]\n",
    "\n",
    "# Explanation: In this line, we use indexing to access thethird element of the tuple.\n",
    "# Since indexing is 0-based, the third element is at index 2.\n",
    "\n",
    "# Step 3: print the third element\n",
    "print(\"The third element of the tuple is:\",third_element)"
   ]
  },
  {
   "cell_type": "markdown",
   "id": "f032fc85",
   "metadata": {},
   "source": [
    "# 2.Access the third element of a tuple."
   ]
  },
  {
   "cell_type": "code",
   "execution_count": 17,
   "id": "f6cfba45",
   "metadata": {},
   "outputs": [
    {
     "name": "stdout",
     "output_type": "stream",
     "text": [
      "the third element of the tuple is: 30\n"
     ]
    }
   ],
   "source": [
    "# step 1: Create a tuple with some elements\n",
    "my_tuple = (10,20,30,40,50)\n",
    "\n",
    "# step 2: Access the third element (index 2) of the tuple\n",
    "third_element = my_tuple[2]\n",
    "\n",
    "# step 3: print the third element\n",
    "print(\"the third element of the tuple is:\", third_element)"
   ]
  },
  {
   "cell_type": "markdown",
   "id": "9c1b4be8",
   "metadata": {},
   "source": [
    "# 3.Find the length of a tuple without using the len() function."
   ]
  },
  {
   "cell_type": "code",
   "execution_count": 18,
   "id": "ef9fa356",
   "metadata": {},
   "outputs": [
    {
     "name": "stdout",
     "output_type": "stream",
     "text": [
      "the length of the tuple is: 5\n"
     ]
    }
   ],
   "source": [
    "# step 1: create a tuple\n",
    "my_tuple = (10, 20, 30, 40, 50)\n",
    "\n",
    "# step 2: Initialize a variable to count the elements\n",
    "count = 0\n",
    "\n",
    "# step 3: Iterate through the tuple and increment the count for each element\n",
    "for _ in my_tuple:\n",
    "    count +=1\n",
    "    \n",
    "# step 4: print the length of the tuple\n",
    "print(\"the length of the tuple is:\", count)"
   ]
  },
  {
   "cell_type": "markdown",
   "id": "53ada85c",
   "metadata": {},
   "source": [
    "# 4.Count the occurrences of an element in a tuple."
   ]
  },
  {
   "cell_type": "code",
   "execution_count": 22,
   "id": "4044bb79",
   "metadata": {},
   "outputs": [
    {
     "name": "stdout",
     "output_type": "stream",
     "text": [
      "The element 20 appears 3 times in tuple.\n"
     ]
    }
   ],
   "source": [
    "# step 1: create a tuple\n",
    "my_tuple = (10, 20, 30, 20, 40, 50, 20)\n",
    "\n",
    "# step 2: Choose the element to count occurrences of\n",
    "element_to_count = 20\n",
    "\n",
    "# step 3: Initialize a variable to keep track of the count\n",
    "count = 0\n",
    "\n",
    "# step 4: Iterate through the tuple and count occurrences of the chosen element\n",
    "for item in my_tuple:\n",
    "    if item == element_to_count:\n",
    "        count += 1\n",
    "        \n",
    "# step 5: print the count of occurrences\n",
    "print(f\"The element {element_to_count} appears {count} times in tuple.\")\n"
   ]
  },
  {
   "cell_type": "markdown",
   "id": "72648996",
   "metadata": {},
   "source": [
    "# 5.Find the index of the first occurrence of an element in a tuple."
   ]
  },
  {
   "cell_type": "code",
   "execution_count": 23,
   "id": "823f4c17",
   "metadata": {},
   "outputs": [
    {
     "name": "stdout",
     "output_type": "stream",
     "text": [
      "The first occurrence of 20 is at index 1.\n"
     ]
    }
   ],
   "source": [
    "# Step 1: Create a tuple\n",
    "my_tuple = (10, 20, 30, 20, 40, 50)\n",
    "\n",
    "# Step 2: Choose the element to find the index of\n",
    "element_to_find = 20\n",
    "\n",
    "# Step 3: Initialize a variable to keep track of the index\n",
    "index = -1  # Initialize with -1 to indicate that the element was not found\n",
    "\n",
    "# Step 4: Iterate through the tuple and find the index of the chosen element\n",
    "for i, item in enumerate(my_tuple):\n",
    "    if item == element_to_find:\n",
    "        index = i\n",
    "        break  # Exit the loop once the first occurrence is found\n",
    "\n",
    "# Step 5: Print the index of the first occurrence\n",
    "if index != -1:\n",
    "    print(f\"The first occurrence of {element_to_find} is at index {index}.\")\n",
    "else:\n",
    "    print(f\"{element_to_find} is not found in the tuple.\")"
   ]
  },
  {
   "cell_type": "markdown",
   "id": "29befa2d",
   "metadata": {},
   "source": [
    "# 6.Check if an element exists in a tuple."
   ]
  },
  {
   "cell_type": "code",
   "execution_count": 24,
   "id": "6e76fbcf",
   "metadata": {},
   "outputs": [
    {
     "name": "stdout",
     "output_type": "stream",
     "text": [
      "30 exists in the tuple.\n"
     ]
    }
   ],
   "source": [
    "# step 1 : Create a tuple\n",
    "my_tuple = (10, 20, 30, 40, 50)\n",
    "\n",
    "# step 2: Choose the element to check for existence\n",
    "element_to_check = 30 \n",
    "\n",
    "# step 3: check if the element exists in the tuple using the 'in' operator\n",
    "if element_to_check in my_tuple:\n",
    "    print(f\"{element_to_check} exists in the tuple.\")\n",
    "else:\n",
    "    print(f\"{element_to_check} dose not exist in the tuple.\")"
   ]
  },
  {
   "cell_type": "markdown",
   "id": "c9fd669f",
   "metadata": {},
   "source": [
    "# 7.Convert a tuple to a list. "
   ]
  },
  {
   "cell_type": "code",
   "execution_count": 25,
   "id": "e8f0fbd8",
   "metadata": {},
   "outputs": [
    {
     "name": "stdout",
     "output_type": "stream",
     "text": [
      "tuple: (10, 20, 30, 40, 50)\n",
      "list: [10, 20, 30, 40, 50]\n"
     ]
    }
   ],
   "source": [
    "# Create a tuple\n",
    "my_tuple = (10, 20, 30, 40, 50)\n",
    "\n",
    "# Convert the tuple to a list\n",
    "my_list = list(my_tuple)\n",
    "\n",
    "# print the resulting list\n",
    "print(\"tuple:\", my_tuple)\n",
    "print(\"list:\", my_list)"
   ]
  },
  {
   "cell_type": "markdown",
   "id": "ceebc0fa",
   "metadata": {},
   "source": [
    "# 8.Convert a list to a tuple."
   ]
  },
  {
   "cell_type": "code",
   "execution_count": 26,
   "id": "edfc7fef",
   "metadata": {},
   "outputs": [
    {
     "name": "stdout",
     "output_type": "stream",
     "text": [
      "list: [10, 20, 30, 40, 50]\n",
      "tuple (10, 20, 30, 40, 50)\n"
     ]
    }
   ],
   "source": [
    "# create a list\n",
    "my_list = [10, 20, 30, 40, 50]\n",
    "\n",
    "# convert the list to a tuple\n",
    "my_tuple = tuple(my_list)\n",
    "\n",
    "# print the resulting tuple\n",
    "print(\"list:\", my_list)\n",
    "print(\"tuple\", my_tuple)"
   ]
  },
  {
   "cell_type": "markdown",
   "id": "da3c54ef",
   "metadata": {},
   "source": [
    "# 9.Unpack the elements of a tuple into variables."
   ]
  },
  {
   "cell_type": "code",
   "execution_count": 27,
   "id": "502f4425",
   "metadata": {},
   "outputs": [
    {
     "name": "stdout",
     "output_type": "stream",
     "text": [
      "var1: 10\n",
      "var2: 20\n",
      "var3: 30\n"
     ]
    }
   ],
   "source": [
    "# step 1:create a tuple\n",
    "my_tuple = (10, 20, 30)\n",
    "\n",
    "# step 2: Unpack the elements of the tuple into variable\n",
    "var1, var2, var3 = my_tuple\n",
    "\n",
    "# step 3: print the variables\n",
    "print(\"var1:\",var1)\n",
    "print(\"var2:\",var2)\n",
    "print(\"var3:\",var3)"
   ]
  },
  {
   "cell_type": "markdown",
   "id": "8ae3a537",
   "metadata": {},
   "source": [
    "# 10.Create a tuple of even numbers from 1 to 10."
   ]
  },
  {
   "cell_type": "code",
   "execution_count": 28,
   "id": "cbf45385",
   "metadata": {},
   "outputs": [
    {
     "name": "stdout",
     "output_type": "stream",
     "text": [
      "Tuple of even numbers: (2, 4, 6, 8, 10)\n"
     ]
    }
   ],
   "source": [
    "# create a list of even numbers using a list comprehension\n",
    "even_numbers_list = [num for num in range(2, 11, 2)] # start from 2, step by 2, end at 10\n",
    "\n",
    "# convert the list to a tuple\n",
    "even_numbers_tuple = tuple(even_numbers_list)\n",
    "\n",
    "# print the resulting tuple\n",
    "print(\"Tuple of even numbers:\", even_numbers_tuple)"
   ]
  },
  {
   "cell_type": "markdown",
   "id": "f2a97236",
   "metadata": {},
   "source": [
    "# 11.Create a tuple of odd numbers from 1 to 10."
   ]
  },
  {
   "cell_type": "code",
   "execution_count": 29,
   "id": "200f21c7",
   "metadata": {},
   "outputs": [
    {
     "name": "stdout",
     "output_type": "stream",
     "text": [
      "Tuple of even numbers: (2, 4, 6, 8, 10)\n"
     ]
    }
   ],
   "source": [
    "# create a list of even numbers using a list comprehension\n",
    "even_numbers_list = [num for num in range(2, 11, 2)] # start from 2, step by 2, end at 10\n",
    "\n",
    "# convert the list to a tuple\n",
    "even_numbers_tuple = tuple(even_numbers_list)\n",
    "\n",
    "# print the resulting tuple\n",
    "print(\"Tuple of even numbers:\",even_numbers_tuple)"
   ]
  },
  {
   "cell_type": "markdown",
   "id": "14b101e6",
   "metadata": {},
   "source": [
    "# 12.Concatenate two tuples."
   ]
  },
  {
   "cell_type": "code",
   "execution_count": 30,
   "id": "1326b312",
   "metadata": {},
   "outputs": [
    {
     "name": "stdout",
     "output_type": "stream",
     "text": [
      "concatenated tuple: (1, 2, 3, 4, 5, 6)\n"
     ]
    }
   ],
   "source": [
    "# create two  tuples\n",
    "tuple1 = (1, 2, 3)\n",
    "tuple2 = (4, 5, 6)\n",
    "\n",
    "# concatenate the two tuples\n",
    "concatenated_tuple = tuple1 + tuple2\n",
    "\n",
    "# print the concatenated tuple\n",
    "print(\"concatenated tuple:\",concatenated_tuple)"
   ]
  },
  {
   "cell_type": "markdown",
   "id": "3d62eb43",
   "metadata": {},
   "source": [
    "# 13.Repeat a tuple three times."
   ]
  },
  {
   "cell_type": "code",
   "execution_count": 31,
   "id": "eb7631a2",
   "metadata": {},
   "outputs": [
    {
     "name": "stdout",
     "output_type": "stream",
     "text": [
      "Repeated tuple: (1, 2, 3, 1, 2, 3, 1, 2, 3)\n"
     ]
    }
   ],
   "source": [
    "# create a tuple\n",
    "original_tuple = (1, 2, 3)\n",
    "\n",
    "#repeat the tuple three times\n",
    "repeated_tuple = original_tuple * 3\n",
    "\n",
    "# print the repeated tuple\n",
    "print(\"Repeated tuple:\", repeated_tuple)"
   ]
  },
  {
   "cell_type": "markdown",
   "id": "ea72bc34",
   "metadata": {},
   "source": [
    "# 14. Check if a tuple is empty."
   ]
  },
  {
   "cell_type": "code",
   "execution_count": 33,
   "id": "beee9bb8",
   "metadata": {},
   "outputs": [
    {
     "name": "stdout",
     "output_type": "stream",
     "text": [
      "the empty_tuple is empty.\n",
      "the non_empty_tuple is not empty.\n"
     ]
    }
   ],
   "source": [
    "# create an empty tuple and a non-empty tuple\n",
    "empty_tuple = ()\n",
    "non_empty_tuple = (1, 2, 3)\n",
    "\n",
    "# check if the tuples are empty\n",
    "if not empty_tuple:\n",
    "    print(\"the empty_tuple is empty.\")\n",
    "else:\n",
    "    print(\"the empty_tuple is not empty.\")\n",
    "    \n",
    "if not non_empty_tuple:\n",
    "    print(\"the non_empty_tuple is empty.\")\n",
    "else:\n",
    "    print(\"the non_empty_tuple is not empty.\")"
   ]
  },
  {
   "cell_type": "markdown",
   "id": "cfdcce5f",
   "metadata": {},
   "source": [
    "# 15.Create a nested tuple."
   ]
  },
  {
   "cell_type": "code",
   "execution_count": 34,
   "id": "603f75c8",
   "metadata": {},
   "outputs": [
    {
     "name": "stdout",
     "output_type": "stream",
     "text": [
      "Nested tuple: ((1, 2, 3), ('a', 'b'), (True, False))\n"
     ]
    }
   ],
   "source": [
    "# create a nested tuple\n",
    "nested_tuple = ((1,2,3),('a', 'b'), (True, False))\n",
    "\n",
    "# print the nested tuple\n",
    "print(\"Nested tuple:\", nested_tuple)"
   ]
  },
  {
   "cell_type": "markdown",
   "id": "773e5d9c",
   "metadata": {},
   "source": [
    "# 16.Access the first element of a nested tuple."
   ]
  },
  {
   "cell_type": "code",
   "execution_count": 35,
   "id": "743da100",
   "metadata": {},
   "outputs": [
    {
     "name": "stdout",
     "output_type": "stream",
     "text": [
      "first element of the nested tuple: (1, 2, 3)\n"
     ]
    }
   ],
   "source": [
    "# create a nested tuple\n",
    "nested_tuple = ((1, 2, 3), ('a', 'b', 'c'), (True, False))\n",
    "\n",
    "# access the first element of the nested tuple\n",
    "first_element = nested_tuple[0]\n",
    "\n",
    "# print the first element\n",
    "print(\"first element of the nested tuple:\",first_element)"
   ]
  },
  {
   "cell_type": "markdown",
   "id": "79fe9ed4",
   "metadata": {},
   "source": [
    "# 17.Create a tuple with a single element."
   ]
  },
  {
   "cell_type": "code",
   "execution_count": 37,
   "id": "ff62c5dd",
   "metadata": {},
   "outputs": [
    {
     "name": "stdout",
     "output_type": "stream",
     "text": [
      "single element tuple: (42,)\n"
     ]
    }
   ],
   "source": [
    "# create a tuple with a single element\n",
    "single_element_tuple = (42,) \n",
    "\n",
    "# print the single element tuple\n",
    "print(\"single element tuple:\", single_element_tuple)"
   ]
  },
  {
   "cell_type": "markdown",
   "id": "e8497ea8",
   "metadata": {},
   "source": [
    "# 18.Compare two tuples."
   ]
  },
  {
   "cell_type": "code",
   "execution_count": 38,
   "id": "d1abb353",
   "metadata": {},
   "outputs": [
    {
     "name": "stdout",
     "output_type": "stream",
     "text": [
      "tuple1 == tuple2: True\n",
      "tuple1 != tuple2: True\n",
      "tuple1 < tuple2: True\n",
      "tuple1 <= tuple2: True\n",
      "tuple1 > tuple2: True\n",
      "tuple1 >= tuple2: True\n"
     ]
    }
   ],
   "source": [
    "# create two tuples\n",
    "tuple1 = (1, 2, 3)\n",
    "tuple2 = (1, 2, 3)\n",
    "\n",
    "# compare the two tuples using comparison operators\n",
    "print(\"tuple1 == tuple2:\", tuple1 == tuple2)\n",
    "print(\"tuple1 != tuple2:\", tuple1 == tuple2)\n",
    "print(\"tuple1 < tuple2:\", tuple1 == tuple2)\n",
    "print(\"tuple1 <= tuple2:\", tuple1 == tuple2)\n",
    "print(\"tuple1 > tuple2:\", tuple1 == tuple2)\n",
    "print(\"tuple1 >= tuple2:\", tuple1 == tuple2)"
   ]
  },
  {
   "cell_type": "markdown",
   "id": "0088f4ab",
   "metadata": {},
   "source": [
    "# 19.Delete a tuple."
   ]
  },
  {
   "cell_type": "code",
   "execution_count": 5,
   "id": "11cf79f8",
   "metadata": {},
   "outputs": [
    {
     "ename": "NameError",
     "evalue": "name 'my_tuple' is not defined",
     "output_type": "error",
     "traceback": [
      "\u001b[1;31m---------------------------------------------------------------------------\u001b[0m",
      "\u001b[1;31mNameError\u001b[0m                                 Traceback (most recent call last)",
      "Cell \u001b[1;32mIn[5], line 8\u001b[0m\n\u001b[0;32m      5\u001b[0m \u001b[38;5;28;01mdel\u001b[39;00m my_tuple\n\u001b[0;32m      7\u001b[0m \u001b[38;5;66;03m# try to access the tuple(will raise a NameError)\u001b[39;00m\n\u001b[1;32m----> 8\u001b[0m \u001b[38;5;28mprint\u001b[39m(\u001b[43mmy_tuple\u001b[49m)\n",
      "\u001b[1;31mNameError\u001b[0m: name 'my_tuple' is not defined"
     ]
    }
   ],
   "source": [
    "# create a tuple\n",
    "my_tuple = (1, 2, 3, 4, 5)\n",
    "\n",
    "# delete the tuple using the 'del' statement\n",
    "del my_tuple\n",
    "\n",
    "# try to access the tuple(will raise a NameError)\n",
    "print(my_tuple)"
   ]
  },
  {
   "cell_type": "code",
   "execution_count": 7,
   "id": "9f7c4a8f",
   "metadata": {},
   "outputs": [
    {
     "name": "stdout",
     "output_type": "stream",
     "text": [
      "sliced tuple: (3, 4, 5, 6)\n"
     ]
    }
   ],
   "source": [
    "# create a tuple\n",
    "my_tuple = (1,2,3,4,5,6,7,8,9,10)\n",
    "\n",
    "# slice the tuple to get a portion of it\n",
    "sliced_tuple = my_tuple[2:6]\n",
    "\n",
    "\n",
    "\n",
    "# print the sliced tuple\n",
    "print(\"sliced tuple:\", sliced_tuple)"
   ]
  },
  {
   "cell_type": "markdown",
   "id": "147b7967",
   "metadata": {},
   "source": [
    "# 21.Find the maximum value in a tuple."
   ]
  },
  {
   "cell_type": "code",
   "execution_count": 10,
   "id": "4ac25ec0",
   "metadata": {},
   "outputs": [
    {
     "name": "stdout",
     "output_type": "stream",
     "text": [
      "maximum value: 45\n"
     ]
    }
   ],
   "source": [
    "# create a tuple\n",
    "my_tuple = (10, 20, 5, 45, 30)\n",
    "\n",
    "# find the maximum value in the tuple using the 'max()' function\n",
    "max_value = max(my_tuple)\n",
    "\n",
    "# print the maximum value\n",
    "print(\"maximum value:\", max_value)"
   ]
  },
  {
   "cell_type": "markdown",
   "id": "f3bfbc77",
   "metadata": {},
   "source": [
    "# 22.Find the minimum value in a tuple. "
   ]
  },
  {
   "cell_type": "code",
   "execution_count": 12,
   "id": "d179fcf1",
   "metadata": {},
   "outputs": [
    {
     "name": "stdout",
     "output_type": "stream",
     "text": [
      "minimum value: 5\n"
     ]
    }
   ],
   "source": [
    "# create a tuple\n",
    "my_tuple = (10,20,5,45,30)\n",
    "\n",
    "# find the minimum value in the tuple using 'the min()' function\n",
    "min_value = min(my_tuple)\n",
    "\n",
    "# print the minimum value\n",
    "print(\"minimum value:\", min_value)"
   ]
  },
  {
   "cell_type": "markdown",
   "id": "4a564b48",
   "metadata": {},
   "source": [
    "# 23.Convert a string to a tuple of characters."
   ]
  },
  {
   "cell_type": "code",
   "execution_count": 13,
   "id": "0723a57b",
   "metadata": {},
   "outputs": [
    {
     "name": "stdout",
     "output_type": "stream",
     "text": [
      "tuple of characters: ('h', 'e', 'l', 'l', 'o', ',', ' ', 'w', 'o', 'r', 'l', 'd', '!')\n"
     ]
    }
   ],
   "source": [
    "# create a string\n",
    "my_string = \"hello, world!\"\n",
    "\n",
    "# convert the string to a tuple of characters\n",
    "tuple_of_characters =tuple(my_string)\n",
    "\n",
    "# print the tuple of characters\n",
    "print(\"tuple of characters:\", tuple_of_characters)"
   ]
  },
  {
   "cell_type": "markdown",
   "id": "f57909e2",
   "metadata": {},
   "source": [
    "# 24.Convert a tuple of characters to a string."
   ]
  },
  {
   "cell_type": "code",
   "execution_count": 2,
   "id": "71bbc9ab",
   "metadata": {},
   "outputs": [
    {
     "name": "stdout",
     "output_type": "stream",
     "text": [
      "string from tuple: Hello world!\n"
     ]
    }
   ],
   "source": [
    "# ceate a tuple of characters\n",
    "tuple_of_charasters = ('H', 'e', 'l', 'l', 'o', ' ', 'w', 'o', 'r', 'l', 'd','!')\n",
    "\n",
    "# convert the tuple of characters to a string using the 'join()' method\n",
    "string_from_tuple = ''.join(tuple_of_charasters)\n",
    "\n",
    "# print the resulting string\n",
    "print(\"string from tuple:\", string_from_tuple)"
   ]
  },
  {
   "cell_type": "markdown",
   "id": "070cc08a",
   "metadata": {},
   "source": [
    "# 25.Create a tuple from multiple data types. "
   ]
  },
  {
   "cell_type": "code",
   "execution_count": 3,
   "id": "fb2ac235",
   "metadata": {},
   "outputs": [
    {
     "name": "stdout",
     "output_type": "stream",
     "text": [
      "(1, 'hello', 3.14, True)\n"
     ]
    }
   ],
   "source": [
    "# creating a tuple with elements of different data types\n",
    "mixed_tuple = (1, \"hello\", 3.14, True)\n",
    "\n",
    "# printing te tuple\n",
    "print(mixed_tuple)"
   ]
  },
  {
   "cell_type": "markdown",
   "id": "a573eed0",
   "metadata": {},
   "source": [
    "# 26.Check if two tuples are identical."
   ]
  },
  {
   "cell_type": "code",
   "execution_count": 4,
   "id": "f7460914",
   "metadata": {},
   "outputs": [
    {
     "name": "stdout",
     "output_type": "stream",
     "text": [
      "tuple1 and tuple2 are identical: True\n",
      "tuple1 and tuple3 are identical: True\n"
     ]
    }
   ],
   "source": [
    "# create two tuples\n",
    "tuple1 = (1, 2, 3)\n",
    "tuple2 = (1, 2, 3)\n",
    "tuple3 = (4, 5, 6)\n",
    "\n",
    "# compare the tuples for identity using the equality operator\n",
    "are_identical1 = tuple1 == tuple2\n",
    "are_identical2 = tuple1 == tuple2\n",
    "\n",
    "# print the retults\n",
    "print(\"tuple1 and tuple2 are identical:\", are_identical1)\n",
    "print(\"tuple1 and tuple3 are identical:\", are_identical2)"
   ]
  },
  {
   "cell_type": "markdown",
   "id": "9b5cb60d",
   "metadata": {},
   "source": [
    "# 27.Sort the elements of a tuple."
   ]
  },
  {
   "cell_type": "code",
   "execution_count": 5,
   "id": "e76bda3d",
   "metadata": {},
   "outputs": [
    {
     "name": "stdout",
     "output_type": "stream",
     "text": [
      "sorted tuple: (1, 2, 3, 5, 8)\n"
     ]
    }
   ],
   "source": [
    "# create a tuple\n",
    "my_tuple = (5, 2, 8, 1, 3)\n",
    "\n",
    "# convert the tuple to a list, sort the list, and convert it back to a tuple\n",
    "sorted_tuple = tuple(sorted(my_tuple))\n",
    "\n",
    "# step 3: print the sorted tuple\n",
    "print(\"sorted tuple:\", sorted_tuple)"
   ]
  },
  {
   "cell_type": "markdown",
   "id": "5052c0dc",
   "metadata": {},
   "source": [
    "# 28.Convert a tuple of integers to a tuple of strings."
   ]
  },
  {
   "cell_type": "code",
   "execution_count": 9,
   "id": "893c2949",
   "metadata": {},
   "outputs": [
    {
     "name": "stdout",
     "output_type": "stream",
     "text": [
      "tuple of strings: ('1', '2', '3', '4', '5')\n"
     ]
    }
   ],
   "source": [
    "# create a tuple of integers \n",
    "tuple_of_integers = (1, 2, 3, 4, 5)\n",
    "\n",
    "# convert the tuple of integers to a tuple of string using a list comprehension\n",
    "tuple_of_strings = tuple(str(item) for item in tuple_of_integers)\n",
    "\n",
    "# print the tuple of strings\n",
    "print(\"tuple of strings:\", tuple_of_strings)"
   ]
  },
  {
   "cell_type": "markdown",
   "id": "46732384",
   "metadata": {},
   "source": [
    "# 29.Convert a tuple of strings to a tuple of integers."
   ]
  },
  {
   "cell_type": "code",
   "execution_count": 11,
   "id": "b2cb133f",
   "metadata": {},
   "outputs": [
    {
     "name": "stdout",
     "output_type": "stream",
     "text": [
      "tuple if integers: (10, 20, 30, 40, 50)\n"
     ]
    }
   ],
   "source": [
    "# create a tuple of strings\n",
    "tuple_of_strings = ('10','20','30','40','50')\n",
    "\n",
    "# convert the tuple of strings to a tuple of integers using a list comprehension\n",
    "tuple_of_integers = tuple(int(item) for item in tuple_of_strings)\n",
    "\n",
    "# print the tuple of integers\n",
    "print(\"tuple if integers:\", tuple_of_integers)"
   ]
  },
  {
   "cell_type": "markdown",
   "id": "0136607c",
   "metadata": {},
   "source": [
    "# 30.Merge two tuples."
   ]
  },
  {
   "cell_type": "code",
   "execution_count": 12,
   "id": "af6aeebf",
   "metadata": {},
   "outputs": [
    {
     "name": "stdout",
     "output_type": "stream",
     "text": [
      "merged tuple: (1, 2, 3, 4, 5, 6)\n"
     ]
    }
   ],
   "source": [
    "# create two tuple\n",
    "tuple1 = (1, 2, 3)\n",
    "tuple2 = (4, 5, 6)\n",
    "\n",
    "# merge the two tuples using the '+' operator\n",
    "merged_tuple = tuple1 + tuple2\n",
    "\n",
    "# print the merged tuple\n",
    "print(\"merged tuple:\", merged_tuple)"
   ]
  },
  {
   "cell_type": "markdown",
   "id": "62faf36d",
   "metadata": {},
   "source": [
    "# 31.Flatten a nested tuple."
   ]
  },
  {
   "cell_type": "code",
   "execution_count": 14,
   "id": "8e57f920",
   "metadata": {},
   "outputs": [
    {
     "name": "stdout",
     "output_type": "stream",
     "text": [
      "flattened tuple: (1, 2, 3, 4, 5, 6, 7, 8)\n"
     ]
    }
   ],
   "source": [
    "# Recursive function to flatten a nested tuple\n",
    "def flatten_tuple(nested_tuple):\n",
    "    flattened = []\n",
    "    for item in nested_tuple:\n",
    "        if isinstance(item, tuple):\n",
    "            flattened.extend(flatten_tuple(item))\n",
    "        else:\n",
    "            flattened.append(item)\n",
    "    return flattened\n",
    "        \n",
    "# create a nested tuple\n",
    "nested_tuple = ((1, 2), (3, 4, 5), (6, (7, 8)))\n",
    "\n",
    "# flatten the nested tuple\n",
    "flattened_tuple = tuple(flatten_tuple(nested_tuple))\n",
    "\n",
    "# print the flattened tuple\n",
    "print(\"flattened tuple:\", flattened_tuple)"
   ]
  },
  {
   "cell_type": "markdown",
   "id": "a0871988",
   "metadata": {},
   "source": [
    "# 32.Create a tuple of the first 5 prime numbers."
   ]
  },
  {
   "cell_type": "code",
   "execution_count": 16,
   "id": "decd4729",
   "metadata": {},
   "outputs": [
    {
     "name": "stdout",
     "output_type": "stream",
     "text": [
      "tuple of the first 5 prime numbers: (5, 7, 9, 11, 13)\n"
     ]
    }
   ],
   "source": [
    "# function to check if a number is prime\n",
    "def is_prime(num):\n",
    "    if num <= 1:\n",
    "        return False\n",
    "    for i in range(2, int(num ** 0.5) + 1):\n",
    "        if num % i == 0:\n",
    "            return False\n",
    "        return True\n",
    "    \n",
    "# Generate the first 5 prime numbers\n",
    "prime_numbers_list = [num for num in range(2, 100) if is_prime(num)][:5]\n",
    "\n",
    "# convert the list to a tuple\n",
    "prime_numbers_tuple = tuple(prime_numbers_list)\n",
    "\n",
    "# print the tuple of prime numbers\n",
    "print(\"tuple of the first 5 prime numbers:\", prime_numbers_tuple)"
   ]
  },
  {
   "cell_type": "markdown",
   "id": "275802ba",
   "metadata": {},
   "source": [
    "# 33.Check if a tuple is a palindrome."
   ]
  },
  {
   "cell_type": "code",
   "execution_count": 19,
   "id": "7bab7edb",
   "metadata": {},
   "outputs": [
    {
     "name": "stdout",
     "output_type": "stream",
     "text": [
      "palindrome_tuple is a palindrome: True\n",
      "non_palindrome_tuple is a palindrome: False\n"
     ]
    }
   ],
   "source": [
    "# function to check if a tuple is to palindrome\n",
    "def is_palindrome(tupl):\n",
    "    return tupl == tupl[::-1]\n",
    "\n",
    "# create tuples for testing\n",
    "palindrome_tuple = (1, 2, 3, 2, 1)\n",
    "non_palindrome2_tuple = (1, 2, 3, 4, 5)\n",
    "\n",
    "# check if the tuples are palindromes\n",
    "is_palindrome1 = is_palindrome(palindrome_tuple)\n",
    "is_palindrome2 = is_palindrome(non_palindrome2_tuple)\n",
    "\n",
    "# print the results\n",
    "print(\"palindrome_tuple is a palindrome:\", is_palindrome1)\n",
    "print(\"non_palindrome_tuple is a palindrome:\", is_palindrome2)"
   ]
  },
  {
   "cell_type": "markdown",
   "id": "4feec281",
   "metadata": {},
   "source": [
    "# 34.Create a tuple of squares of numbers from 1 to 5."
   ]
  },
  {
   "cell_type": "code",
   "execution_count": 20,
   "id": "1dc4f69d",
   "metadata": {},
   "outputs": [
    {
     "name": "stdout",
     "output_type": "stream",
     "text": [
      "tuple of squares: (1, 4, 9, 16, 25)\n"
     ]
    }
   ],
   "source": [
    "# create a tuple of squares using a list comprehension\n",
    "squares_tuple = tuple(x **  2 for x in range(1, 6))\n",
    "\n",
    "# print the tuple of squares\n",
    "print(\"tuple of squares:\", squares_tuple)"
   ]
  },
  {
   "cell_type": "markdown",
   "id": "c42227a9",
   "metadata": {},
   "source": [
    "# 35.Filter out all even numbers from a tuple."
   ]
  },
  {
   "cell_type": "code",
   "execution_count": 21,
   "id": "78ac0cc0",
   "metadata": {},
   "outputs": [
    {
     "name": "stdout",
     "output_type": "stream",
     "text": [
      "filtered tuple: (1, 3, 5, 7, 9)\n"
     ]
    }
   ],
   "source": [
    "# create a tuple\n",
    "original_tuple = (1, 2, 3, 4, 5, 6, 7, 8, 9, 10)\n",
    "\n",
    "# filter out even numbers using a list comprehension\n",
    "filtered_tuple = tuple(num for num in original_tuple if num % 2 !=0)\n",
    "\n",
    "# print the filtered tuple\n",
    "print(\"filtered tuple:\", filtered_tuple)"
   ]
  },
  {
   "cell_type": "markdown",
   "id": "ce7d6696",
   "metadata": {},
   "source": [
    "# 36. Multiply all elements in a tuple by 2."
   ]
  },
  {
   "cell_type": "code",
   "execution_count": 24,
   "id": "36abeccd",
   "metadata": {},
   "outputs": [
    {
     "name": "stdout",
     "output_type": "stream",
     "text": [
      "Double tuple: (2, 4, 6, 8, 10)\n"
     ]
    }
   ],
   "source": [
    "# create a tuple\n",
    "original_tuple = (1, 2, 3, 4, 5)\n",
    "\n",
    "# multiply all elements by 2 using a list comprehension and convert  to a tuple\n",
    "doubled_tuple = tuple(num * 2 for num in original_tuple)\n",
    "\n",
    "# print the double tuple\n",
    "print(\"Double tuple:\", doubled_tuple)"
   ]
  },
  {
   "cell_type": "markdown",
   "id": "2cd0fb94",
   "metadata": {},
   "source": [
    "# 37.Create a tuple of random numbers."
   ]
  },
  {
   "cell_type": "code",
   "execution_count": 25,
   "id": "f4dcf605",
   "metadata": {},
   "outputs": [
    {
     "name": "stdout",
     "output_type": "stream",
     "text": [
      "random tuple: (13, 45, 62, 61, 50, 95, 39, 42, 12, 32)\n"
     ]
    }
   ],
   "source": [
    "import random\n",
    "\n",
    "# create a tuple of random numbers usinf a list comprehension\n",
    "random_tuple = tuple(random.randint(1, 100) for _ in range(10)) \n",
    "\n",
    "# print the tuple of random numbers\n",
    "print(\"random tuple:\", random_tuple)"
   ]
  },
  {
   "cell_type": "markdown",
   "id": "97b77234",
   "metadata": {},
   "source": [
    "# 38.Check if a tuple is sorted."
   ]
  },
  {
   "cell_type": "code",
   "execution_count": 27,
   "id": "85f132f8",
   "metadata": {},
   "outputs": [
    {
     "name": "stdout",
     "output_type": "stream",
     "text": [
      "sorted_tuple is sorted: True\n",
      "unsorted_tuple is sorted: False\n"
     ]
    }
   ],
   "source": [
    "# function to check if  tuple is sorted\n",
    "def is_sorted(tupl):\n",
    "    for i in range(len(tupl) - 1):\n",
    "        if tupl[i] > tupl[i + 1]:\n",
    "            return False\n",
    "    return True\n",
    "\n",
    "# create tuples for testing\n",
    "sorted_tuple = (1, 2, 3, 4, 5)\n",
    "unsorted_tuple = (5, 3, 1, 4, 2)\n",
    "\n",
    "# check if the tuples are sorted\n",
    "is_sorted1 = is_sorted(sorted_tuple)\n",
    "is_sorted2 = is_sorted(unsorted_tuple)\n",
    "\n",
    "# print the results\n",
    "print(\"sorted_tuple is sorted:\", is_sorted1)\n",
    "print(\"unsorted_tuple is sorted:\", is_sorted2)"
   ]
  },
  {
   "cell_type": "markdown",
   "id": "e7d03b43",
   "metadata": {},
   "source": [
    "# 39.Rotate a tuple to the left by n positions"
   ]
  },
  {
   "cell_type": "code",
   "execution_count": 31,
   "id": "548c2b5a",
   "metadata": {},
   "outputs": [
    {
     "name": "stdout",
     "output_type": "stream",
     "text": [
      "(3, 4, 5, 1, 2)\n"
     ]
    }
   ],
   "source": [
    "def rotate_tuple_left(tupl, n):\n",
    "    n = n % len(tupl)\n",
    "    rotated_tuple = tupl[n:] + tupl[:n]\n",
    "    return rotated_tuple\n",
    "\n",
    "# Example tuple\n",
    "my_tuple = (1, 2, 3, 4, 5)\n",
    "n_positions = 2\n",
    "result = rotate_tuple_left(my_tuple, n_positions)\n",
    "print(result)"
   ]
  },
  {
   "cell_type": "markdown",
   "id": "b965f5c8",
   "metadata": {},
   "source": [
    "# 40.Rotate a tuple to the right by n positions "
   ]
  },
  {
   "cell_type": "code",
   "execution_count": 32,
   "id": "b65fd370",
   "metadata": {},
   "outputs": [
    {
     "name": "stdout",
     "output_type": "stream",
     "text": [
      "(4, 5, 1, 2, 3)\n"
     ]
    }
   ],
   "source": [
    "# \n",
    "def rotate_tuple_right(tupl, n):\n",
    "    n = n % len(tupl)\n",
    "    rotate_tuple = tupl[-n:] + tupl[:-n]\n",
    "    return rotate_tuple\n",
    "\n",
    "# Example tuple\n",
    "my_tuple = (1, 2, 3, 4, 5)\n",
    "n_positions = 2\n",
    "result = rotate_tuple_right(my_tuple, n_positions)\n",
    "print(result)"
   ]
  },
  {
   "cell_type": "markdown",
   "id": "2341e9b1",
   "metadata": {},
   "source": [
    "# 41.Create a tuple of the first 5 Fibonacci numbers"
   ]
  },
  {
   "cell_type": "code",
   "execution_count": 33,
   "id": "45b2e541",
   "metadata": {},
   "outputs": [
    {
     "name": "stdout",
     "output_type": "stream",
     "text": [
      "(0, 1, 1, 2, 3)\n"
     ]
    }
   ],
   "source": [
    "# Define a function to generate the first n fibonacci numbers\n",
    "def generate_fibonacci(n):\n",
    "    fibonacci = [0, 1]\n",
    "    while len(fibonacci) < n:\n",
    "        next_number = fibonacci[-1] + fibonacci[-2]\n",
    "        fibonacci.append(next_number)\n",
    "    return tuple(fibonacci)\n",
    "\n",
    "\n",
    "fibonacci_tuple = generate_fibonacci(5)\n",
    "\n",
    "print(fibonacci_tuple)"
   ]
  },
  {
   "cell_type": "markdown",
   "id": "3133a8d9",
   "metadata": {},
   "source": [
    "# 42.Create a tuple from user input."
   ]
  },
  {
   "cell_type": "code",
   "execution_count": 34,
   "id": "a52628e0",
   "metadata": {},
   "outputs": [
    {
     "name": "stdout",
     "output_type": "stream",
     "text": [
      "enter elements separated by commas: ,f,g,,,r,y,u,u,h,g,f,f,\n",
      "user input tuple: ('', 'f', 'g', '', '', 'r', 'y', 'u', 'u', 'h', 'g', 'f', 'f', '')\n"
     ]
    }
   ],
   "source": [
    "# taking user input for creating a tuple\n",
    "input_str = input(\"enter elements separated by commas: \")\n",
    "\n",
    "# splitting the input string into a list of strings\n",
    "input_list = input_str.split(',')\n",
    "\n",
    "# converting the list of strings to a tuple\n",
    "user_tuple = tuple(input_list)\n",
    "\n",
    "# printing the created tuple\n",
    "print(\"user input tuple:\", user_tuple)"
   ]
  },
  {
   "cell_type": "markdown",
   "id": "1d6478f0",
   "metadata": {},
   "source": [
    "# 43.Swap two elements in a tuple."
   ]
  },
  {
   "cell_type": "code",
   "execution_count": 1,
   "id": "60e2c677",
   "metadata": {},
   "outputs": [
    {
     "name": "stdout",
     "output_type": "stream",
     "text": [
      "sapped tuple: (1, 4, 3, 2, 5)\n"
     ]
    }
   ],
   "source": [
    "# create a tuple\n",
    "my_tuple = (1, 2, 3, 4, 5)\n",
    "\n",
    "# swap elemnts at indicaes 1 and 3\n",
    "index1 = 1\n",
    "index2 = 3\n",
    "swapped_tuple = tuple(\n",
    "    my_tuple[i] if i not in (index1, index2)else\n",
    "    my_tuple[index2] if i == index1 else\n",
    "    my_tuple[index1]\n",
    "    for i in range(len(my_tuple))\n",
    ")\n",
    "\n",
    "\n",
    "#print the wapped tuple\n",
    "print(\"sapped tuple:\", swapped_tuple)"
   ]
  },
  {
   "cell_type": "markdown",
   "id": "085f1367",
   "metadata": {},
   "source": [
    "# 44.Reverse the elements of a tuple."
   ]
  },
  {
   "cell_type": "code",
   "execution_count": 2,
   "id": "64a8394f",
   "metadata": {},
   "outputs": [
    {
     "name": "stdout",
     "output_type": "stream",
     "text": [
      "reversed tuple: (5, 4, 3, 2, 1)\n"
     ]
    }
   ],
   "source": [
    "# create a tuple\n",
    "my_tuple = (1, 2, 3, 4, 5)\n",
    "\n",
    "# Reverse the elements using slicing\n",
    "reversed_tuple = my_tuple[::-1]\n",
    "\n",
    "\n",
    "# print the reversed tuple\n",
    "print(\"reversed tuple:\", reversed_tuple)"
   ]
  },
  {
   "cell_type": "markdown",
   "id": "b551fc89",
   "metadata": {},
   "source": [
    "# 45.Create a tuple of the first n powers of 2."
   ]
  },
  {
   "cell_type": "code",
   "execution_count": 5,
   "id": "b04ad269",
   "metadata": {},
   "outputs": [
    {
     "name": "stdout",
     "output_type": "stream",
     "text": [
      "tuple of the first 5 powers of 2: (1, 2, 4, 8, 16)\n"
     ]
    }
   ],
   "source": [
    "# define the value of n\n",
    "n = 5\n",
    "\n",
    "# create a tuple of the first n powers of 2 using a list comprehension\n",
    "powers_of_2_tuple = tuple(2 ** i for i in range (n))\n",
    "\n",
    "# print the tuple of powers of 2\n",
    "print(\"tuple of the first\", n, \"powers of 2:\", powers_of_2_tuple)"
   ]
  },
  {
   "cell_type": "markdown",
   "id": "3f12f405",
   "metadata": {},
   "source": [
    "# 46.Find the longest string in a tuple of strings."
   ]
  },
  {
   "cell_type": "code",
   "execution_count": 6,
   "id": "3c03eb9a",
   "metadata": {},
   "outputs": [
    {
     "name": "stdout",
     "output_type": "stream",
     "text": [
      "longest string: watermelon\n"
     ]
    }
   ],
   "source": [
    "# create a tuple of strings\n",
    "string_tuple = (\"apple\", \"banana\",\"grape\",\"kiwi\", \"watermelon\")\n",
    "\n",
    "\n",
    "# find the longest string in the tuple\n",
    "longest_string = max(string_tuple, key=len)\n",
    "\n",
    "# print the longest string\n",
    "print(\"longest string:\", longest_string)"
   ]
  },
  {
   "cell_type": "markdown",
   "id": "87a98f36",
   "metadata": {},
   "source": [
    "# 47.Find the shortest string in a tuple of strings"
   ]
  },
  {
   "cell_type": "code",
   "execution_count": 7,
   "id": "fd1a1b32",
   "metadata": {},
   "outputs": [
    {
     "name": "stdout",
     "output_type": "stream",
     "text": [
      "stortest string: kiwi\n"
     ]
    }
   ],
   "source": [
    "# create a tuple of string\n",
    "string_tuple = (\"apple\", \"banana\", \"grape\", \"kiwi\", \"watermelon\")\n",
    "\n",
    "# find the shortest string in the tuple\n",
    "shortest_string = min(string_tuple, key=len)\n",
    "\n",
    "# print the shortest string\n",
    "print(\"stortest string:\", shortest_string)"
   ]
  },
  {
   "cell_type": "markdown",
   "id": "afe9568a",
   "metadata": {},
   "source": [
    "# 47.Find the shortest string in a tuple of strings."
   ]
  },
  {
   "cell_type": "code",
   "execution_count": 9,
   "id": "104a171e",
   "metadata": {},
   "outputs": [
    {
     "name": "stdout",
     "output_type": "stream",
     "text": [
      "tuple of the first 5 triangular numbers: (1, 3, 6, 10, 15)\n"
     ]
    }
   ],
   "source": [
    "# define the value of n\n",
    "n = 5\n",
    "\n",
    "# create a tuple of the first n triangular numbers using a list comprehension\n",
    "triangular_numbers_tuple = tuple((i * (i+1)) // 2 for i in range(1, n + 1))\n",
    "\n",
    "# print the tuple of triangular numbers\n",
    "print(\"tuple of the first\", n, \"triangular numbers:\", triangular_numbers_tuple)"
   ]
  },
  {
   "cell_type": "code",
   "execution_count": 15,
   "id": "0e7808c1",
   "metadata": {},
   "outputs": [
    {
     "name": "stdout",
     "output_type": "stream",
     "text": [
      "main tuple contains subsequence tuple: True\n"
     ]
    }
   ],
   "source": [
    "# function to check if a tuple contains another tuple as a subsequence\n",
    "def contains_subsequence(main_tuple, sub_tuple):\n",
    "    sub_length = len(sub_tuple)\n",
    "    for i in range(len(main_tuple) - sub_length + 1):\n",
    "        if main_tuple[i:i+sub_length] == sub_tuple:\n",
    "            return True\n",
    "    return False\n",
    "# main tuple\n",
    "main_tuple = (1, 2, 3, 4, 5, 6, 7, 8, 9)\n",
    "\n",
    "# subsequence tuple\n",
    "sub_tuple = (3, 4, 5)\n",
    "# check if the main tuple contains the subsequence tuple\n",
    "contains_subseq = contains_subsequence(main_tuple, sub_tuple)\n",
    "\n",
    "# print the result\n",
    "print(\"main tuple contains subsequence tuple:\", contains_subseq)"
   ]
  },
  {
   "cell_type": "markdown",
   "id": "c4d278f1",
   "metadata": {},
   "source": [
    "# 50.Create a tuple of alternating 1s and 0s of length n"
   ]
  },
  {
   "cell_type": "code",
   "execution_count": 17,
   "id": "15664980",
   "metadata": {},
   "outputs": [
    {
     "name": "stdout",
     "output_type": "stream",
     "text": [
      "tuple of altenating 1s and 0s: (0, 1, 0, 1, 0, 1, 0, 1, 0, 1)\n"
     ]
    }
   ],
   "source": [
    "# define the value of n\n",
    "n = 10\n",
    "\n",
    "# create a tuple of alternating 1st and 0s using a list comprehension\n",
    "alternating_tuple = tuple(i % 2 for i in range(n))\n",
    "\n",
    "# print the tuple of alternating 1st and 0s\n",
    "print(\"tuple of altenating 1s and 0s:\", alternating_tuple)"
   ]
  },
  {
   "cell_type": "markdown",
   "id": "07064549",
   "metadata": {},
   "source": [
    "# Set based problems"
   ]
  },
  {
   "cell_type": "markdown",
   "id": "d3019cea",
   "metadata": {},
   "source": [
    "# 1.Create a set with integers from 1 to 5"
   ]
  },
  {
   "cell_type": "code",
   "execution_count": 18,
   "id": "4749d801",
   "metadata": {},
   "outputs": [
    {
     "name": "stdout",
     "output_type": "stream",
     "text": [
      "{1, 2, 3, 4, 5}\n"
     ]
    }
   ],
   "source": [
    "# create an empt set\n",
    "my_set = set()\n",
    "\n",
    "# add integers from 1 to 5 to the set\n",
    "my_set.add(1)\n",
    "my_set.add(2)\n",
    "my_set.add(3)\n",
    "my_set.add(4)\n",
    "my_set.add(5)\n",
    "\n",
    "# print the final set\n",
    "print(my_set)"
   ]
  },
  {
   "cell_type": "markdown",
   "id": "2f9bc3b9",
   "metadata": {},
   "source": [
    "# 2. Add an element to a set"
   ]
  },
  {
   "cell_type": "code",
   "execution_count": 21,
   "id": "08e68e0a",
   "metadata": {},
   "outputs": [
    {
     "name": "stdout",
     "output_type": "stream",
     "text": [
      "origiinal set: {1, 2, 3, 4, 5}\n",
      "set after adding element: {1, 2, 3, 4, 5, 6}\n"
     ]
    }
   ],
   "source": [
    "# create a set\n",
    "my_set = {1, 2, 3, 4, 5}\n",
    "print(\"origiinal set:\", my_set)\n",
    "\n",
    "# add an element to the set\n",
    "element_to_add = 6\n",
    "my_set.add(element_to_add)\n",
    "\n",
    "# Display the modified set\n",
    "print(\"set after adding element:\", my_set)"
   ]
  },
  {
   "cell_type": "markdown",
   "id": "aed2778c",
   "metadata": {},
   "source": [
    "# 3.Remove an element from a set."
   ]
  },
  {
   "cell_type": "code",
   "execution_count": 22,
   "id": "16356d6d",
   "metadata": {},
   "outputs": [
    {
     "name": "stdout",
     "output_type": "stream",
     "text": [
      "original set: {1, 2, 3, 4, 5}\n",
      "set after removing 3 : {1, 2, 4, 5}\n"
     ]
    }
   ],
   "source": [
    "#create a set with some elements\n",
    "my_set = {1, 2, 3, 4, 5}\n",
    "\n",
    "# print the original set\n",
    "print(\"original set:\", my_set)\n",
    "\n",
    "# choose an element to remove\n",
    "element_to_remove = 3\n",
    "\n",
    "my_set.remove(element_to_remove)\n",
    "\n",
    "print(\"set after removing\", element_to_remove, \":\", my_set)"
   ]
  },
  {
   "cell_type": "markdown",
   "id": "e5336bc0",
   "metadata": {},
   "source": [
    "# 4.Check if an element exists in a set."
   ]
  },
  {
   "cell_type": "code",
   "execution_count": 1,
   "id": "4e47c816",
   "metadata": {},
   "outputs": [
    {
     "name": "stdout",
     "output_type": "stream",
     "text": [
      "enetr the element to check:5\n",
      "5 exists in the set.\n"
     ]
    }
   ],
   "source": [
    "# create a set with some elements\n",
    "my_set = {1, 3, 3, 5, 6, 7, 2, 8, 9, 5, 5, 7, 9}\n",
    "\n",
    "# ask for user for the element they want to check\n",
    "element_to_check = int(input(\"enetr the element to check:\"))\n",
    "\n",
    "# use the \"in\" keyword to check if the element exists in the set\n",
    "if element_to_check in my_set:\n",
    "    \n",
    "    print(f\"{element_to_check} exists in the set.\")\n",
    "else:\n",
    "    print(f\"{element_to_check} dose not exist in the set.\")      \n",
    "          "
   ]
  },
  {
   "cell_type": "markdown",
   "id": "26dfed2d",
   "metadata": {},
   "source": [
    "# 5.Find the length of a set without using the len() function"
   ]
  },
  {
   "cell_type": "code",
   "execution_count": 2,
   "id": "e7a42c87",
   "metadata": {},
   "outputs": [
    {
     "name": "stdout",
     "output_type": "stream",
     "text": [
      "length of the set: 8\n"
     ]
    }
   ],
   "source": [
    "# create a set with some elements\n",
    "my_set = {1, 2, 3, 4, 5, 6, 7, 8}\n",
    "\n",
    "# initialize a variable to count the elements in the set\n",
    "count = 0\n",
    "# iterate through each element in the set\n",
    "for _ in my_set:\n",
    "    count +=1\n",
    "print(\"length of the set:\", count)    "
   ]
  },
  {
   "cell_type": "markdown",
   "id": "4f4c2b38",
   "metadata": {},
   "source": [
    "# 6.Clear all elements from a set."
   ]
  },
  {
   "cell_type": "code",
   "execution_count": 3,
   "id": "3273585f",
   "metadata": {},
   "outputs": [
    {
     "name": "stdout",
     "output_type": "stream",
     "text": [
      "original set: {1, 2, 3, 4, 5, 6}\n",
      "set after clearing: set()\n"
     ]
    }
   ],
   "source": [
    "# create a set with some elements\n",
    "my_set = {1, 2, 4, 5, 6, 3}\n",
    "\n",
    "# display the original set\n",
    "print(\"original set:\", my_set)\n",
    "\n",
    "# clear all elemets from the set using the clear() method\n",
    "my_set.clear()\n",
    "\n",
    "# Display the set after clearing\n",
    "print(\"set after clearing:\", my_set)"
   ]
  },
  {
   "cell_type": "markdown",
   "id": "d73581ae",
   "metadata": {},
   "source": [
    "# 7.Create a set of even numbers from 1 to 10"
   ]
  },
  {
   "cell_type": "code",
   "execution_count": 5,
   "id": "5d830e76",
   "metadata": {},
   "outputs": [
    {
     "name": "stdout",
     "output_type": "stream",
     "text": [
      "{2, 4, 6, 8, 10}\n"
     ]
    }
   ],
   "source": [
    "# initialize an empty set\n",
    "even_number_set = set()\n",
    "\n",
    "# iterate thought numbers from 1 to 10\n",
    "for num in range(1, 11):\n",
    "    if num % 2 == 0:\n",
    "        even_number_set.add(num)\n",
    "        \n",
    "print(even_number_set)        "
   ]
  },
  {
   "cell_type": "markdown",
   "id": "68fb6b65",
   "metadata": {},
   "source": [
    "# 8.Create a set of odd numbers from 1 to 10"
   ]
  },
  {
   "cell_type": "code",
   "execution_count": 6,
   "id": "e1b22573",
   "metadata": {},
   "outputs": [
    {
     "name": "stdout",
     "output_type": "stream",
     "text": [
      "{1, 3, 5, 7, 9}\n"
     ]
    }
   ],
   "source": [
    "# initialize an empty set to store add numbers\n",
    "odd_numbers_set = set()\n",
    "\n",
    "# iterate though numbers from 1 to 10\n",
    "for num in range(1, 11):\n",
    "    if num % 2 !=0:\n",
    "        odd_numbers_set.add(num)\n",
    "        \n",
    "print(odd_numbers_set)        "
   ]
  },
  {
   "cell_type": "markdown",
   "id": "783151b2",
   "metadata": {},
   "source": [
    "# 9.Find the union of two sets"
   ]
  },
  {
   "cell_type": "code",
   "execution_count": 7,
   "id": "e58a0e56",
   "metadata": {},
   "outputs": [
    {
     "name": "stdout",
     "output_type": "stream",
     "text": [
      "set 1: {1, 2, 3, 4, 5}\n",
      "set 2: {4, 5, 6, 7, 8}\n",
      "union of set 1 and set 2: {1, 2, 3, 4, 5, 6, 7, 8}\n"
     ]
    }
   ],
   "source": [
    "# define two sets\n",
    "set1 = {1, 2, 3, 4, 5}\n",
    "set2 = {4, 5, 6, 7, 8}\n",
    "\n",
    "# find the union of the two sets using the 'union()' method\n",
    "union_result = set1.union(set2)\n",
    "\n",
    "# print the original sets and their union\n",
    "print(\"set 1:\", set1)\n",
    "print(\"set 2:\", set2)\n",
    "print(\"union of set 1 and set 2:\", union_result)"
   ]
  },
  {
   "cell_type": "markdown",
   "id": "1ac14730",
   "metadata": {},
   "source": [
    "# 10.Find the intersection of two sets"
   ]
  },
  {
   "cell_type": "code",
   "execution_count": 8,
   "id": "7a1aeb50",
   "metadata": {},
   "outputs": [
    {
     "name": "stdout",
     "output_type": "stream",
     "text": [
      "set 1: {1, 2, 3, 4, 5, 6, 7, 8}\n",
      "set 2: {9, 10, 11, 12, 13, 14, 15, 16}\n",
      "intersection: set()\n"
     ]
    }
   ],
   "source": [
    "# create two sets\n",
    "set1 = {1, 2, 3, 4, 5, 6, 7, 8}\n",
    "set2 = {9, 10, 11, 12, 13, 14, 15, 16}\n",
    "\n",
    "\n",
    "# find the intersection using the intersection() method\n",
    "intersection_result=set1.intersection(set2)\n",
    "\n",
    "# print the original sets and the intersection\n",
    "print(\"set 1:\", set1)\n",
    "print(\"set 2:\", set2)\n",
    "print(\"intersection:\", intersection_result)"
   ]
  },
  {
   "cell_type": "markdown",
   "id": "dd9654b0",
   "metadata": {},
   "source": [
    "# 11.Find the difference between two sets."
   ]
  },
  {
   "cell_type": "code",
   "execution_count": 9,
   "id": "c7bdf55a",
   "metadata": {},
   "outputs": [
    {
     "name": "stdout",
     "output_type": "stream",
     "text": [
      "set 1: {1, 2, 3, 4, 5}\n",
      "set 2: {3, 4, 5, 6, 7}\n",
      "difference: {1, 2}\n"
     ]
    }
   ],
   "source": [
    "# create two sets\n",
    "set1 = {1, 2, 3, 4, 5}\n",
    "set2 = {3, 4, 5, 6, 7}\n",
    "\n",
    "# find the differe nce between the sets using the difference() method\n",
    "difference_set = set1.difference(set2)\n",
    "\n",
    "# print the original sets and the difference set\n",
    "print(\"set 1:\", set1)\n",
    "print(\"set 2:\", set2)\n",
    "print(\"difference:\", difference_set)"
   ]
  },
  {
   "cell_type": "markdown",
   "id": "850e4ce2",
   "metadata": {},
   "source": [
    "# 12.Check if a set is a subset of another set."
   ]
  },
  {
   "cell_type": "code",
   "execution_count": 10,
   "id": "ef47f014",
   "metadata": {},
   "outputs": [
    {
     "name": "stdout",
     "output_type": "stream",
     "text": [
      "is set1 a subset of set2: True\n"
     ]
    }
   ],
   "source": [
    "# define the two sets\n",
    "set1 = {1, 2, 3}\n",
    "set2 = {1, 2, 3, 4, 5, 6,7}\n",
    "\n",
    "# use the \"issubset()\" method to check if set1 is a subset of set2\n",
    "is_subset = set1.issubset(set2)\n",
    "\n",
    "# print the result\n",
    "print(\"is set1 a subset of set2:\", is_subset)"
   ]
  },
  {
   "cell_type": "markdown",
   "id": "2b106fe3",
   "metadata": {},
   "source": [
    "# 13.Check if a set is a superset of another set."
   ]
  },
  {
   "cell_type": "code",
   "execution_count": 13,
   "id": "5a24bedf",
   "metadata": {},
   "outputs": [
    {
     "name": "stdout",
     "output_type": "stream",
     "text": [
      "ste1 is a superset of set2\n"
     ]
    }
   ],
   "source": [
    "# create two sets\n",
    "set1 = {1, 2, 3, 4, 5, 6}\n",
    "set2 = {3, 4}\n",
    "\n",
    "# check if set1 is a superset of set2\n",
    "is_superset = set1.issuperset(set2)\n",
    "\n",
    "# print the result\n",
    "if is_superset:\n",
    "    print(\"ste1 is a superset of set2\")\n",
    "else:\n",
    "    print(\"set1 is not a superset of set2\")"
   ]
  },
  {
   "cell_type": "markdown",
   "id": "22bf333a",
   "metadata": {},
   "source": [
    "# 14.Create a set from a list"
   ]
  },
  {
   "cell_type": "code",
   "execution_count": 14,
   "id": "c7f94bf3",
   "metadata": {},
   "outputs": [
    {
     "name": "stdout",
     "output_type": "stream",
     "text": [
      "original list: [2, 4, 1, 4, 3, 2, 5]\n",
      "set from list: {1, 2, 3, 4, 5}\n"
     ]
    }
   ],
   "source": [
    "# create a list of elements\n",
    "my_list = [2, 4, 1, 4, 3, 2, 5]\n",
    "\n",
    "my_set = set(my_list)\n",
    "\n",
    "# print the original list and the resulting set\n",
    "print(\"original list:\", my_list)\n",
    "print(\"set from list:\", my_set)"
   ]
  },
  {
   "cell_type": "markdown",
   "id": "01a0576c",
   "metadata": {},
   "source": [
    "# 15. Convert a set to a list"
   ]
  },
  {
   "cell_type": "code",
   "execution_count": 15,
   "id": "25da8a35",
   "metadata": {},
   "outputs": [
    {
     "name": "stdout",
     "output_type": "stream",
     "text": [
      "original set: {1, 2, 3, 4, 5, 6, 9}\n",
      "converted list: [1, 2, 3, 4, 5, 6, 9]\n"
     ]
    }
   ],
   "source": [
    "# create a set with some elements\n",
    "my_set = {3, 1, 4, 1, 5, 9, 2, 6, 5}\n",
    "\n",
    "# convert the set to a list using the list() function\n",
    "my_list = list(my_set)\n",
    "\n",
    "# the list contains the elements from my_set in list format\n",
    "\n",
    "# print the original set and the converted list\n",
    "print(\"original set:\", my_set)\n",
    "print(\"converted list:\", my_list)"
   ]
  },
  {
   "cell_type": "markdown",
   "id": "7be9faaf",
   "metadata": {},
   "source": [
    "# 16.Remove a random element from a set"
   ]
  },
  {
   "cell_type": "code",
   "execution_count": 17,
   "id": "1bbae8ed",
   "metadata": {},
   "outputs": [
    {
     "name": "stdout",
     "output_type": "stream",
     "text": [
      "original set: {1, 2, 3, 4, 5}\n",
      "updated set after removing 5 : {1, 2, 3, 4}\n"
     ]
    }
   ],
   "source": [
    "import random\n",
    "\n",
    "my_set = {1, 2, 3, 4, 5}\n",
    "\n",
    "print(\"original set:\", my_set)\n",
    "\n",
    "random_element = random.choice(list(my_set))\n",
    "\n",
    "my_set.remove(random_element)\n",
    "\n",
    "print(\"updated set after removing\", random_element, \":\", my_set)"
   ]
  },
  {
   "cell_type": "markdown",
   "id": "50879da0",
   "metadata": {},
   "source": [
    "# 17. Pop an element from a set"
   ]
  },
  {
   "cell_type": "code",
   "execution_count": 18,
   "id": "70a72e12",
   "metadata": {},
   "outputs": [
    {
     "name": "stdout",
     "output_type": "stream",
     "text": [
      "original set: {1, 2, 3, 4, 5}\n",
      "popped element: 1\n",
      "set after popping: {2, 3, 4, 5}\n"
     ]
    }
   ],
   "source": [
    "# create a set with some elements\n",
    "my_set = {1, 2, 3, 4, 5}\n",
    "\n",
    "# print the original set\n",
    "print(\"original set:\", my_set)\n",
    "\n",
    "# pop an element from the set using the pop() method\n",
    "popped_element = my_set.pop()\n",
    "\n",
    "# print the element that was popped\n",
    "print(\"popped element:\", popped_element)\n",
    "\n",
    "# print the set after popping an elemnts\n",
    "print(\"set after popping:\", my_set)"
   ]
  },
  {
   "cell_type": "markdown",
   "id": "d6929329",
   "metadata": {},
   "source": [
    "# 18. Check if two sets have no elements in common"
   ]
  },
  {
   "cell_type": "code",
   "execution_count": 19,
   "id": "0e067265",
   "metadata": {},
   "outputs": [
    {
     "name": "stdout",
     "output_type": "stream",
     "text": [
      "the two sets have no elements in common.\n"
     ]
    }
   ],
   "source": [
    "# define two sets\n",
    "\n",
    "set1 = {1, 2, 3, 4}\n",
    "set2 = {5, 6, 7, 8}\n",
    "\n",
    "# check if the the intersection of the two sets is empty\n",
    "common_elements = set1.intersection(set2)\n",
    "\n",
    "# check if the common_elements set is empty\n",
    "if not common_elements:\n",
    "    print(\"the two sets have no elements in common.\")\n",
    "else:\n",
    "    print(\"the two sets have common elemnts:\", common_elements)"
   ]
  },
  {
   "cell_type": "markdown",
   "id": "d69432fb",
   "metadata": {},
   "source": [
    "# 19. Find the symmetric difference between two sets"
   ]
  },
  {
   "cell_type": "code",
   "execution_count": 20,
   "id": "bcd2562f",
   "metadata": {},
   "outputs": [
    {
     "name": "stdout",
     "output_type": "stream",
     "text": [
      "symmetric difference: {1, 2, 3, 6, 7, 8}\n"
     ]
    }
   ],
   "source": [
    "# define two sets\n",
    "set1 ={1, 2, 3, 4, 5}\n",
    "set2 = {4, 5, 6, 7, 8}\n",
    "\n",
    "# calculate the symmetric difference using the ^ operator\n",
    "symmetric_difference = set1 ^ set2\n",
    "\n",
    "# print the symmetric difference\n",
    "print(\"symmetric difference:\",symmetric_difference)"
   ]
  },
  {
   "cell_type": "markdown",
   "id": "7437035f",
   "metadata": {},
   "source": [
    "# 20.Update a set with elements from another set    "
   ]
  },
  {
   "cell_type": "code",
   "execution_count": 21,
   "id": "3e4db38d",
   "metadata": {},
   "outputs": [
    {
     "name": "stdout",
     "output_type": "stream",
     "text": [
      "set 1: {1, 2, 3}\n",
      "set 2: {3, 4, 5}\n",
      "updated set 1: {1, 2, 3, 4, 5}\n"
     ]
    }
   ],
   "source": [
    "# create the first set\n",
    "set1 = {1, 2, 3}\n",
    "print(\"set 1:\", set1)\n",
    "\n",
    "# create the second set \n",
    "set2 = {3, 4, 5}\n",
    "print(\"set 2:\", set2)\n",
    "\n",
    "# Update set1 with elements from set2 \n",
    "set1.update(set2)\n",
    "print(\"updated set 1:\", set1)"
   ]
  },
  {
   "cell_type": "markdown",
   "id": "5daf2ae6",
   "metadata": {},
   "source": [
    "# 21.Create a set of the first 5 prime numbers"
   ]
  },
  {
   "cell_type": "code",
   "execution_count": 22,
   "id": "86438d49",
   "metadata": {},
   "outputs": [
    {
     "name": "stdout",
     "output_type": "stream",
     "text": [
      "set of the first 5 prime numbers: {10}\n",
      "set of the first 5 prime numbers: {10, 11}\n",
      "set of the first 5 prime numbers: {10, 11, 12}\n",
      "set of the first 5 prime numbers: {10, 11, 12, 13}\n",
      "set of the first 5 prime numbers: {10, 11, 12, 13, 14}\n"
     ]
    }
   ],
   "source": [
    "# fucntion to check if a number is prime\n",
    "def is_prime(num):\n",
    "    if num <= 1:\n",
    "        return False\n",
    "    return True\n",
    "\n",
    "# Create an empty set to store the prime numbers\n",
    "prime_set = set()\n",
    "\n",
    "# initialize the number to start checking for primes\n",
    "num2 = 2\n",
    "\n",
    "# loop until we have found the first 5 prime numbers\n",
    "while len(prime_set) < 5:\n",
    "    # check if the current number is prime using the is_prime function\n",
    "    if is_prime(num):\n",
    "        #if the number is prime, add it to the prime_set\n",
    "        prime_set.add(num)\n",
    "        \n",
    "    # move on to the next number for the next iteration\n",
    "    num += 1\n",
    "    # print the set of prime numbers\n",
    "    print(\"set of the first 5 prime numbers:\", prime_set)"
   ]
  },
  {
   "cell_type": "markdown",
   "id": "52d3d2d0",
   "metadata": {},
   "source": [
    "# 22.Check if two sets are identical"
   ]
  },
  {
   "cell_type": "code",
   "execution_count": 25,
   "id": "f333816b",
   "metadata": {},
   "outputs": [
    {
     "name": "stdout",
     "output_type": "stream",
     "text": [
      "the sets are indentical.\n"
     ]
    }
   ],
   "source": [
    "# define two sets\n",
    "set1 = {1, 2, 3, 4, 5}\n",
    "set2 = {3, 1, 5, 2, 4}\n",
    "\n",
    "# the '==' operator compares the content of the sets\n",
    "if set1 == set2:\n",
    "    print(\"the sets are indentical.\")\n",
    "else:\n",
    "    print(\"the sets are not identical.\")"
   ]
  },
  {
   "cell_type": "markdown",
   "id": "4954b0b5",
   "metadata": {},
   "source": [
    "# 23.Create a frozen set"
   ]
  },
  {
   "cell_type": "code",
   "execution_count": 24,
   "id": "860fd9c8",
   "metadata": {},
   "outputs": [
    {
     "name": "stdout",
     "output_type": "stream",
     "text": [
      "frozen set: frozenset({1, 2, 3, 4, 5})\n"
     ]
    }
   ],
   "source": [
    "# Define a list of elements that you want to include in the frozen set \n",
    "elements = [1, 2, 3, 4, 5]\n",
    "\n",
    "# create a frozen set using the 'frozenset' constructor and passing the \n",
    "my_frozen_set = frozenset(elements)\n",
    "\n",
    "# print the frozen set\n",
    "print(\"frozen set:\", my_frozen_set)"
   ]
  },
  {
   "cell_type": "markdown",
   "id": "887c1389",
   "metadata": {},
   "source": [
    "# 24.Check if a set is disjoint with another set"
   ]
  },
  {
   "cell_type": "code",
   "execution_count": 27,
   "id": "c6aec415",
   "metadata": {},
   "outputs": [
    {
     "name": "stdout",
     "output_type": "stream",
     "text": [
      "are the sets disjoint? True\n"
     ]
    }
   ],
   "source": [
    "# define the two sets you want to check for disjointness\n",
    "set1 = {1, 2, 3, 4}\n",
    "set2 = {5, 6, 7, 8}\n",
    "\n",
    "disjoint_status = set1.isdisjoint(set2)\n",
    "\n",
    "print(\"are the sets disjoint?\", disjoint_status)"
   ]
  },
  {
   "cell_type": "markdown",
   "id": "f870aa04",
   "metadata": {},
   "source": [
    "# 25.Create a set of squares of numbers from 1 to 5"
   ]
  },
  {
   "cell_type": "code",
   "execution_count": 28,
   "id": "bf578cfa",
   "metadata": {},
   "outputs": [
    {
     "name": "stdout",
     "output_type": "stream",
     "text": [
      "{1, 4, 9, 16, 25}\n"
     ]
    }
   ],
   "source": [
    "# create an empty set to store the squares of numbers\n",
    "squares_set = set()\n",
    "\n",
    "# use a loop to iterate through numbers from 1 to 5\n",
    "for num in range(1, 6):\n",
    "    # calculate the square of the current number\n",
    "    square = num ** 2\n",
    "    \n",
    "    # add the square to the set\n",
    "    squares_set.add(square)\n",
    "    \n",
    "# print the set of squares\n",
    "print(squares_set)"
   ]
  },
  {
   "cell_type": "markdown",
   "id": "556aa4f2",
   "metadata": {},
   "source": [
    "# 26.Filter out all even numbers from a set"
   ]
  },
  {
   "cell_type": "code",
   "execution_count": 29,
   "id": "2d7417d2",
   "metadata": {},
   "outputs": [
    {
     "name": "stdout",
     "output_type": "stream",
     "text": [
      "original set: {1, 2, 3, 4, 5}\n",
      "even numbers set: {2, 4}\n"
     ]
    }
   ],
   "source": [
    "# create a set with integers from 1 to 5\n",
    "original_set = {1, 2, 3, 4, 5}\n",
    "\n",
    "# initialize an empty set to store the filtered even numbers\n",
    "even_numbers_set = set()\n",
    "\n",
    "# Iterate through each element in the original set\n",
    "for num in original_set:\n",
    "    # check if the current number is even(divisible by 2)\n",
    "    if num % 2 == 0:\n",
    "        # if even, add it to the even_numbers_set\n",
    "        even_numbers_set.add(num)\n",
    "        \n",
    "# print the original set and the set containing even numbers\n",
    "print(\"original set:\", original_set)\n",
    "print(\"even numbers set:\", even_numbers_set)"
   ]
  },
  {
   "cell_type": "markdown",
   "id": "baa401f6",
   "metadata": {},
   "source": [
    "# 27.Multiply all elements in a set by 2"
   ]
  },
  {
   "cell_type": "code",
   "execution_count": 31,
   "id": "564d082c",
   "metadata": {},
   "outputs": [
    {
     "name": "stdout",
     "output_type": "stream",
     "text": [
      "original set: {1, 2, 3, 4, 5}\n",
      "multiplied set: {2, 4, 6, 8, 10}\n"
     ]
    }
   ],
   "source": [
    "# create a set with integers from 1 to 5\n",
    "original_set = {1, 2, 3, 4, 5}\n",
    "\n",
    "# Initialize an empty set to strore the multipled elements\n",
    "multiplied_set = set()\n",
    "\n",
    "# loop through each elemnt in the original set\n",
    "for num in original_set:\n",
    "    multiplied_num = num * 2\n",
    "    \n",
    "    # add the multiplied element to the multiplied_set\n",
    "    multiplied_set.add(multiplied_num)\n",
    "    \n",
    "# the original_set remains unchanged\n",
    "print(\"original set:\", original_set)\n",
    "\n",
    "# display the set with elements multiplied by 2\n",
    "print(\"multiplied set:\", multiplied_set)"
   ]
  },
  {
   "cell_type": "markdown",
   "id": "d22c837d",
   "metadata": {},
   "source": [
    "# 28.Create a set of random numbers"
   ]
  },
  {
   "cell_type": "code",
   "execution_count": 32,
   "id": "5d7586b0",
   "metadata": {},
   "outputs": [
    {
     "name": "stdout",
     "output_type": "stream",
     "text": [
      "generated set of random numbers: {37, 39, 10, 49, 22}\n"
     ]
    }
   ],
   "source": [
    "import random\n",
    "num_random_numbers= 5\n",
    "random_number_set = set()\n",
    "for _ in range(num_random_numbers):\n",
    "    random_num = random.randint(1, 100)\n",
    "    random_number_set.add(random_num)\n",
    "print(\"generated set of random numbers:\", random_number_set)    "
   ]
  },
  {
   "cell_type": "markdown",
   "id": "794f735b",
   "metadata": {},
   "source": [
    "# 29.Check if a set is empty"
   ]
  },
  {
   "cell_type": "code",
   "execution_count": 33,
   "id": "a45ebe53",
   "metadata": {},
   "outputs": [
    {
     "name": "stdout",
     "output_type": "stream",
     "text": [
      "the set is empty.\n"
     ]
    }
   ],
   "source": [
    "# create a set (you can replace this with your own set )\n",
    "my_set = set()\n",
    "\n",
    "# check if the set is empty using the 'if' statement\n",
    "if not my_set:\n",
    "    print(\"the set is empty.\")\n",
    "else:\n",
    "    print(\"the set is not empty.\")"
   ]
  },
  {
   "cell_type": "markdown",
   "id": "42b7ea90",
   "metadata": {},
   "source": [
    "# 30. Create a nested set (hint: use frozenset)"
   ]
  },
  {
   "cell_type": "code",
   "execution_count": 34,
   "id": "474da180",
   "metadata": {},
   "outputs": [
    {
     "name": "stdout",
     "output_type": "stream",
     "text": [
      "nested set: {frozenset({1, 2, 3, 4, 5}), frozenset({6, 7, 8, 9, 10})}\n"
     ]
    }
   ],
   "source": [
    "# create the inner sets\n",
    "set1 = {1, 2, 3, 4, 5}\n",
    "set2 = {6, 7, 8, 9, 10}\n",
    "\n",
    "#creat frozensets from the inner sets\n",
    "frozen_set1 = frozenset(set1)\n",
    "frozen_set2 = frozenset(set2)\n",
    "\n",
    "# create the nested set using the frozensets\n",
    "nested_set = { frozen_set1, frozen_set2}\n",
    "\n",
    "# print the nested set\n",
    "print(\"nested set:\", nested_set)"
   ]
  },
  {
   "cell_type": "markdown",
   "id": "51e00894",
   "metadata": {},
   "source": [
    "# 31.Remove an element from a set using the discard method"
   ]
  },
  {
   "cell_type": "code",
   "execution_count": 2,
   "id": "ea677847",
   "metadata": {},
   "outputs": [
    {
     "name": "stdout",
     "output_type": "stream",
     "text": [
      "Initial set: {1, 2, 3, 4, 5}\n",
      "set afetr removing 3 : {1, 2, 4, 5}\n"
     ]
    }
   ],
   "source": [
    "# create a set with some elements\n",
    "my_set = {1, 2, 3, 4, 5}\n",
    "\n",
    "# display the initial set\n",
    "print(\"Initial set:\", my_set)\n",
    "\n",
    "# define the elemet to be removed\n",
    "element_to_remove = 3\n",
    "\n",
    "# use the discard() method to remove the element from the set \n",
    "my_set.discard(element_to_remove)\n",
    "\n",
    "# diaplay the set afetr removing the element\n",
    "print(\"set afetr removing\", element_to_remove, \":\", my_set)"
   ]
  },
  {
   "cell_type": "markdown",
   "id": "0c70faac",
   "metadata": {},
   "source": [
    "# 32.Compare two sets."
   ]
  },
  {
   "cell_type": "code",
   "execution_count": 3,
   "id": "b67a8963",
   "metadata": {},
   "outputs": [
    {
     "name": "stdout",
     "output_type": "stream",
     "text": [
      "Set 1: {1, 2, 3, 4, 5}\n",
      "Set 2: {4, 5, 6, 7, 8}\n",
      "Is set1 a subset of set2? False\n",
      "Is set2 a subset of set1? False\n",
      "Intersection: {4, 5}\n",
      "Union: {1, 2, 3, 4, 5, 6, 7, 8}\n",
      "Elements in set1 but not in set2: {1, 2, 3}\n",
      "Elements in set2 but not in set1: {8, 6, 7}\n"
     ]
    }
   ],
   "source": [
    "# Step 1: Define two sets\n",
    "set1 = {1, 2, 3, 4, 5}\n",
    "set2 = {4, 5, 6, 7, 8}\n",
    "\n",
    "# Step 2: Use set operations to compare the sets\n",
    "# Check if set1 is a subset of set2\n",
    "is_subset = set1.issubset(set2)\n",
    "\n",
    "# Check if set2 is a subset of set1\n",
    "is_superset = set1.issuperset(set2)\n",
    "\n",
    "# Find the intersection of the sets\n",
    "intersection = set1.intersection(set2)\n",
    "\n",
    "# Find the union of the sets\n",
    "union = set1.union(set2)\n",
    "\n",
    "# Find the elements that are in set1 but not in set2\n",
    "difference1 = set1.difference(set2)\n",
    "\n",
    "# Find the elements that are in set2 but not in set1\n",
    "difference2 = set2.difference(set1)\n",
    "\n",
    "# Step 3: Print the results\n",
    "print(\"Set 1:\", set1)\n",
    "print(\"Set 2:\", set2)\n",
    "print(\"Is set1 a subset of set2?\", is_subset)\n",
    "print(\"Is set2 a subset of set1?\", is_superset)\n",
    "print(\"Intersection:\", intersection)\n",
    "print(\"Union:\", union)\n",
    "print(\"Elements in set1 but not in set2:\", difference1)\n",
    "print(\"Elements in set2 but not in set1:\", difference2)"
   ]
  },
  {
   "cell_type": "markdown",
   "id": "e677969b",
   "metadata": {},
   "source": [
    "# 33. Create a set from a string."
   ]
  },
  {
   "cell_type": "code",
   "execution_count": 4,
   "id": "64b6029e",
   "metadata": {},
   "outputs": [
    {
     "name": "stdout",
     "output_type": "stream",
     "text": [
      "{'e', 'o', 'h', 'l'}\n"
     ]
    }
   ],
   "source": [
    "# Step 1: Define the input string\n",
    "input_string = \"hello\"\n",
    "\n",
    "# Step 2: Use the set() constructor to create a set from the characters in the string\n",
    "char_set = set(input_string)\n",
    "\n",
    "# Step 3: Print the resulting set\n",
    "print(char_set)"
   ]
  },
  {
   "cell_type": "markdown",
   "id": "6c557133",
   "metadata": {},
   "source": [
    "# 34. Convert a set of strings to a set of integers."
   ]
  },
  {
   "cell_type": "code",
   "execution_count": 5,
   "id": "e3c8acfb",
   "metadata": {},
   "outputs": [
    {
     "name": "stdout",
     "output_type": "stream",
     "text": [
      "Original String Set: {'456', '789', '123'}\n",
      "Converted Integer Set: {456, 123, 789}\n"
     ]
    }
   ],
   "source": [
    "# Step 1: Create a set of strings\n",
    "string_set = {\"123\", \"456\", \"789\"}\n",
    "\n",
    "# Step 2: Initialize an empty set to store integers\n",
    "integer_set = set()\n",
    "\n",
    "# Step 3: Iterate through each string in the string set\n",
    "for string in string_set:\n",
    "    # Step 4: Convert the string to an integer using the int() function\n",
    "    integer_value = int(string)\n",
    "\n",
    "    # Step 5: Add the integer to the integer set\n",
    "    integer_set.add(integer_value)\n",
    "\n",
    "# Step 6: Print the original string set and the converted integer set\n",
    "print(\"Original String Set:\", string_set)\n",
    "print(\"Converted Integer Set:\", integer_set)"
   ]
  },
  {
   "cell_type": "markdown",
   "id": "7d926699",
   "metadata": {},
   "source": [
    "# 35. Convert a set of integers to a set of strings."
   ]
  },
  {
   "cell_type": "code",
   "execution_count": 6,
   "id": "72a4a871",
   "metadata": {},
   "outputs": [
    {
     "name": "stdout",
     "output_type": "stream",
     "text": [
      "Original integers_set: {1, 2, 3, 4, 5}\n",
      "Converted strings_set: {'2', '3', '4', '5', '1'}\n"
     ]
    }
   ],
   "source": [
    "# Step 1: Create a set of integers\n",
    "integers_set = {1, 2, 3, 4, 5}\n",
    "\n",
    "# Step 2: Initialize an empty set to store the strings\n",
    "strings_set = set()\n",
    "\n",
    "# Step 3: Iterate through each integer in the integers_set\n",
    "for num in integers_set:\n",
    "    # Step 4: Convert the integer to a string using the str() function\n",
    "    num_str = str(num)\n",
    "\n",
    "    # Step 5: Add the string representation to the strings_set\n",
    "    strings_set.add(num_str)\n",
    "\n",
    "# Step 6: Print the original integers_set and the converted strings_set\n",
    "print(\"Original integers_set:\", integers_set)\n",
    "print(\"Converted strings_set:\", strings_set)"
   ]
  },
  {
   "cell_type": "markdown",
   "id": "74c91eee",
   "metadata": {},
   "source": [
    "# 36. Create a set from a tuple."
   ]
  },
  {
   "cell_type": "code",
   "execution_count": 7,
   "id": "c36675f2",
   "metadata": {},
   "outputs": [
    {
     "name": "stdout",
     "output_type": "stream",
     "text": [
      "{1, 2, 3, 4, 5}\n"
     ]
    }
   ],
   "source": [
    "# Given tuple\n",
    "input_tuple = (1, 2, 3, 2, 4, 5, 1)\n",
    "\n",
    "# Step 1: Convert the tuple to a set\n",
    "output_set = set(input_tuple)\n",
    "# At this point, the set() function is used to convert the elements of the tuple into a set.\n",
    "# Since sets only contain unique elements, duplicate values are automatically removed.\n",
    "\n",
    "# Step 2: Print the resulting set\n",
    "print(output_set)\n",
    "# The set is now printed, and it will only contain the unique elements from the original tuple."
   ]
  },
  {
   "cell_type": "markdown",
   "id": "92d3db5e",
   "metadata": {},
   "source": [
    "# 37. Convert a set to a tuple."
   ]
  },
  {
   "cell_type": "code",
   "execution_count": 8,
   "id": "2c4b3be7",
   "metadata": {},
   "outputs": [
    {
     "name": "stdout",
     "output_type": "stream",
     "text": [
      "Original set: {1, 2, 3, 4, 5}\n",
      "Converted tuple: (1, 2, 3, 4, 5)\n"
     ]
    }
   ],
   "source": [
    "# Step 1: Create a set\n",
    "input_set = {1, 2, 3, 4, 5}\n",
    "\n",
    "# Step 2: Convert the set to a tuple\n",
    "output_tuple = tuple(input_set)\n",
    "\n",
    "# Step 3: Print the original set and the converted tuple\n",
    "print(\"Original set:\", input_set)\n",
    "print(\"Converted tuple:\", output_tuple)"
   ]
  },
  {
   "cell_type": "markdown",
   "id": "1ffe5aee",
   "metadata": {},
   "source": [
    "# 38.Find the maximum value in a set."
   ]
  },
  {
   "cell_type": "code",
   "execution_count": 9,
   "id": "24ce732a",
   "metadata": {},
   "outputs": [
    {
     "name": "stdout",
     "output_type": "stream",
     "text": [
      "Maximum value: 22\n"
     ]
    }
   ],
   "source": [
    "# Define a set with some values\n",
    "my_set = {15, 7, 22, 13, 8}\n",
    "\n",
    "# Initialize a variable to store the maximum value\n",
    "max_value = None\n",
    "\n",
    "# Iterate through each element in the set\n",
    "for num in my_set:\n",
    "    # Check if max_value is None (first iteration) or if the current number is greater than max_value\n",
    "    if max_value is None or num > max_value:\n",
    "        max_value = num  # Update max_value with the current number if it's greater\n",
    "\n",
    "# Print the maximum value\n",
    "print(\"Maximum value:\", max_value)"
   ]
  },
  {
   "cell_type": "markdown",
   "id": "7fb76ac9",
   "metadata": {},
   "source": [
    "# 39.Find the minimum value in a set."
   ]
  },
  {
   "cell_type": "code",
   "execution_count": 10,
   "id": "a2c0c83d",
   "metadata": {},
   "outputs": [
    {
     "name": "stdout",
     "output_type": "stream",
     "text": [
      "The minimum value in the set is: 4\n"
     ]
    }
   ],
   "source": [
    "# Create a sample set of numbers\n",
    "number_set = {15, 8, 23, 4, 42, 11}\n",
    "\n",
    "# Initialize a variable to store the minimum value\n",
    "min_value = None\n",
    "\n",
    "# Iterate through each element in the set\n",
    "for num in number_set:\n",
    "    # Check if min_value is None (first iteration) or if num is smaller than the current min_value\n",
    "    if min_value is None or num < min_value:\n",
    "        # Update min_value to the current num since it's smaller\n",
    "        min_value = num\n",
    "\n",
    "# Print the minimum value found in the set\n",
    "print(\"The minimum value in the set is:\", min_value)"
   ]
  },
  {
   "cell_type": "markdown",
   "id": "c927ef42",
   "metadata": {},
   "source": [
    "# 40.Create a set from user input."
   ]
  },
  {
   "cell_type": "code",
   "execution_count": 12,
   "id": "b8fde6a3",
   "metadata": {},
   "outputs": [
    {
     "name": "stdout",
     "output_type": "stream",
     "text": [
      "Enter elements for the set (type 'done' to finish):\n",
      "> pw skill, pwskills, hi\n",
      "> hi\n",
      "> done\n",
      "Final set: {'hi', 'pw skill, pwskills, hi'}\n"
     ]
    }
   ],
   "source": [
    "# Step 1: Initialize an empty set\n",
    "user_set = set()\n",
    "\n",
    "# Step 2: Get input from the user\n",
    "print(\"Enter elements for the set (type 'done' to finish):\")\n",
    "while True:\n",
    "    user_input = input(\"> \")  # Get input from the user\n",
    "\n",
    "    if user_input.lower() == 'done':\n",
    "        break  # Exit the loop if the user enters 'done'\n",
    "\n",
    "    # Step 3: Add the user input to the set\n",
    "    user_set.add(user_input)\n",
    "\n",
    "# Step 4: Display the final set created from user input\n",
    "print(\"Final set:\", user_set)"
   ]
  },
  {
   "cell_type": "markdown",
   "id": "ddfc73f8",
   "metadata": {},
   "source": [
    "# 41.Check if the intersection of two sets is empty."
   ]
  },
  {
   "cell_type": "code",
   "execution_count": 13,
   "id": "62128bc5",
   "metadata": {},
   "outputs": [
    {
     "name": "stdout",
     "output_type": "stream",
     "text": [
      "The intersection of the two sets is not empty.\n"
     ]
    }
   ],
   "source": [
    "# Step 1: Define two sets\n",
    "set1 = {1, 2, 3, 4, 5}\n",
    "set2 = {4, 5, 6, 7, 8}\n",
    "\n",
    "# Step 2: Find the intersection of the two sets using the `intersection()` method\n",
    "intersection_result = set1.intersection(set2)\n",
    "\n",
    "# Step 3: Check if the intersection result is empty\n",
    "if not intersection_result:\n",
    "    print(\"The intersection of the two sets is empty.\")\n",
    "else:\n",
    "    print(\"The intersection of the two sets is not empty.\")"
   ]
  },
  {
   "cell_type": "markdown",
   "id": "52945a11",
   "metadata": {},
   "source": [
    "# 42. Create a set of the first 5 Fibonacci numbers."
   ]
  },
  {
   "cell_type": "code",
   "execution_count": 15,
   "id": "43e91488",
   "metadata": {},
   "outputs": [
    {
     "name": "stdout",
     "output_type": "stream",
     "text": [
      "Set of the first 5 Fibonacci numbers: {0, 1, 2, 3, 5}\n"
     ]
    }
   ],
   "source": [
    "# Create a set to store the first 5 Fibonacci numbers\n",
    "fibonacci_set = set()\n",
    "\n",
    "# Initialize the first two Fibonacci numbers\n",
    "a, b = 0, 1\n",
    "\n",
    "# Loop to generate the first 5 Fibonacci numbers\n",
    "for _ in range(6):\n",
    "    # Add the current Fibonacci number to the set\n",
    "    fibonacci_set.add(a)\n",
    "\n",
    "    # Calculate the next Fibonacci number\n",
    "    a, b = b, a + b\n",
    "\n",
    "# Print the set of Fibonacci numbers\n",
    "print(\"Set of the first 5 Fibonacci numbers:\", fibonacci_set)"
   ]
  },
  {
   "cell_type": "markdown",
   "id": "072ec5f4",
   "metadata": {},
   "source": [
    "# 43.Remove duplicates from a list using sets."
   ]
  },
  {
   "cell_type": "code",
   "execution_count": 16,
   "id": "32bd7f76",
   "metadata": {},
   "outputs": [
    {
     "name": "stdout",
     "output_type": "stream",
     "text": [
      "Original List: [2, 4, 6, 8, 4, 10, 6, 12, 14, 8]\n",
      "List with Duplicates Removed: [2, 4, 6, 8, 10, 12, 14]\n"
     ]
    }
   ],
   "source": [
    "# Step 1: Define a list with duplicates\n",
    "original_list = [2, 4, 6, 8, 4, 10, 6, 12, 14, 8]\n",
    "\n",
    "# Step 2: Convert the list to a set\n",
    "unique_set = set(original_list)\n",
    "# Now, 'unique_set' contains only unique elements from 'original_list'\n",
    "\n",
    "# Step 3: Convert the set back to a list\n",
    "unique_list = list(unique_set)\n",
    "# Now, 'unique_list' is a list containing only unique elements\n",
    "\n",
    "# Step 4: Print the original list and the list with duplicates removed\n",
    "print(\"Original List:\", original_list)\n",
    "print(\"List with Duplicates Removed:\", unique_list)"
   ]
  },
  {
   "cell_type": "markdown",
   "id": "a75f6a2d",
   "metadata": {},
   "source": [
    "# 44.Check if two sets have the same elements, regardless of their count."
   ]
  },
  {
   "cell_type": "code",
   "execution_count": 18,
   "id": "5c9c77a9",
   "metadata": {},
   "outputs": [
    {
     "name": "stdout",
     "output_type": "stream",
     "text": [
      "The sets have the same elements.\n"
     ]
    }
   ],
   "source": [
    "def have_same_elements(set1, set2):\n",
    "    # Convert the sets to lists and sort them\n",
    "    sorted_list1 = sorted(list(set1))\n",
    "    sorted_list2 = sorted(list(set2))\n",
    "\n",
    "    # Compare the sorted lists to check if they are equal\n",
    "    return sorted_list1 == sorted_list2\n",
    "\n",
    "# Example sets\n",
    "set1 = {1, 2, 3, 2, 1}\n",
    "set2 = {3, 1, 2}\n",
    "\n",
    "# Check if the sets have the same elements\n",
    "result = have_same_elements(set1, set2)\n",
    "\n",
    "# Print the result\n",
    "if result:\n",
    "    print(\"The sets have the same elements.\")\n",
    "else:\n",
    "    print(\"The sets do not have the same elements.\")"
   ]
  },
  {
   "cell_type": "markdown",
   "id": "6d4e7c0b",
   "metadata": {},
   "source": [
    "# 45.Create a set of the first n powers of 2."
   ]
  },
  {
   "cell_type": "code",
   "execution_count": 22,
   "id": "1c3d59a6",
   "metadata": {},
   "outputs": [
    {
     "name": "stdout",
     "output_type": "stream",
     "text": [
      "{1, 2, 4, 8, 16}\n"
     ]
    }
   ],
   "source": [
    "def generate_powers_of_2(n):\n",
    "\n",
    "    # Initialize an empty set to store the powers of 2\n",
    "    powers_of_2 = set()\n",
    "\n",
    "    # Loop from 0 to n-1\n",
    "    for i in range(n):\n",
    "        # Calculate the current power of 2 using the exponentiation operator **\n",
    "        power = 2 ** i\n",
    "\n",
    "        # Add the current power of 2 to the set\n",
    "        powers_of_2.add(power)\n",
    "\n",
    "    # Return the set of powers of 2\n",
    "    return powers_of_2\n",
    "\n",
    "# Define the value of n\n",
    "n = 5\n",
    "\n",
    "# Call the function to generate the set of powers of 2\n",
    "powers_set = generate_powers_of_2(n)\n",
    "\n",
    "# Print the resulting set\n",
    "print(powers_set)"
   ]
  },
  {
   "cell_type": "markdown",
   "id": "91155fae",
   "metadata": {},
   "source": [
    "# 46.Find the common elements between a set and a list."
   ]
  },
  {
   "cell_type": "code",
   "execution_count": 23,
   "id": "a5fa2091",
   "metadata": {},
   "outputs": [
    {
     "name": "stdout",
     "output_type": "stream",
     "text": [
      "Common elements: [7, 9, 12]\n"
     ]
    }
   ],
   "source": [
    "# Step 1: Define a set and a list\n",
    "my_set = {3, 7, 9, 12, 15}\n",
    "my_list = [7, 12, 5, 9]\n",
    "\n",
    "# Step 2: Convert the list to a set for efficient comparison\n",
    "list_to_set = set(my_list)\n",
    "\n",
    "# Step 3: Initialize an empty list to store common elements\n",
    "common_elements = []\n",
    "\n",
    "# Step 4: Iterate through the elements in the set\n",
    "for element in my_set:\n",
    "    # Step 5: Check if the element is present in the converted set (list_to_set)\n",
    "    if element in list_to_set:\n",
    "        # Step 6: If the element is present in both the set and the list, add it to the common_elements list\n",
    "        common_elements.append(element)\n",
    "\n",
    "# Step 7: Print the common elements\n",
    "print(\"Common elements:\", common_elements)"
   ]
  },
  {
   "cell_type": "markdown",
   "id": "2887ec25",
   "metadata": {},
   "source": [
    "# 47.create a set of the first n triangular numbers."
   ]
  },
  {
   "cell_type": "code",
   "execution_count": 24,
   "id": "929ff8ce",
   "metadata": {},
   "outputs": [
    {
     "name": "stdout",
     "output_type": "stream",
     "text": [
      "Enter the value of n: 11\n",
      "The set of the first 11 triangular numbers is: {1, 66, 3, 36, 6, 10, 45, 15, 21, 55, 28}\n"
     ]
    }
   ],
   "source": [
    "def generate_triangular_numbers(n):\n",
    "    triangular_numbers = set()  # Create an empty set to store the triangular numbers\n",
    "    for i in range(1, n + 1):\n",
    "        triangular_number = i * (i + 1) // 2  # Calculate the ith triangular number using the formula\n",
    "        triangular_numbers.add(triangular_number)  # Add the calculated triangular number to the set\n",
    "    return triangular_numbers\n",
    "\n",
    "# Input the value of 'n'\n",
    "n = int(input(\"Enter the value of n: \"))\n",
    "\n",
    "# Call the function to generate the set of first 'n' triangular numbers\n",
    "triangular_set = generate_triangular_numbers(n)\n",
    "\n",
    "# Display the set of triangular numbers\n",
    "print(f\"The set of the first {n} triangular numbers is:\", triangular_set)"
   ]
  },
  {
   "cell_type": "markdown",
   "id": "bc4825a2",
   "metadata": {},
   "source": [
    "# 48.Check if a set contains another set as a subset."
   ]
  },
  {
   "cell_type": "code",
   "execution_count": 25,
   "id": "7cda107b",
   "metadata": {},
   "outputs": [
    {
     "name": "stdout",
     "output_type": "stream",
     "text": [
      "set2 is a subset of set1\n"
     ]
    }
   ],
   "source": [
    "# Define two sets\n",
    "set1 = {1, 2, 3, 4, 5}\n",
    "set2 = {3, 4}\n",
    "\n",
    "# Check if set2 is a subset of set1\n",
    "is_subset = set2.issubset(set1)\n",
    "\n",
    "# Print the result\n",
    "if is_subset:\n",
    "    print(\"set2 is a subset of set1\")\n",
    "else:\n",
    "    print(\"set2 is not a subset of set1\")"
   ]
  },
  {
   "cell_type": "markdown",
   "id": "265b7283",
   "metadata": {},
   "source": [
    "# 49.Create a set of alternating 1s and 0s of length n."
   ]
  },
  {
   "cell_type": "code",
   "execution_count": 26,
   "id": "c92eaccf",
   "metadata": {},
   "outputs": [
    {
     "name": "stdout",
     "output_type": "stream",
     "text": [
      "{0, 1}\n"
     ]
    }
   ],
   "source": [
    "def create_alternating_set(n):\n",
    "    # Initialize an empty set to store the alternating sequence.\n",
    "    alternating_set = set()\n",
    "\n",
    "    # Loop to generate alternating 1s and 0s.\n",
    "    for i in range(n):\n",
    "        # Alternate between adding 1 and 0 to the set based on whether i is even or odd.\n",
    "        if i % 2 == 0:\n",
    "            alternating_set.add(1)  # Add 1 if i is even.\n",
    "        else:\n",
    "            alternating_set.add(0)  # Add 0 if i is odd.\n",
    "\n",
    "    return alternating_set\n",
    "\n",
    "# Define the desired length of the alternating set.\n",
    "length_n = 10\n",
    "\n",
    "# Call the function to create the alternating set of length 'length_n'.\n",
    "result = create_alternating_set(length_n)\n",
    "\n",
    "# Print the resulting set.\n",
    "print(result)"
   ]
  },
  {
   "cell_type": "markdown",
   "id": "8f46a885",
   "metadata": {},
   "source": [
    "# 50.Merge multiple sets into one."
   ]
  },
  {
   "cell_type": "code",
   "execution_count": 27,
   "id": "b6521014",
   "metadata": {},
   "outputs": [
    {
     "name": "stdout",
     "output_type": "stream",
     "text": [
      "Merged Set: {1, 2, 3, 4, 5, 6, 7}\n"
     ]
    }
   ],
   "source": [
    "# Step 1: Create multiple sets\n",
    "set1 = {1, 2, 3}\n",
    "set2 = {3, 4, 5}\n",
    "set3 = {5, 6, 7}\n",
    "\n",
    "# Step 2: Use the union() method to merge sets\n",
    "merged_set = set1.union(set2, set3)\n",
    "\n",
    "# Alternatively, you can use the | operator\n",
    "# merged_set = set1 | set2 | set3\n",
    "\n",
    "# Step 3: Print the merged set\n",
    "print(\"Merged Set:\", merged_set)"
   ]
  },
  {
   "cell_type": "code",
   "execution_count": null,
   "id": "40b16cab",
   "metadata": {},
   "outputs": [],
   "source": []
  }
 ],
 "metadata": {
  "kernelspec": {
   "display_name": "Python 3 (ipykernel)",
   "language": "python",
   "name": "python3"
  },
  "language_info": {
   "codemirror_mode": {
    "name": "ipython",
    "version": 3
   },
   "file_extension": ".py",
   "mimetype": "text/x-python",
   "name": "python",
   "nbconvert_exporter": "python",
   "pygments_lexer": "ipython3",
   "version": "3.9.7"
  }
 },
 "nbformat": 4,
 "nbformat_minor": 5
}
